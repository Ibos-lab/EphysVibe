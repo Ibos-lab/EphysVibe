{
 "cells": [
  {
   "cell_type": "code",
   "execution_count": 9,
   "metadata": {},
   "outputs": [],
   "source": [
    "import numpy as np\n",
    "from matplotlib import pyplot as plt\n",
    "import seaborn as sns\n",
    "from scipy import signal,stats\n",
    "import pandas as pd\n",
    "from typing import Dict\n",
    "from collections import defaultdict\n",
    "from ephysvibe.trials.spikes import firing_rate,sp_constants,plot_raster\n",
    "from ephysvibe.trials import select_trials\n",
    "from ephysvibe.spike_sorting import config\n",
    "from ephysvibe.structures.trials_data import TrialsData\n",
    "from ephysvibe.analysis import raw_ch\n",
    "from ephysvibe.task import task_constants,def_task\n",
    "import os, glob"
   ]
  },
  {
   "cell_type": "markdown",
   "metadata": {},
   "source": [
    "## Load data"
   ]
  },
  {
   "cell_type": "code",
   "execution_count": 10,
   "metadata": {},
   "outputs": [],
   "source": [
    "directory=\"/envau/work/invibe/USERS/IBOS/data/Riesling/TSCM/OpenEphys/plots2/detect_rf/lip\""
   ]
  },
  {
   "cell_type": "code",
   "execution_count": 11,
   "metadata": {},
   "outputs": [],
   "source": [
    "bhv_path = os.path.normpath(str(directory) + \"/*.csv\")\n",
    "bhv_path = glob.glob(bhv_path, recursive=True)"
   ]
  },
  {
   "cell_type": "code",
   "execution_count": 12,
   "metadata": {},
   "outputs": [
    {
     "data": {
      "text/plain": [
       "['/envau/work/invibe/USERS/IBOS/data/Riesling/TSCM/OpenEphys/plots2/detect_rf/lip/2023-01-20_11-00-24_Riesling_lip_e1_r1_neuron_12rf_coordinates.csv',\n",
       " '/envau/work/invibe/USERS/IBOS/data/Riesling/TSCM/OpenEphys/plots2/detect_rf/lip/2023-01-23_10-10-27_Riesling_lip_e1_r1_mua_4rf_coordinates.csv',\n",
       " '/envau/work/invibe/USERS/IBOS/data/Riesling/TSCM/OpenEphys/plots2/detect_rf/lip/2023-01-26_10-45-42_Riesling_lip_e1_r1_neuron_4rf_coordinates.csv',\n",
       " '/envau/work/invibe/USERS/IBOS/data/Riesling/TSCM/OpenEphys/plots2/detect_rf/lip/2023-02-08_10-39-41_Riesling_lip_e1_r1_mua_6rf_coordinates.csv',\n",
       " '/envau/work/invibe/USERS/IBOS/data/Riesling/TSCM/OpenEphys/plots2/detect_rf/lip/2023-02-09_10-42-54_Riesling_lip_e1_r1_mua_1rf_coordinates.csv',\n",
       " '/envau/work/invibe/USERS/IBOS/data/Riesling/TSCM/OpenEphys/plots2/detect_rf/lip/2023-02-24_10-43-44_Riesling_lip_e1_r1_neuron_2rf_coordinates.csv',\n",
       " '/envau/work/invibe/USERS/IBOS/data/Riesling/TSCM/OpenEphys/plots2/detect_rf/lip/2023-02-27_10-50-03_Riesling_lip_e1_r1_neuron_3rf_coordinates.csv',\n",
       " '/envau/work/invibe/USERS/IBOS/data/Riesling/TSCM/OpenEphys/plots2/detect_rf/lip/2023-02-28_10-15-02_Riesling_lip_e1_r1_neuron_3rf_coordinates.csv',\n",
       " '/envau/work/invibe/USERS/IBOS/data/Riesling/TSCM/OpenEphys/plots2/detect_rf/lip/2023-03-01_10-18-38_Riesling_lip_e1_r1_mua_8rf_coordinates.csv',\n",
       " '/envau/work/invibe/USERS/IBOS/data/Riesling/TSCM/OpenEphys/plots2/detect_rf/lip/2023-03-03_10-59-32_Riesling_lip_e1_r1_mua_1rf_coordinates.csv',\n",
       " '/envau/work/invibe/USERS/IBOS/data/Riesling/TSCM/OpenEphys/plots2/detect_rf/lip/2023-03-06_10-32-51_Riesling_lip_e1_r1_neuron_5rf_coordinates.csv',\n",
       " '/envau/work/invibe/USERS/IBOS/data/Riesling/TSCM/OpenEphys/plots2/detect_rf/lip/2023-03-07_10-14-11_Riesling_lip_e1_r1_mua_6rf_coordinates.csv',\n",
       " '/envau/work/invibe/USERS/IBOS/data/Riesling/TSCM/OpenEphys/plots2/detect_rf/lip/2023-03-09_10-35-09_Riesling_lip_e1_r1_neuron_2rf_coordinates.csv',\n",
       " '/envau/work/invibe/USERS/IBOS/data/Riesling/TSCM/OpenEphys/plots2/detect_rf/lip/2023-03-10_10-30-26_Riesling_lip_e1_r1_neuron_4rf_coordinates.csv',\n",
       " '/envau/work/invibe/USERS/IBOS/data/Riesling/TSCM/OpenEphys/plots2/detect_rf/lip/2023-03-14_10-33-51_Riesling_lip_e1_r1_neuron_2rf_coordinates.csv',\n",
       " '/envau/work/invibe/USERS/IBOS/data/Riesling/TSCM/OpenEphys/plots2/detect_rf/lip/2023-03-16_10-20-01_Riesling_lip_e1_r1_neuron_1rf_coordinates.csv',\n",
       " '/envau/work/invibe/USERS/IBOS/data/Riesling/TSCM/OpenEphys/plots2/detect_rf/lip/2023-03-17_10-11-51_Riesling_lip_e1_r1_mua_4rf_coordinates.csv',\n",
       " '/envau/work/invibe/USERS/IBOS/data/Riesling/TSCM/OpenEphys/plots2/detect_rf/lip/2023-03-20_10-39-08_Riesling_lip_e1_r1_mua_8rf_coordinates.csv',\n",
       " '/envau/work/invibe/USERS/IBOS/data/Riesling/TSCM/OpenEphys/plots2/detect_rf/lip/2023-03-21_10-40-02_Riesling_lip_e1_r1_mua_2rf_coordinates.csv',\n",
       " '/envau/work/invibe/USERS/IBOS/data/Riesling/TSCM/OpenEphys/plots2/detect_rf/lip/2023-03-30_10-36-53_Riesling_lip_e1_r1_neuron_6rf_coordinates.csv']"
      ]
     },
     "execution_count": 12,
     "metadata": {},
     "output_type": "execute_result"
    }
   ],
   "source": [
    "bhv_path"
   ]
  },
  {
   "cell_type": "code",
   "execution_count": 13,
   "metadata": {},
   "outputs": [],
   "source": [
    "\n",
    "\n",
    "for n_path in bhv_path[:2]:\n",
    "    rf = pd.read_csv(filepath)\n",
    "    no_nan_rf = rf[~rf.isnull().any(axis=1)]"
   ]
  },
  {
   "cell_type": "code",
   "execution_count": 1,
   "metadata": {},
   "outputs": [],
   "source": [
    "filepath = \"/envau/work/invibe/USERS/IBOS/data/Riesling/TSCM/OpenEphys/plots2/detect_rf/lip/2023-01-20_11-00-24_Riesling_lip_e1_r1_neuron_12rf_coordinates.csv\""
   ]
  },
  {
   "cell_type": "code",
   "execution_count": 3,
   "metadata": {},
   "outputs": [],
   "source": [
    "rf = pd.read_csv(filepath)\n",
    "no_nan_rf = rf[~rf.isnull().any(axis=1)]"
   ]
  },
  {
   "cell_type": "code",
   "execution_count": null,
   "metadata": {},
   "outputs": [],
   "source": []
  },
  {
   "cell_type": "markdown",
   "metadata": {},
   "source": [
    "## number of ipsi vs number of contra"
   ]
  },
  {
   "cell_type": "code",
   "execution_count": 8,
   "metadata": {},
   "outputs": [
    {
     "data": {
      "text/html": [
       "<div>\n",
       "<style scoped>\n",
       "    .dataframe tbody tr th:only-of-type {\n",
       "        vertical-align: middle;\n",
       "    }\n",
       "\n",
       "    .dataframe tbody tr th {\n",
       "        vertical-align: top;\n",
       "    }\n",
       "\n",
       "    .dataframe thead th {\n",
       "        text-align: right;\n",
       "    }\n",
       "</style>\n",
       "<table border=\"1\" class=\"dataframe\">\n",
       "  <thead>\n",
       "    <tr style=\"text-align: right;\">\n",
       "      <th></th>\n",
       "      <th>i_array</th>\n",
       "      <th>neuron_type</th>\n",
       "      <th>i_neuron</th>\n",
       "      <th>event</th>\n",
       "      <th>rad</th>\n",
       "      <th>ang</th>\n",
       "      <th>fr_max</th>\n",
       "      <th>ang_max</th>\n",
       "      <th>depth</th>\n",
       "      <th>date</th>\n",
       "    </tr>\n",
       "  </thead>\n",
       "  <tbody>\n",
       "    <tr>\n",
       "      <th>10</th>\n",
       "      <td>5</td>\n",
       "      <td>neuron</td>\n",
       "      <td>4</td>\n",
       "      <td>visual</td>\n",
       "      <td>0.832172</td>\n",
       "      <td>0.438803</td>\n",
       "      <td>85.409301</td>\n",
       "      <td>45.0</td>\n",
       "      <td>1250.0</td>\n",
       "      <td>2023-01-20_11-00-24</td>\n",
       "    </tr>\n",
       "    <tr>\n",
       "      <th>11</th>\n",
       "      <td>5</td>\n",
       "      <td>neuron</td>\n",
       "      <td>4</td>\n",
       "      <td>motor</td>\n",
       "      <td>0.440295</td>\n",
       "      <td>0.413874</td>\n",
       "      <td>42.775212</td>\n",
       "      <td>45.0</td>\n",
       "      <td>1250.0</td>\n",
       "      <td>2023-01-20_11-00-24</td>\n",
       "    </tr>\n",
       "    <tr>\n",
       "      <th>21</th>\n",
       "      <td>10</td>\n",
       "      <td>mua</td>\n",
       "      <td>3</td>\n",
       "      <td>motor</td>\n",
       "      <td>1.000000</td>\n",
       "      <td>5.497787</td>\n",
       "      <td>12.421879</td>\n",
       "      <td>315.0</td>\n",
       "      <td>1400.0</td>\n",
       "      <td>2023-01-20_11-00-24</td>\n",
       "    </tr>\n",
       "    <tr>\n",
       "      <th>23</th>\n",
       "      <td>11</td>\n",
       "      <td>mua</td>\n",
       "      <td>4</td>\n",
       "      <td>motor</td>\n",
       "      <td>0.999280</td>\n",
       "      <td>5.497787</td>\n",
       "      <td>15.778554</td>\n",
       "      <td>315.0</td>\n",
       "      <td>1400.0</td>\n",
       "      <td>2023-01-20_11-00-24</td>\n",
       "    </tr>\n",
       "  </tbody>\n",
       "</table>\n",
       "</div>"
      ],
      "text/plain": [
       "    i_array neuron_type  i_neuron   event       rad       ang     fr_max  \\\n",
       "10        5      neuron         4  visual  0.832172  0.438803  85.409301   \n",
       "11        5      neuron         4   motor  0.440295  0.413874  42.775212   \n",
       "21       10         mua         3   motor  1.000000  5.497787  12.421879   \n",
       "23       11         mua         4   motor  0.999280  5.497787  15.778554   \n",
       "\n",
       "    ang_max   depth                 date  \n",
       "10     45.0  1250.0  2023-01-20_11-00-24  \n",
       "11     45.0  1250.0  2023-01-20_11-00-24  \n",
       "21    315.0  1400.0  2023-01-20_11-00-24  \n",
       "23    315.0  1400.0  2023-01-20_11-00-24  "
      ]
     },
     "execution_count": 8,
     "metadata": {},
     "output_type": "execute_result"
    }
   ],
   "source": []
  },
  {
   "cell_type": "code",
   "execution_count": null,
   "metadata": {},
   "outputs": [],
   "source": []
  }
 ],
 "metadata": {
  "kernelspec": {
   "display_name": "EphysVibe-48n-7Gof",
   "language": "python",
   "name": "python3"
  },
  "language_info": {
   "codemirror_mode": {
    "name": "ipython",
    "version": 3
   },
   "file_extension": ".py",
   "mimetype": "text/x-python",
   "name": "python",
   "nbconvert_exporter": "python",
   "pygments_lexer": "ipython3",
   "version": "3.8.10"
  },
  "orig_nbformat": 4
 },
 "nbformat": 4,
 "nbformat_minor": 2
}
