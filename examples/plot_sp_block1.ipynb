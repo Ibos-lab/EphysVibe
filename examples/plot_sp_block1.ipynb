{
 "cells": [
  {
   "cell_type": "code",
   "execution_count": 1,
   "metadata": {},
   "outputs": [],
   "source": [
    "import numpy as np\n",
    "import pandas as pd\n",
    "from matplotlib import pyplot as plt\n",
    "from scipy import stats\n",
    "from ephysvibe.trials.spikes import firing_rate,sp_constants\n",
    "# from ephysvibe.trials import select_trials\n",
    "from ephysvibe.spike_sorting import config\n",
    "from ephysvibe.task import def_task,task_constants\n",
    "from collections import defaultdict\n",
    "from typing import Dict\n",
    "from ephysvibe.structures.trials_data import TrialsData\n",
    "import os \n"
   ]
  },
  {
   "attachments": {},
   "cell_type": "markdown",
   "metadata": {},
   "source": [
    "### Functions"
   ]
  },
  {
   "attachments": {},
   "cell_type": "markdown",
   "metadata": {},
   "source": [
    "## Block 1"
   ]
  },
  {
   "cell_type": "code",
   "execution_count": 3,
   "metadata": {},
   "outputs": [],
   "source": [
    "filepath = \"C:/Users/camil/Documents/int/data/result/session_struct/Riesling/lip/2023-01-20_11-00-24_Riesling_lip_e1_r1.h5\"\n",
    "s_path = os.path.normpath(filepath).split(os.sep)\n",
    "data = TrialsData.from_python_hdf5(filepath)"
   ]
  },
  {
   "cell_type": "code",
   "execution_count": 36,
   "metadata": {},
   "outputs": [
    {
     "name": "stdout",
     "output_type": "stream",
     "text": [
      "Number of clusters: 11\n",
      "Number of good units: 9\n"
     ]
    }
   ],
   "source": [
    "# Select trials and create task frame\n",
    "trial_idx = np.where(np.logical_and(data.trial_error == 0, data.block == 1))[0]\n",
    "task = def_task.create_task_frame(\n",
    "    condition=data.condition[trial_idx],\n",
    "    test_stimuli=data.test_stimuli[trial_idx],\n",
    "    samples_cond=task_constants.SAMPLES_COND,\n",
    ")\n",
    "\n",
    "cgroup = \"good\"\n",
    "neurons = np.where(data.clustersgroup == cgroup)[0]\n",
    "print(\"Number of clusters: %d\" % len(data.clustersgroup))\n",
    "print(\"Number of %s units: %d\" % (cgroup, len(neurons)))"
   ]
  },
  {
   "cell_type": "code",
   "execution_count": 37,
   "metadata": {},
   "outputs": [
    {
     "data": {
      "text/plain": [
       "[<matplotlib.lines.Line2D at 0x29793ab8070>]"
      ]
     },
     "execution_count": 37,
     "metadata": {},
     "output_type": "execute_result"
    },
    {
     "data": {
      "image/png": "[encoded data removed]",
      "text/plain": [
       "<Figure size 640x480 with 1 Axes>"
      ]
     },
     "metadata": {},
     "output_type": "display_data"
    }
   ],
   "source": [
    "# define kernel for convolution\n",
    "fs_ds = config.FS / config.DOWNSAMPLE\n",
    "kernel = firing_rate.define_kernel(\n",
    "    sp_constants.W_SIZE, sp_constants.W_STD, fs=fs_ds\n",
    ")\n",
    "plt.plot(kernel)"
   ]
  },
  {
   "cell_type": "code",
   "execution_count": 38,
   "metadata": {},
   "outputs": [],
   "source": [
    "# select the trials\n",
    "trials_sp = data.sp_samples[trial_idx]\n",
    "trials_s_on = data.code_samples[\n",
    "    trial_idx,\n",
    "    np.where(data.code_numbers[trial_idx] == task_constants.EVENTS_B1[\"sample_on\"])[\n",
    "        1\n",
    "    ],\n",
    "]\n",
    "trials_s_off = data.code_samples[\n",
    "    trial_idx,\n",
    "    np.where(data.code_numbers[trial_idx] == task_constants.EVENTS_B1[\"sample_off\"])[\n",
    "        1\n",
    "    ],\n",
    "]\n",
    "trials_t_on_1 = data.code_samples[\n",
    "    trial_idx,\n",
    "    np.where(data.code_numbers[trial_idx] == task_constants.EVENTS_B1[\"test_on_1\"])[\n",
    "        1\n",
    "    ],\n",
    "]\n",
    "mean_s_off = round((trials_s_off-trials_s_on).mean())\n",
    "mean_t_on_1 = round((trials_t_on_1-trials_s_on).mean())\n",
    "samples = np.sort(np.unique(task[\"sample\"].values))"
   ]
  },
  {
   "cell_type": "code",
   "execution_count": 1,
   "metadata": {},
   "outputs": [
    {
     "ename": "NameError",
     "evalue": "name 'trials_sp' is not defined",
     "output_type": "error",
     "traceback": [
      "\u001b[0;31m---------------------------------------------------------------------------\u001b[0m",
      "\u001b[0;31mNameError\u001b[0m                                 Traceback (most recent call last)",
      "Cell \u001b[0;32mIn[1], line 3\u001b[0m\n\u001b[1;32m      1\u001b[0m i_neuron \u001b[39m=\u001b[39m \u001b[39m2\u001b[39m\n\u001b[1;32m      2\u001b[0m t_before \u001b[39m=\u001b[39m \u001b[39m200\u001b[39m\n\u001b[0;32m----> 3\u001b[0m neuron_sp \u001b[39m=\u001b[39m trials_sp[:, neurons[i_neuron], :]\n\u001b[1;32m      4\u001b[0m shift_sp \u001b[39m=\u001b[39m TrialsData\u001b[39m.\u001b[39mindep_roll(neuron_sp, \u001b[39m-\u001b[39m(trials_s_on \u001b[39m+\u001b[39m \u001b[39m1\u001b[39m \u001b[39m-\u001b[39m t_before)\u001b[39m.\u001b[39mastype(\u001b[39mint\u001b[39m), axis\u001b[39m=\u001b[39m\u001b[39m1\u001b[39m)[:, :\u001b[39m1600\u001b[39m]\n\u001b[1;32m      5\u001b[0m \u001b[39m# Iterate by sample and condition\u001b[39;00m\n",
      "\u001b[0;31mNameError\u001b[0m: name 'trials_sp' is not defined"
     ]
    }
   ],
   "source": [
    "i_neuron = 2\n",
    "t_before = 200\n",
    "neuron_sp = trials_sp[:, neurons[i_neuron], :]\n",
    "shift_sp = TrialsData.indep_roll(neuron_sp, -(trials_s_on + 1 - t_before).astype(int), axis=1)[:, :1600]\n",
    "# Iterate by sample and condition\n",
    "fig, ax = plt.subplots(nrows=1, ncols=2, figsize=(20, 8), sharey=True)\n",
    "ax2 = [ax[0].twinx(), ax[1].twinx()]\n",
    "all_max_conv = 0\n",
    "all_max_trial = 0\n",
    "for i_ax, cond in enumerate([\"in\", \"out\"]):\n",
    "    count_trials =  0\n",
    "    max_conv = 0\n",
    "    for i_s, i_sample in enumerate(samples):\n",
    "        sample_idx = task[\n",
    "            np.logical_and(task[\"in_out\"] == cond, task[\"sample\"] == i_sample)\n",
    "        ][\"trial_idx\"].values\n",
    "        mean_sp = shift_sp[sample_idx].mean(axis=0)\n",
    "        conv = np.convolve(mean_sp, kernel, mode=\"same\") * fs_ds\n",
    "        max_conv = np.max(conv) if np.max(conv) > max_conv else max_conv\n",
    "        time = np.arange(0,len(conv))-t_before\n",
    "        ax[i_ax].plot( time,\n",
    "            conv,\n",
    "            color=task_constants.PALETTE_B1[i_sample],\n",
    "        )\n",
    "        # Plot spikes\n",
    "        count_t = len(sample_idx)\n",
    "        rows,cols = np.where(shift_sp[sample_idx]>=1)\n",
    "        ax2[i_ax].scatter(cols-t_before,rows+count_trials, marker='|', alpha=1,edgecolors='none',color=task_constants.PALETTE_B1[i_sample],label=\"Sample %s\" % i_sample)\n",
    "        count_trials +=count_t\n",
    "    all_max_conv = max_conv if max_conv > all_max_conv else all_max_conv\n",
    "    all_max_trial = count_trials if count_trials > all_max_trial else all_max_trial\n",
    "    ax[i_ax].set_title(cond)\n",
    "for i_ax in range(2):\n",
    "    ax[i_ax].set_ylim(0,all_max_conv+all_max_trial+5)\n",
    "    ax[i_ax].set_yticks(np.arange(0, all_max_conv+5,10))\n",
    "    ax2[i_ax].set_yticks(np.arange(-all_max_conv-5, all_max_trial))\n",
    "    plt.setp(ax2[i_ax].get_yticklabels(), visible=False)\n",
    "    ax[i_ax].vlines(\n",
    "            [0,mean_s_off,mean_t_on_1],\n",
    "            0,\n",
    "            all_max_conv+all_max_trial+5,\n",
    "            color='k',\n",
    "            linestyles=\"dashed\",\n",
    "        )\n",
    "ax[0].set(xlabel=\"Time (s)\", ylabel=\"Average firing rate\")\n",
    "ax2[1].set(xlabel=\"Time (s)\", ylabel=\"trials\")\n",
    "ax2[1].legend(fontsize=9,scatterpoints=5,columnspacing=0.5,facecolor='white', framealpha=1,loc='upper right')\n",
    "# fig.legend()\n",
    "fig.tight_layout(pad=0.2, h_pad=0.2, w_pad=0.8)\n",
    "fig.text(\n",
    "    0.5,\n",
    "    0.99,\n",
    "    s=\"%s - Aligned with %s\"\n",
    "    % (s_path[-1][:-4][:10], list(task_constants.EVENTS_B1.keys())[2]),\n",
    "    horizontalalignment=\"center\",\n",
    "    verticalalignment=\"center\",\n",
    ")\n",
    "fig.suptitle(\"%s: neuron %d (%s)\" % (s_path[-2], i_neuron + 1, cgroup), x=0.05, y=0.99)"
   ]
  },
  {
   "attachments": {},
   "cell_type": "markdown",
   "metadata": {},
   "source": [
    "#### Check sample selectiviy\n"
   ]
  },
  {
   "attachments": {},
   "cell_type": "markdown",
   "metadata": {},
   "source": [
    "## Stats"
   ]
  },
  {
   "cell_type": "code",
   "execution_count": null,
   "metadata": {},
   "outputs": [],
   "source": [
    "from sklearn.model_selection import train_test_split, GridSearchCV,KFold,cross_val_score,StratifiedKFold\n",
    "from sklearn.svm import SVC,LinearSVC\n",
    "from sklearn.preprocessing import LabelEncoder, StandardScaler, MinMaxScaler\n",
    "from sklearn import metrics\n",
    "from statsmodels.stats.multitest import multipletests\n",
    "from sklearn.multiclass import OneVsRestClassifier\n",
    "from statsmodels import api as sm\n",
    "from statsmodels.formula.api import ols\n",
    "from bioinfokit. analys import stat as bk_stat\n",
    "from sklearn.metrics import roc_auc_score\n",
    "seed = 2023"
   ]
  },
  {
   "cell_type": "code",
   "execution_count": null,
   "metadata": {},
   "outputs": [],
   "source": [
    "n_neuron = 8"
   ]
  },
  {
   "attachments": {},
   "cell_type": "markdown",
   "metadata": {},
   "source": [
    "## SVM"
   ]
  },
  {
   "attachments": {},
   "cell_type": "markdown",
   "metadata": {},
   "source": [
    "#### def functions"
   ]
  },
  {
   "cell_type": "code",
   "execution_count": null,
   "metadata": {},
   "outputs": [],
   "source": [
    "def run_svm_decoder(model,list_df,n_iterations,steps,win_steps,win_size,it_seed,resample_value):\n",
    "    scores = np.zeros((n_iterations,steps))\n",
    "    for n_it in np.arange(n_iterations):\n",
    "        #  select trials randomly\n",
    "        df = []\n",
    "        for i_df in list_df:\n",
    "            df.append(i_df.sample(resample_value,random_state=it_seed[n_it],replace=False)) # sample without replacement\n",
    "        df = pd.concat(df).reset_index(drop=True)\n",
    "        \n",
    "        #df = df.sample(frac=1,random_state=it_seed[n_it],replace=False)\n",
    "        \n",
    "        X = df.iloc[:, :-4] \n",
    "        #X = pd.DataFrame(scaler.fit_transform(X))\n",
    "        y = df['label_encoder']\n",
    "        X_train, X_test, y_train, y_test = train_test_split(X, y, test_size=.2,shuffle=True, random_state=it_seed[n_it])\n",
    "        X_train['label_encoder'] = y_train\n",
    "        #X_test['label_encoder'] = y_test\n",
    "        # Sample with replacement\n",
    "        X_train = X_train.sample(len(X_train),random_state=it_seed[n_it],replace=False)\n",
    "        y_train = X_train['label_encoder']\n",
    "        X_train = X_train.iloc[:,:-1]\n",
    "        for n,n_win in enumerate(np.arange(0,steps*win_steps,win_steps)):\n",
    "            # Split into X and y\n",
    "            scaler = MinMaxScaler()\n",
    "            X = X_train.iloc[:,int(n_win):int(n_win)+win_size].mean(axis=1).values.reshape(-1, 1)\n",
    "            X = pd.DataFrame(scaler.fit_transform(X))    \n",
    "            # test\n",
    "            X_t = X_test.iloc[:,int(n_win):int(n_win)+win_size].mean(axis=1).values.reshape(-1, 1)        \n",
    "            X_t = pd.DataFrame(scaler.transform(X_t))\n",
    "            model.fit(X,y_train)\n",
    "            y_predict = model.predict(X_t)\n",
    "            scores[n_it, n] = metrics.accuracy_score(y_test,y_predict)# cross_val_score(model, X, y, cv=kf,n_jobs=-1).mean()\n",
    "    return scores"
   ]
  },
  {
   "cell_type": "code",
   "execution_count": null,
   "metadata": {},
   "outputs": [],
   "source": [
    "# plot results\n",
    "def plot_accuracy(scores,win_steps,neuron_max_shift,x_lim_min,x_lim_max,n_neuron):\n",
    "    fig,ax = plt.subplots()\n",
    "    ax.plot(((np.arange(0,len(scores[0]))*win_steps)- neuron_max_shift[n_neuron-1])/1000,scores[:13].mean(axis=0))\n",
    "    ax.set_xlim(x_lim_min, x_lim_max)\n",
    "    ax.vlines(\n",
    "        0, 0.3, 1, color=\"k\", linestyles=\"dashed\"\n",
    "    )# sample on\n",
    "    ax.hlines(\n",
    "        0.5, x_lim_min, x_lim_max, color=\"gray\", linestyles=\"solid\"\n",
    "    )\n",
    "    ax.set_title('Is neuron %d engaged in the task?'%(n_neuron))\n",
    "    ax.set(xlabel=\"Time (s)\", ylabel=\"SVM classifier accuracy\")\n",
    "    fig.tight_layout(pad=0.2, h_pad=0.2, w_pad=0.2)\n",
    "    fig.legend(['Accuracy','Sample on'], fontsize=9)"
   ]
  },
  {
   "attachments": {},
   "cell_type": "markdown",
   "metadata": {},
   "source": [
    "#### Model"
   ]
  },
  {
   "cell_type": "code",
   "execution_count": null,
   "metadata": {},
   "outputs": [],
   "source": [
    "# define model\n",
    "model=  SVC(kernel='linear',C=20,decision_function_shape='ovr',gamma=0.001)\n",
    "# data preparation\n",
    "neuron_fr = fr_samples[fr_samples['neuron']== n_neuron]\n",
    "n_iterations = 10\n",
    "win_steps = 10\n",
    "win_size = 100\n",
    "steps = int(np.ceil((len(neuron_fr.columns[:-4])/win_steps)))\n",
    "rng = np.random.default_rng(seed=seed)\n",
    "it_seed = rng.integers(low=1, high=2023, size=n_iterations, dtype=int)"
   ]
  },
  {
   "cell_type": "code",
   "execution_count": null,
   "metadata": {},
   "outputs": [],
   "source": [
    "# encode labels\n",
    "le = LabelEncoder()\n",
    "le.fit(neuron_fr['sample'].replace(['B','C','D'],'A').values)\n",
    "neuron_fr['label_encoder'] = le.transform(neuron_fr.loc[:,'sample'].replace(['B','C','D'],'A').values) # encode labels\n",
    "# Resample dataframe\n",
    "resample_value = neuron_fr[neuron_fr['sample']=='N']['sample'].value_counts().min()\n",
    "list_df=[neuron_fr[(neuron_fr['sample'] == 'A') | (neuron_fr['sample'] == 'B') | (neuron_fr['sample'] == 'C') | (neuron_fr['sample'] == 'D')],neuron_fr[neuron_fr['sample'] == 'N']]"
   ]
  },
  {
   "cell_type": "code",
   "execution_count": null,
   "metadata": {},
   "outputs": [],
   "source": [
    "scores = run_svm_decoder(model,list_df,n_iterations,steps,win_steps,win_size,it_seed,resample_value)\n",
    "plot_accuracy(scores,win_steps,neuron_max_shift,x_lim_min,x_lim_max,n_neuron)"
   ]
  },
  {
   "attachments": {},
   "cell_type": "markdown",
   "metadata": {},
   "source": [
    "#### Predict samples"
   ]
  },
  {
   "cell_type": "code",
   "execution_count": null,
   "metadata": {},
   "outputs": [],
   "source": [
    "# encode labels\n",
    "le = LabelEncoder()\n",
    "le.fit(neuron_fr['sample'].values)\n",
    "neuron_fr['label_encoder'] = le.transform(neuron_fr['sample'].values) # encode labels\n",
    "# Resample dataframe\n",
    "resample_value = neuron_fr['sample'].value_counts().min()\n",
    "list_df=[neuron_fr[neuron_fr['sample'] == 'A'],neuron_fr[neuron_fr['sample'] == 'B'],neuron_fr[neuron_fr['sample'] == 'C'],neuron_fr[neuron_fr['sample'] == 'D'],neuron_fr[neuron_fr['sample'] == 'N']]"
   ]
  },
  {
   "cell_type": "code",
   "execution_count": null,
   "metadata": {},
   "outputs": [],
   "source": [
    "scores_samples = run_svm_decoder(model,list_df,n_iterations,steps,win_steps,win_size,it_seed,resample_value)\n",
    "plot_accuracy(scores_samples,win_steps,neuron_max_shift,x_lim_min,x_lim_max,n_neuron)"
   ]
  },
  {
   "attachments": {},
   "cell_type": "markdown",
   "metadata": {},
   "source": [
    "## ANOVA"
   ]
  },
  {
   "attachments": {},
   "cell_type": "markdown",
   "metadata": {},
   "source": [
    "#### def functions"
   ]
  },
  {
   "cell_type": "code",
   "execution_count": null,
   "metadata": {},
   "outputs": [],
   "source": [
    "def select_from_df(df1,samples,n_neuron,df2=np.nan):\n",
    "    if isinstance(df2,pd.DataFrame) == False:\n",
    "        df2=df1\n",
    "    # add to check shapes of df1 == df2\n",
    "    sample_df = []\n",
    "    for s in samples:\n",
    "        sample_df.append(df1[(df2['sample']==s)&(df2['neuron']==n_neuron)])\n",
    "    return pd.concat(sample_df,axis=0)"
   ]
  },
  {
   "cell_type": "code",
   "execution_count": null,
   "metadata": {},
   "outputs": [],
   "source": [
    "# t_test\n",
    "def compute_f_oneway(group1,group2,group3,group4,neuron_max_shift,seed):\n",
    "    foneway:Dict[str,list] = defaultdict(list)\n",
    "    rng = np.random.default_rng(seed=seed)\n",
    "    it_seed = rng.integers(low=1, high=2023, size=group1.shape[1], dtype=int)\n",
    "    for n_win in np.arange(group1.shape[1]):\n",
    "        trials_group1 = group1.iloc[:,n_win]\n",
    "        trials_group2 = group2.iloc[:,n_win]\n",
    "        trials_group3 = group3.iloc[:,n_win]\n",
    "        trials_group4 = group4.iloc[:,n_win]\n",
    "        #trials_group5 = group5.iloc[:,n_win]\n",
    "        p=stats.f_oneway(trials_group1.values, trials_group2.values,trials_group3.values, trials_group4.values)#,trials_group5.values)\n",
    "        foneway['p']+=[p[1]]\n",
    "        \n",
    "    foneway=pd.DataFrame(foneway)\n",
    "    fig,ax=plt.subplots(figsize=(10,3))\n",
    "    bonferroni_foneway = multipletests(foneway.values.reshape(-1),alpha=0.05)[1]\n",
    "    mask_b = bonferroni_foneway<0.05\n",
    "    mask_f = foneway.values.reshape(-1)<0.05\n",
    "    ax.plot((np.arange(len(foneway))-neuron_max_shift[0]/step)/1000,foneway.values.reshape(-1))\n",
    "    ax.scatter(((np.arange(len(foneway))-neuron_max_shift[0]/step)/1000)[mask_f],foneway.values.reshape(-1)[mask_f],c='b',marker='.')\n",
    "    ax.plot((np.arange(len(foneway))-neuron_max_shift[0]/step)/1000,bonferroni_foneway)\n",
    "    ax.scatter(((np.arange(len(foneway))-neuron_max_shift[0]/step)/1000)[mask_b],bonferroni_foneway[mask_b],c='firebrick',marker='.')\n",
    "\n",
    "    return foneway"
   ]
  },
  {
   "attachments": {},
   "cell_type": "markdown",
   "metadata": {},
   "source": [
    "#### compute anova"
   ]
  },
  {
   "cell_type": "code",
   "execution_count": null,
   "metadata": {},
   "outputs": [],
   "source": [
    "neuron_fr = fr_samples[fr_samples['neuron']== n_neuron]\n",
    "win_size = 500\n",
    "step = 1\n",
    "fix_duration = 100\n",
    "mean_fr_window = neuron_fr.iloc[:, :-3].rolling(window = win_size,axis=1,step=step,min_periods=1).mean()"
   ]
  },
  {
   "cell_type": "code",
   "execution_count": null,
   "metadata": {},
   "outputs": [],
   "source": [
    "a = select_from_df(df1=mean_fr_window,samples=['A'],n_neuron=n_neuron,df2=neuron_fr)\n",
    "b = select_from_df(df1=mean_fr_window,samples=['B'],n_neuron=n_neuron,df2=neuron_fr)\n",
    "c = select_from_df(df1=mean_fr_window,samples=['C'],n_neuron=n_neuron,df2=neuron_fr)\n",
    "d = select_from_df(df1=mean_fr_window,samples=['D'],n_neuron=n_neuron,df2=neuron_fr)\n",
    "#n = select_from_df(df1=mean_fr_window,samples=['N'],n_neuron=n_neuron,df2=neuron_fr)\n",
    "foneway = compute_f_oneway(a,b,c,d,neuron_max_shift,seed)\n"
   ]
  },
  {
   "attachments": {},
   "cell_type": "markdown",
   "metadata": {},
   "source": [
    "## t test"
   ]
  },
  {
   "attachments": {},
   "cell_type": "markdown",
   "metadata": {},
   "source": [
    "#### def functions"
   ]
  },
  {
   "cell_type": "code",
   "execution_count": null,
   "metadata": {},
   "outputs": [],
   "source": [
    "# t_test\n",
    "def compute_t_test(group1,group2,neuron_max_shift,seed):\n",
    "    t_test:Dict[str,list] = defaultdict(list)\n",
    "    rng = np.random.default_rng(seed=seed)\n",
    "    it_seed = rng.integers(low=1, high=2023, size=group1.shape[1], dtype=int)\n",
    "    for n_win in np.arange(group1.shape[1]):\n",
    "        trials_group1 = group1.iloc[:,n_win]\n",
    "        trials_group2 = group2.iloc[:,n_win]\n",
    "        p=stats.ttest_ind(trials_group1.values, trials_group2.values)\n",
    "        t_test['p']+=[p[1]]\n",
    "        \n",
    "    t_test=pd.DataFrame(t_test)\n",
    "    fig,ax=plt.subplots(figsize=(10,3))\n",
    "    bonferroni_t_test = multipletests(t_test.values.reshape(-1),alpha=0.05)[1]\n",
    "    mask_b = bonferroni_t_test<0.05\n",
    "    mask_t = t_test.values.reshape(-1)<0.05\n",
    "    ax.plot((np.arange(len(t_test))-neuron_max_shift[0]/step)/1000,t_test.values.reshape(-1))\n",
    "    ax.scatter(((np.arange(len(t_test))-neuron_max_shift[0]/step)/1000)[mask_t],t_test.values.reshape(-1)[mask_t],c='b',marker='.')\n",
    "    ax.plot((np.arange(len(t_test))-neuron_max_shift[0]/step)/1000,bonferroni_t_test)\n",
    "    ax.scatter(((np.arange(len(t_test))-neuron_max_shift[0]/step)/1000)[mask_b],bonferroni_t_test[mask_b],c='firebrick',marker='.')\n",
    "    ax.set(xlabel=\"Time (s)\", ylabel=\"p-value\")\n",
    "    fig.tight_layout(pad=0.2, h_pad=0.2, w_pad=0.2)\n",
    "    fig.legend(['t-test','values under 0.05','bonferroni','values under 0.05'], fontsize=8)\n",
    "    return t_test\n"
   ]
  },
  {
   "attachments": {},
   "cell_type": "markdown",
   "metadata": {},
   "source": [
    "#### compute t-test"
   ]
  },
  {
   "cell_type": "code",
   "execution_count": null,
   "metadata": {},
   "outputs": [],
   "source": [
    "neuron_fr = fr_samples[fr_samples['neuron']== n_neuron]\n",
    "win_size = 500\n",
    "step = 1\n",
    "fix_duration = 100\n",
    "mean_fr_window = neuron_fr.iloc[:, :-3].rolling(window = win_size,axis=1,step=step,min_periods=1).mean()"
   ]
  },
  {
   "cell_type": "code",
   "execution_count": null,
   "metadata": {},
   "outputs": [],
   "source": [
    "# test whether the neuron is engaged in the task (N vs others)\n",
    "all_sample_presentation = select_from_df(df1=mean_fr_window,samples=['A','B','C','D'],n_neuron=n_neuron,df2=neuron_fr)\n",
    "n_sample_presentation = select_from_df(df1=mean_fr_window,samples=['N'],n_neuron=n_neuron,df2=neuron_fr)\n",
    "t_test=compute_t_test(all_sample_presentation,n_sample_presentation,neuron_max_shift,seed)"
   ]
  },
  {
   "attachments": {},
   "cell_type": "markdown",
   "metadata": {},
   "source": [
    "#### Check if it is sample selective\n",
    "The neuron is sample selective only if it is significant for one of the following (a vs d | b vs c):"
   ]
  },
  {
   "cell_type": "code",
   "execution_count": null,
   "metadata": {},
   "outputs": [],
   "source": [
    "# Color - orientation 1\n",
    "a = select_from_df(df1=mean_fr_window,samples=['A'],n_neuron=n_neuron,df2=neuron_fr)\n",
    "d = select_from_df(df1=mean_fr_window,samples=['D'],n_neuron=n_neuron,df2=neuron_fr)\n",
    "t_test=compute_t_test(a,d,neuron_max_shift,seed)"
   ]
  },
  {
   "cell_type": "code",
   "execution_count": null,
   "metadata": {},
   "outputs": [],
   "source": [
    "# Color - orientation 2 \n",
    "b = select_from_df(df1=mean_fr_window,samples=['B'],n_neuron=n_neuron,df2=neuron_fr)\n",
    "c = select_from_df(df1=mean_fr_window,samples=['C'],n_neuron=n_neuron,df2=neuron_fr)\n",
    "t_test=compute_t_test(b,c,neuron_max_shift,seed)"
   ]
  },
  {
   "cell_type": "code",
   "execution_count": null,
   "metadata": {},
   "outputs": [],
   "source": [
    "# Orientation \n",
    "ab = select_from_df(df1=mean_fr_window,samples=['A','B'],n_neuron=n_neuron,df2=neuron_fr)\n",
    "cd = select_from_df(df1=mean_fr_window,samples=['C','D'],n_neuron=n_neuron,df2=neuron_fr)\n",
    "t_test=compute_t_test(ab,cd,neuron_max_shift,seed)"
   ]
  },
  {
   "cell_type": "code",
   "execution_count": null,
   "metadata": {},
   "outputs": [],
   "source": [
    "# Color\n",
    "ac = select_from_df(df1=mean_fr_window,samples=['A','C'],n_neuron=n_neuron,df2=neuron_fr)\n",
    "bd = select_from_df(df1=mean_fr_window,samples=['B','D'],n_neuron=n_neuron,df2=neuron_fr)\n",
    "t_test=compute_t_test(ac,bd,neuron_max_shift,seed)"
   ]
  },
  {
   "cell_type": "code",
   "execution_count": null,
   "metadata": {},
   "outputs": [],
   "source": [
    "# A vs C (same color)\n",
    "a = select_from_df(df1=mean_fr_window,samples=['A'],n_neuron=n_neuron,df2=neuron_fr)\n",
    "c = select_from_df(df1=mean_fr_window,samples=['C'],n_neuron=n_neuron,df2=neuron_fr)\n",
    "t_test=compute_t_test(a,c,neuron_max_shift,seed)"
   ]
  },
  {
   "cell_type": "code",
   "execution_count": null,
   "metadata": {},
   "outputs": [],
   "source": [
    "# A vs B (same orientation)\n",
    "a = select_from_df(df1=mean_fr_window,samples=['A'],n_neuron=n_neuron,df2=neuron_fr)\n",
    "b = select_from_df(df1=mean_fr_window,samples=['B'],n_neuron=n_neuron,df2=neuron_fr)\n",
    "t_test=compute_t_test(a,b,neuron_max_shift,seed)"
   ]
  },
  {
   "cell_type": "code",
   "execution_count": null,
   "metadata": {},
   "outputs": [],
   "source": [
    "# C vs D (same orientation)\n",
    "c = select_from_df(df1=mean_fr_window,samples=['C'],n_neuron=n_neuron,df2=neuron_fr)\n",
    "d = select_from_df(df1=mean_fr_window,samples=['D'],n_neuron=n_neuron,df2=neuron_fr)\n",
    "t_test=compute_t_test(a,c,neuron_max_shift,seed)"
   ]
  },
  {
   "attachments": {},
   "cell_type": "markdown",
   "metadata": {},
   "source": [
    "## index"
   ]
  },
  {
   "attachments": {},
   "cell_type": "markdown",
   "metadata": {},
   "source": [
    "#### Def functions"
   ]
  },
  {
   "cell_type": "code",
   "execution_count": null,
   "metadata": {},
   "outputs": [],
   "source": [
    "# index\n",
    "def compute_index(group1,group2,neuron_max_shift,seed):\n",
    "    index:Dict[str,list] = defaultdict(list)\n",
    "    rng = np.random.default_rng(seed=seed)\n",
    "    it_seed = rng.integers(low=1, high=2023, size=group1.shape[1], dtype=int)\n",
    "    for n_win in np.arange(group1.shape[1]):\n",
    "        trials_group1 = group1.iloc[:,n_win]\n",
    "        trials_group2 = group2.iloc[:,n_win]\n",
    "        if trials_group1.mean!=0 or trials_group2.mean()!=0:\n",
    "            if trials_group1.mean()>trials_group2.mean():\n",
    "                pref = trials_group1\n",
    "                n_pref = trials_group2\n",
    "                g=0\n",
    "            else:\n",
    "                pref = trials_group2\n",
    "                n_pref = trials_group1 \n",
    "                g=1\n",
    "            index['idx']+=[(pref.mean()-n_pref.mean())/(pref.mean()+n_pref.mean())]#np.sqrt((pref.var()+n_pref.var())/2)\n",
    "            index['group'] += [g]\n",
    "        else:\n",
    "            index['idx']+=[0]\n",
    "            index['group'] += [0.5]\n",
    "        \n",
    "    index=pd.DataFrame(index)\n",
    "    fig,ax=plt.subplots(figsize=(10,3))\n",
    "    ax.plot((np.arange(len(index))-neuron_max_shift[0]/step)/1000,index['idx'].values.reshape(-1))\n",
    "    ax.plot((np.arange(len(index))-neuron_max_shift[0]/step)/1000,index['group'].values.reshape(-1))    \n",
    "    return index"
   ]
  },
  {
   "attachments": {},
   "cell_type": "markdown",
   "metadata": {},
   "source": [
    "#### Compute index"
   ]
  },
  {
   "cell_type": "code",
   "execution_count": null,
   "metadata": {},
   "outputs": [],
   "source": [
    "index=compute_index(a,d,neuron_max_shift,seed)"
   ]
  },
  {
   "attachments": {},
   "cell_type": "markdown",
   "metadata": {},
   "source": [
    "## ROC AUC score"
   ]
  },
  {
   "attachments": {},
   "cell_type": "markdown",
   "metadata": {},
   "source": [
    "#### Def functions"
   ]
  },
  {
   "cell_type": "code",
   "execution_count": null,
   "metadata": {},
   "outputs": [],
   "source": [
    "def compute_roc_auc(group1,group2):\n",
    "    roc_score:Dict[str,list] = defaultdict(list)\n",
    "    rng = np.random.default_rng(seed=seed)\n",
    "    it_seed = rng.integers(low=1, high=2023, size=a.shape[1], dtype=int)\n",
    "    for n_win in np.arange(a.shape[1]):\n",
    "        g1 = group1.iloc[:,n_win]\n",
    "        g2 = group2.iloc[:,n_win]\n",
    "        min_fr, max_fr = pd.concat((g1,g2)).min(),pd.concat((g1,g2)).max()\n",
    "        thresholds = np.arange(min_fr,max_fr+0.01,0.01)\n",
    "        y_g1, y_g2 = np.ones(len(g1)),np.zeros(len(g2))\n",
    "        score=0\n",
    "        fpr,tpr=[],[]\n",
    "        for threshold in thresholds:\n",
    "            g1_y_pred,g2_y_pred = np.zeros(len(g1)),np.zeros(len(g2))\n",
    "            g1_mask,g2_mask = g1.values>=threshold,g2.values>=threshold\n",
    "            g1_y_pred[g1_mask],g2_y_pred[g2_mask] = 1,1\n",
    "            tp = sum(np.logical_and(y_g1==1,g1_y_pred==1))\n",
    "            fn = sum(np.logical_and(y_g1==1,g1_y_pred==0))\n",
    "            tpr.append(tp/ (tp+fn) )\n",
    "            fp = sum(np.logical_and(y_g2==0,g2_y_pred==1))\n",
    "            tn = sum(np.logical_and(y_g2==0,g2_y_pred==0))\n",
    "            fpr.append(fp/ (fp+tn) )\n",
    "        if len(fpr) > 1:\n",
    "            fpr,tpr=np.array(fpr),np.array(tpr)\n",
    "            idx_sort=fpr.argsort()\n",
    "            score = metrics.auc(fpr[idx_sort],tpr[idx_sort])\n",
    "            roc_score['score']+=[score]\n",
    "        else:\n",
    "            roc_score['score']+=[0.5]\n",
    "    roc_score=pd.DataFrame(roc_score)\n",
    "    fig,ax=plt.subplots(figsize=(10,3))\n",
    "    ax.plot((np.arange(len(roc_score))-neuron_max_shift[0]/step)/1000,roc_score['score'].values.reshape(-1))   \n",
    "    ax.set(xlabel=\"Time (s)\", ylabel=\"ROC AUC score\")\n",
    "    fig.tight_layout(pad=0.2, h_pad=0.2, w_pad=0.2)\n",
    "    \n",
    "    return roc_score\n"
   ]
  },
  {
   "attachments": {},
   "cell_type": "markdown",
   "metadata": {},
   "source": [
    "#### Compute roc"
   ]
  },
  {
   "cell_type": "code",
   "execution_count": null,
   "metadata": {},
   "outputs": [],
   "source": [
    "neuron_fr = fr_samples[fr_samples['neuron']== n_neuron]\n",
    "win_size = 100\n",
    "step = 1\n",
    "fix_duration = 100\n",
    "mean_fr_window = neuron_fr.iloc[:, :-3].rolling(window = win_size,axis=1,step=step,min_periods=1).mean()\n",
    "a = select_from_df(df1=mean_fr_window,samples=['A'],n_neuron=n_neuron,df2=neuron_fr)\n",
    "d = select_from_df(df1=mean_fr_window,samples=['D'],n_neuron=n_neuron,df2=neuron_fr)\n",
    "roc_score =compute_roc_auc(a,d)"
   ]
  },
  {
   "cell_type": "code",
   "execution_count": null,
   "metadata": {},
   "outputs": [],
   "source": [
    "ac = select_from_df(df1=mean_fr_window,samples=['A','C'],n_neuron=n_neuron,df2=neuron_fr)\n",
    "bd = select_from_df(df1=mean_fr_window,samples=['B','D'],n_neuron=n_neuron,df2=neuron_fr)\n",
    "roc_score = compute_roc_auc(ac,bd)"
   ]
  },
  {
   "cell_type": "code",
   "execution_count": null,
   "metadata": {},
   "outputs": [],
   "source": []
  }
 ],
 "metadata": {
  "kernelspec": {
   "display_name": "EphysVibe-48n-7Gof",
   "language": "python",
   "name": "python3"
  },
  "language_info": {
   "codemirror_mode": {
    "name": "ipython",
    "version": 3
   },
   "file_extension": ".py",
   "mimetype": "text/x-python",
   "name": "python",
   "nbconvert_exporter": "python",
   "pygments_lexer": "ipython3",
   "version": "3.8.10"
  },
  "orig_nbformat": 4,
  "vscode": {
   "interpreter": {
    "hash": "c0bc8c099b017ba9d073358cd61a0f952fda5c0927b42de8a275d5317edfe6cc"
   }
  }
 },
 "nbformat": 4,
 "nbformat_minor": 2
}
