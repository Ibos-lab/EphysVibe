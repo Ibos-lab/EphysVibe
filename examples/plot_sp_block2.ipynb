{
 "cells": [
  {
   "cell_type": "code",
   "execution_count": 1,
   "metadata": {},
   "outputs": [],
   "source": [
    "import numpy as np\n",
    "from matplotlib import pyplot as plt\n",
    "from scipy import signal,stats\n",
    "import pandas as pd\n",
    "from typing import Dict\n",
    "from collections import defaultdict\n",
    "from ephysvibe.trials.spikes import firing_rate\n",
    "from ephysvibe.trials import select_trials\n",
    "from ephysvibe.spike_sorting import config"
   ]
  },
  {
   "cell_type": "code",
   "execution_count": 2,
   "metadata": {},
   "outputs": [],
   "source": [
    "py_filepath = \"/home/INT/losada.c/Documents/data/test/lip/lip/2022-11-22_10-59-03_Riesling_lip_e1_r1.npy\"\n",
    "#2022-12-14_10-50-49_Riesling_lip_e1_r1"
   ]
  },
  {
   "cell_type": "markdown",
   "metadata": {},
   "source": [
    "### Load file"
   ]
  },
  {
   "cell_type": "code",
   "execution_count": 3,
   "metadata": {},
   "outputs": [
    {
     "name": "stdout",
     "output_type": "stream",
     "text": [
      "sp_py keys:\n",
      "dict_keys(['sp_samples', 'blocks', 'code_numbers', 'code_samples', 'eyes_values', 'lfp_values', 'samples', 'clusters_id', 'clusters_ch', 'clustersgroup', 'clusterdepth'])\n",
      "bhv_py trial keys:\n",
      "dict_keys(['trial', 'AbsoluteTrialStartTime', 'Btn1', 'Btn10', 'Btn2', 'Btn3', 'Btn4', 'Btn5', 'Btn6', 'Btn7', 'Btn8', 'Btn9', 'Eye', 'Eye2', 'EyeExtra', 'Gen1', 'Gen10', 'Gen11', 'Gen12', 'Gen13', 'Gen14', 'Gen15', 'Gen16', 'Gen2', 'Gen3', 'Gen4', 'Gen5', 'Gen6', 'Gen7', 'Gen8', 'Gen9', 'Joystick', 'Joystick2', 'KeyInput', 'Mouse', 'PhotoDiode', 'SampleInterval', 'Touch', 'CodeNumbers', 'CodeTimes', 'Block', 'BlockCount', 'Condition', 'CycleRate', 'Angle', 'BackgroundColor', 'Info', 'Position1', 'Position2', 'Position3', 'Position4', 'Position5', 'Position6', 'Scale', 'Status', 'Time', 'Zorder', 'ReactionTime', 'EndTimes', 'StartTimes', 'Attribute11', 'Attribute12', 'Attribute13', 'Attribute21', 'Attribute22', 'Attribute23', 'Attribute24', 'Attribute25', 'Attribute26', 'Code', 'FrameByFrameMovie', 'Size', 'Trial', 'TrialDateTime', 'TrialError', 'TrialWithinBlock', 'SkippedFrameTimeInfo', 'Dist', 'Eye2Offset', 'EyeOffset', 'Fix_FP_T_time', 'Fix_FP_post_T_time', 'Fix_FP_pre_T_time', 'Fixclose', 'Fixfar', 'ITI_value', 'Reward_plus', 'X', 'Y', 'closeexc', 'delay_time', 'excentricity', 'farexc', 'fix_post_sacc_blank', 'fix_time', 'fix_window_radius', 'idletime3', 'max_reaction_time', 'rand_delay_time', 'reward_dur', 'reward_sacc_dur', 'sample_time', 'stay_time', 'test_time', 'wait_for_fix', 'Ver'])\n"
     ]
    }
   ],
   "source": [
    "py_f = np.load(py_filepath,allow_pickle=True).item(0)\n",
    "sp_py = py_f['sp_data']\n",
    "bhv = py_f['bhv']\n",
    "print('sp_py keys:')\n",
    "print(sp_py.keys())\n",
    "print('bhv_py trial keys:')\n",
    "print(bhv[0].keys())"
   ]
  },
  {
   "cell_type": "markdown",
   "metadata": {},
   "source": [
    "### Select relevant trials"
   ]
  },
  {
   "cell_type": "code",
   "execution_count": 4,
   "metadata": {},
   "outputs": [
    {
     "name": "stdout",
     "output_type": "stream",
     "text": [
      "Number of trials in block 2: 104\n",
      "Number of correct trials in block 2: 80\n",
      "Number of clusters: 16\n"
     ]
    }
   ],
   "source": [
    "# Selec trials in a block\n",
    "n_block = 2\n",
    "trial_idx = select_trials.select_trials_block(sp_py,n_block)\n",
    "# Selec correct trials\n",
    "trial_idx = select_trials.select_correct_trials(bhv,trial_idx)\n",
    "print('Number of clusters: %d'%len(sp_py['sp_samples'][0]))\n"
   ]
  },
  {
   "cell_type": "code",
   "execution_count": 5,
   "metadata": {},
   "outputs": [
    {
     "data": {
      "text/plain": [
       "16"
      ]
     },
     "execution_count": 5,
     "metadata": {},
     "output_type": "execute_result"
    }
   ],
   "source": [
    "len(sp_py['sp_samples'][0])"
   ]
  },
  {
   "cell_type": "markdown",
   "metadata": {},
   "source": [
    "### Select trials by target code"
   ]
  },
  {
   "cell_type": "code",
   "execution_count": 6,
   "metadata": {},
   "outputs": [],
   "source": [
    "# Define target codes \n",
    "target_codes= {\n",
    "    # code: [ML axis], [plot axis]\n",
    "    '127': [[10,0],[1,2]],\n",
    "    '126': [[7,7],[0,2]],\n",
    "    '125': [[0,10],[0,1]],\n",
    "    '124': [[-7,7],[0,0]],\n",
    "    '123': [[-10,0],[1,0]],\n",
    "    '122': [[-7,-7],[2,0]],\n",
    "    '121': [[0,-10],[2,1]],\n",
    "    '120': [[7,-7],[2,2]],\n",
    "}"
   ]
  },
  {
   "cell_type": "code",
   "execution_count": 7,
   "metadata": {},
   "outputs": [],
   "source": [
    "# create dict with the trials that have each code\n",
    "trials_idx = {}\n",
    "for i_key,key in enumerate(target_codes.keys()):\n",
    "    trials = []\n",
    "    code_idx=[]\n",
    "    for i_trial,code in zip(trial_idx, sp_py['code_numbers'][trial_idx]):\n",
    "        idx=np.where(int(key) == code)[0]\n",
    "        if len(idx)!=0:\n",
    "            code_idx.append(idx[0])\n",
    "            trials.append(i_trial)\n",
    "    trials_idx[key]={'code_idx':code_idx,'trials_idx':trials}"
   ]
  },
  {
   "cell_type": "markdown",
   "metadata": {},
   "source": [
    "## Plot rasters for each neuron for each target"
   ]
  },
  {
   "cell_type": "markdown",
   "metadata": {},
   "source": [
    "#### define variables"
   ]
  },
  {
   "cell_type": "code",
   "execution_count": 8,
   "metadata": {},
   "outputs": [
    {
     "data": {
      "text/plain": [
       "[<matplotlib.lines.Line2D at 0x7f3ecbd05a00>]"
      ]
     },
     "execution_count": 8,
     "metadata": {},
     "output_type": "execute_result"
    },
    {
     "data": {
      "image/png": "[encoded data removed]",
      "text/plain": [
       "<Figure size 640x480 with 1 Axes>"
      ]
     },
     "metadata": {},
     "output_type": "display_data"
    }
   ],
   "source": [
    "target_on = 37\n",
    "fs = config.FS\n",
    "downsample=config.DOWNSAMPLE\n",
    "# kernel parameters\n",
    "fs_ds = fs/downsample\n",
    "w = 0.015 # seconds = 15 ms\n",
    "w_size = 0.1 # seconds = 100ms\n",
    "# define kernel for the convolution\n",
    "kernel = signal.gaussian(M=w_size*fs_ds,std=w*fs_ds)\n",
    "kernel=kernel/sum(kernel) # area of the kernel must be one\n",
    "plt.plot(np.arange(len(kernel))/fs_ds,kernel)"
   ]
  },
  {
   "cell_type": "markdown",
   "metadata": {},
   "source": [
    "#### Plot all trials with the same code for all neurons "
   ]
  },
  {
   "attachments": {},
   "cell_type": "markdown",
   "metadata": {},
   "source": [
    "##### Split in stimulus presentation delay and saccade\n",
    "Compute:\n",
    "* visual pref / visual unpref -> target_on(37) - target_off(38)\n",
    "* delay pref / delay unpref -> target_off(38) - fix_spot_off(36)\n",
    "* saccade pref / saccade unpref -> fix_spot_off(10) - correct_response(40)"
   ]
  },
  {
   "cell_type": "code",
   "execution_count": 24,
   "metadata": {},
   "outputs": [],
   "source": [
    "events = {\n",
    "    'start_trial':9,\n",
    "    'target_on': 37,\n",
    "    'target_off': 38,\n",
    "    'fix_spot_off': 36,\n",
    "    'correct_response': 40,\n",
    "    \n",
    "    'end_trial':18\n",
    "}"
   ]
  },
  {
   "cell_type": "code",
   "execution_count": 25,
   "metadata": {},
   "outputs": [],
   "source": [
    "def align_neuron_spikes(trials_idx, sp_py, neuron, event_timestamps):\n",
    "    # create list of neurons containing the spikes timestamps aligned with the event\n",
    "    neuron_trials = []\n",
    "    for i, i_t in enumerate(trials_idx):\n",
    "        neuron_trials.append(sp_py[\"sp_samples\"][i_t][neuron] - event_timestamps[i])\n",
    "    return np.array(neuron_trials, dtype=\"object\")"
   ]
  },
  {
   "cell_type": "code",
   "execution_count": 37,
   "metadata": {},
   "outputs": [],
   "source": [
    "def trial_average_fr(neuron_trials):\n",
    "    # Compute the Average firing rate\n",
    "    sorted_sp_neuron = np.sort(np.concatenate(neuron_trials))\n",
    "    sum_sp = np.zeros(int(sorted_sp_neuron[-1] - sorted_sp_neuron[0] + 1))\n",
    "    sorted_sp_shift = np.array(sorted_sp_neuron - sorted_sp_neuron[0], dtype=int)\n",
    "    for i in sorted_sp_shift:\n",
    "        sum_sp[i] += 1\n",
    "    trial_average_sp = sum_sp / len(neuron_trials)\n",
    "    return trial_average_sp, sorted_sp_neuron"
   ]
  },
  {
   "cell_type": "code",
   "execution_count": 38,
   "metadata": {},
   "outputs": [],
   "source": [
    "def compute_fr(neuron_trials,kernel,fs,downsample):\n",
    "    trials_conv = []\n",
    "    for i_trial in range(len(neuron_trials)):\n",
    "        if len(neuron_trials[i_trial]) != 0:\n",
    "            arr_timestamps = np.zeros(neuron_trials[i_trial][-1]+1) # array with n timestamps\n",
    "            for sp in neuron_trials[i_trial]:\n",
    "                arr_timestamps[sp] += 1\n",
    "            # Downsample to 1ms\n",
    "            arr_timestamps =np.sum(np.concatenate((arr_timestamps,np.zeros(downsample-len(arr_timestamps)%downsample))).reshape(-1,downsample),axis=1)\n",
    "\n",
    "            conv = np.convolve(arr_timestamps,kernel,mode='same')*fs   \n",
    "        else:\n",
    "            conv=[0]\n",
    "        trials_conv.append(conv)\n",
    "    return trials_conv"
   ]
  },
  {
   "cell_type": "code",
   "execution_count": 80,
   "metadata": {},
   "outputs": [],
   "source": [
    "def fr_in_window(x,start,end):\n",
    "    fr = np.zeros(len(x))\n",
    "    for i,i_x in enumerate(x):\n",
    "        fr[i] = np.nan_to_num(np.mean(i_x[start[i]:end[i]]), nan=0)\n",
    "    return fr\n"
   ]
  },
  {
   "cell_type": "code",
   "execution_count": null,
   "metadata": {},
   "outputs": [],
   "source": [
    "def compute_mean_fr(conv,event_timestamps,align_event):\n",
    "    for i,i_conv in enumerate(conv):\n",
    "        np.array(len(conv[i])) - event_timestamps[i,align_event] # define timestamp vector corresponding with the shift\n",
    "        # ver como hacer el mean ya que cada trial empieza en un momento dif (no est'an alineados)\n",
    "        conv[i]\n",
    "    "
   ]
  },
  {
   "cell_type": "code",
   "execution_count": 81,
   "metadata": {},
   "outputs": [],
   "source": [
    "# plots x lim\n",
    "x_lim_max = 2\n",
    "x_lim_min = -0.7\n",
    "# select only individual neurons\n",
    "neurons = np.where(sp_py['clustersgroup']=='good')[0]\n",
    "mean_fr:Dict[str,list] = defaultdict(list)\n",
    "for i,neuron in enumerate(neurons):\n",
    "    #fig,_ = plt.subplots(figsize=(8, 8),sharex=True,sharey=True)\n",
    "    for code in target_codes.keys():\n",
    "        target_trials_idx = trials_idx[code][\"trials_idx\"] # select trials with the same stimulus\n",
    "        ev_timestamps = firing_rate.select_events_timestamps(sp_py,target_trials_idx, events) # select events timestamps for all trials\n",
    "        neuron_trials = align_neuron_spikes(target_trials_idx, sp_py, neuron, ev_timestamps[:,0])# set the 0 at the event start trial\n",
    "        shift_ev_timestamps = np.floor(((ev_timestamps.T-ev_timestamps.T[0]).T)/downsample)\n",
    "        conv= compute_fr(neuron_trials,kernel,fs/downsample,downsample)\n",
    "        visual_mean_fr = fr_in_window(x=conv,start=shift_ev_timestamps[:,1],end=shift_ev_timestamps[:,2])\n",
    "        delay_mean_fr = fr_in_window(x=conv,start=shift_ev_timestamps[:,2],end=shift_ev_timestamps[:,3])\n",
    "        saccade_mean_fr = fr_in_window(x=conv,start=shift_ev_timestamps[:,3],end=shift_ev_timestamps[:,4])\n",
    "        # add values to dict\n",
    "        length = len(target_trials_idx)\n",
    "        mean_fr['neuron'] += [i+1]*length*3\n",
    "        mean_fr['code'] += [code] *length*3\n",
    "        mean_fr['event'] += ['visual']*length\n",
    "        mean_fr['event'] += ['delay']*length\n",
    "        mean_fr['event'] += ['saccade']*length\n",
    "        mean_fr['trial'] += target_trials_idx * 3 # 3 times trials idx (for each window)\n",
    "        mean_fr['fr'] += np.concatenate((visual_mean_fr,delay_mean_fr,saccade_mean_fr)).tolist()\n",
    "                \n",
    "        #conv_max=np.max(conv[:int(round((x_lim_max*fs-sorted_sp_neuron[0])/downsample,0))])\n",
    "        # plot\n",
    "        all_trials_fr = compute_mean_fr(conv=conv,event_timestamps=shift_ev_timestamps)\n",
    "        # sample_first_sp = sorted_sp_neuron[0]/downsample\n",
    "        # ds_neuron_trials = neuron_trials/downsample\n",
    "        # axis= target_codes[code][1]\n",
    "        # ax = plt.subplot2grid((3, 3), (axis[0], axis[1]))\n",
    "        #fig=firing_rate.plot_raster_fr(sample_first_sp,conv,fs_ds,ds_neuron_trials,code,ax,fig,i,x_lim_max,x_lim_min,conv_max,events=mean_idx_events)\n",
    "\n",
    "    #fig.legend(['Target ON'], fontsize=9)\n",
    "    #plt.show()\n",
    "mean_fr=pd.DataFrame(mean_fr)"
   ]
  },
  {
   "cell_type": "code",
   "execution_count": 64,
   "metadata": {},
   "outputs": [
    {
     "data": {
      "text/plain": [
       "'124/120\\n125/121\\n126/122\\n127/123'"
      ]
     },
     "execution_count": 64,
     "metadata": {},
     "output_type": "execute_result"
    }
   ],
   "source": [
    "\"\"\"124/120\n",
    "125/121\n",
    "126/122\n",
    "127/123\"\"\""
   ]
  },
  {
   "cell_type": "code",
   "execution_count": 88,
   "metadata": {},
   "outputs": [],
   "source": [
    "t_test:Dict[str,list] = defaultdict(list)\n",
    "for i_n, neuron in enumerate(neurons):\n",
    "    for event in ['visual','delay','saccade']:\n",
    "        for i,code_i in enumerate([['124','120'],['125','121'],['126','122'],['127','123']]):\n",
    "            a=mean_fr[(mean_fr['neuron']==i_n+1) & (mean_fr['event']==event)& (mean_fr['code']==code_i[0])]\n",
    "            b=mean_fr[(mean_fr['neuron']==i_n+1) & (mean_fr['event']==event)& (mean_fr['code']==code_i[1])]\n",
    "            p=stats.ttest_ind(a['fr'].values, b['fr'].values, axis=0)\n",
    "            t_test['codes']+=[code_i]\n",
    "            t_test['neuron']+=[i_n+1]\n",
    "            t_test['event']+=[event]\n",
    "            t_test['p']+=[p[1]]\n",
    "t_test=pd.DataFrame(t_test)"
   ]
  },
  {
   "cell_type": "code",
   "execution_count": 89,
   "metadata": {},
   "outputs": [
    {
     "data": {
      "text/html": [
       "<div>\n",
       "<style scoped>\n",
       "    .dataframe tbody tr th:only-of-type {\n",
       "        vertical-align: middle;\n",
       "    }\n",
       "\n",
       "    .dataframe tbody tr th {\n",
       "        vertical-align: top;\n",
       "    }\n",
       "\n",
       "    .dataframe thead th {\n",
       "        text-align: right;\n",
       "    }\n",
       "</style>\n",
       "<table border=\"1\" class=\"dataframe\">\n",
       "  <thead>\n",
       "    <tr style=\"text-align: right;\">\n",
       "      <th></th>\n",
       "      <th>codes</th>\n",
       "      <th>neuron</th>\n",
       "      <th>event</th>\n",
       "      <th>p</th>\n",
       "    </tr>\n",
       "  </thead>\n",
       "  <tbody>\n",
       "    <tr>\n",
       "      <th>84</th>\n",
       "      <td>[124, 120]</td>\n",
       "      <td>8</td>\n",
       "      <td>visual</td>\n",
       "      <td>0.162944</td>\n",
       "    </tr>\n",
       "    <tr>\n",
       "      <th>85</th>\n",
       "      <td>[125, 121]</td>\n",
       "      <td>8</td>\n",
       "      <td>visual</td>\n",
       "      <td>0.751729</td>\n",
       "    </tr>\n",
       "    <tr>\n",
       "      <th>86</th>\n",
       "      <td>[126, 122]</td>\n",
       "      <td>8</td>\n",
       "      <td>visual</td>\n",
       "      <td>0.509670</td>\n",
       "    </tr>\n",
       "    <tr>\n",
       "      <th>87</th>\n",
       "      <td>[127, 123]</td>\n",
       "      <td>8</td>\n",
       "      <td>visual</td>\n",
       "      <td>0.993884</td>\n",
       "    </tr>\n",
       "    <tr>\n",
       "      <th>88</th>\n",
       "      <td>[124, 120]</td>\n",
       "      <td>8</td>\n",
       "      <td>delay</td>\n",
       "      <td>0.667147</td>\n",
       "    </tr>\n",
       "    <tr>\n",
       "      <th>89</th>\n",
       "      <td>[125, 121]</td>\n",
       "      <td>8</td>\n",
       "      <td>delay</td>\n",
       "      <td>0.020182</td>\n",
       "    </tr>\n",
       "    <tr>\n",
       "      <th>90</th>\n",
       "      <td>[126, 122]</td>\n",
       "      <td>8</td>\n",
       "      <td>delay</td>\n",
       "      <td>0.419946</td>\n",
       "    </tr>\n",
       "    <tr>\n",
       "      <th>91</th>\n",
       "      <td>[127, 123]</td>\n",
       "      <td>8</td>\n",
       "      <td>delay</td>\n",
       "      <td>0.113214</td>\n",
       "    </tr>\n",
       "    <tr>\n",
       "      <th>92</th>\n",
       "      <td>[124, 120]</td>\n",
       "      <td>8</td>\n",
       "      <td>saccade</td>\n",
       "      <td>0.000684</td>\n",
       "    </tr>\n",
       "    <tr>\n",
       "      <th>93</th>\n",
       "      <td>[125, 121]</td>\n",
       "      <td>8</td>\n",
       "      <td>saccade</td>\n",
       "      <td>0.045755</td>\n",
       "    </tr>\n",
       "    <tr>\n",
       "      <th>94</th>\n",
       "      <td>[126, 122]</td>\n",
       "      <td>8</td>\n",
       "      <td>saccade</td>\n",
       "      <td>0.976500</td>\n",
       "    </tr>\n",
       "    <tr>\n",
       "      <th>95</th>\n",
       "      <td>[127, 123]</td>\n",
       "      <td>8</td>\n",
       "      <td>saccade</td>\n",
       "      <td>0.035389</td>\n",
       "    </tr>\n",
       "  </tbody>\n",
       "</table>\n",
       "</div>"
      ],
      "text/plain": [
       "         codes  neuron    event         p\n",
       "84  [124, 120]       8   visual  0.162944\n",
       "85  [125, 121]       8   visual  0.751729\n",
       "86  [126, 122]       8   visual  0.509670\n",
       "87  [127, 123]       8   visual  0.993884\n",
       "88  [124, 120]       8    delay  0.667147\n",
       "89  [125, 121]       8    delay  0.020182\n",
       "90  [126, 122]       8    delay  0.419946\n",
       "91  [127, 123]       8    delay  0.113214\n",
       "92  [124, 120]       8  saccade  0.000684\n",
       "93  [125, 121]       8  saccade  0.045755\n",
       "94  [126, 122]       8  saccade  0.976500\n",
       "95  [127, 123]       8  saccade  0.035389"
      ]
     },
     "execution_count": 89,
     "metadata": {},
     "output_type": "execute_result"
    }
   ],
   "source": [
    "t_test[t_test['neuron']==8]"
   ]
  },
  {
   "cell_type": "code",
   "execution_count": null,
   "metadata": {},
   "outputs": [],
   "source": []
  }
 ],
 "metadata": {
  "kernelspec": {
   "display_name": "EphysVibe-48n-7Gof",
   "language": "python",
   "name": "python3"
  },
  "language_info": {
   "codemirror_mode": {
    "name": "ipython",
    "version": 3
   },
   "file_extension": ".py",
   "mimetype": "text/x-python",
   "name": "python",
   "nbconvert_exporter": "python",
   "pygments_lexer": "ipython3",
   "version": "3.8.10"
  },
  "orig_nbformat": 4,
  "vscode": {
   "interpreter": {
    "hash": "c0bc8c099b017ba9d073358cd61a0f952fda5c0927b42de8a275d5317edfe6cc"
   }
  }
 },
 "nbformat": 4,
 "nbformat_minor": 2
}
