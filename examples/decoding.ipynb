{
   "cells": [
      {
         "cell_type": "code",
         "execution_count": 1,
         "metadata": {},
         "outputs": [],
         "source": [
            "import numpy as np\n",
            "import pandas as pd\n",
            "from matplotlib import pyplot as plt\n",
            "import seaborn as sns\n",
            "from scipy import signal,stats\n",
            "from ephysvibe.trials.spikes import firing_rate\n",
            "from ephysvibe.trials import select_trials\n",
            "from ephysvibe.spike_sorting import config\n",
            "from ephysvibe.task import def_task,task_constants\n",
            "from collections import defaultdict\n",
            "from typing import Dict\n",
            "import logging\n",
            "from scipy import fft,signal\n",
            "import os\n",
            "from sklearn.model_selection import train_test_split, GridSearchCV,KFold,cross_val_score,StratifiedKFold\n",
            "from sklearn.svm import SVC,LinearSVC\n",
            "from sklearn.preprocessing import LabelEncoder, StandardScaler, MinMaxScaler\n",
            "from sklearn import metrics\n",
            "from multiprocessing import Pool\n",
            "from ephysvibe.structures.spike_data import SpikeData\n",
            "from ephysvibe.structures.bhv_data import BhvData\n",
            "seed=2023"
         ]
      },
      {
         "cell_type": "code",
         "execution_count": 2,
         "metadata": {},
         "outputs": [],
         "source": [
            "def moving_average(data:np.ndarray,win:int, step:int=1)-> np.ndarray:\n",
            "    d_shape=data.shape\n",
            "    d_avg = np.zeros((d_shape[0],d_shape[1],int(np.floor(d_shape[2]/step))))\n",
            "    count = 0\n",
            "    for i_step in np.arange(0,d_shape[2]-step,step):\n",
            "        d_avg[:,:,count] = np.mean(data[:,:,i_step:i_step+win],axis=2)\n",
            "        count +=1\n",
            "    return d_avg"
         ]
      },
      {
         "cell_type": "code",
         "execution_count": 3,
         "metadata": {},
         "outputs": [],
         "source": [
            "def get_avg_fr(sp_path,bhv_path,cgroup,win,step,in_out=\"in\",e_align=\"sample_on\",t_before=200,to_decode='samples'):\n",
            "    print(sp_path)\n",
            "    print(bhv_path)\n",
            "    data = SpikeData.from_python_hdf5(sp_path)\n",
            "    bhv = BhvData.from_python_hdf5(bhv_path)\n",
            "\n",
            "    trial_idx = np.where(np.logical_and(data.trial_error == 0, data.block == 1))[0]\n",
            "    if np.any(np.isnan(data.neuron_cond)):\n",
            "        neuron_cond = np.ones(len(data.clustersgroup))\n",
            "    else:\n",
            "        neuron_cond=data.neuron_cond\n",
            "    task = def_task.create_task_frame(\n",
            "        condition=bhv.condition[trial_idx],\n",
            "        test_stimuli=bhv.test_stimuli[trial_idx],\n",
            "        samples_cond=task_constants.SAMPLES_COND,\n",
            "        neuron_cond = neuron_cond,\n",
            "    )\n",
            "    if cgroup == 'all':\n",
            "        neurons = np.where(data.clustersgroup != cgroup)[0]\n",
            "    else:\n",
            "        neurons = np.where(data.clustersgroup == cgroup)[0]\n",
            "\n",
            "    task = task[np.logical_and(np.in1d(task['i_neuron'].values,neurons),task['in_out']==in_out)]\n",
            "\n",
            "    if to_decode == 'samples': \n",
            "        task=task[task['sample']!='o0_c0']\n",
            "    elif to_decode == 'neutral':\n",
            "        task['sample'].replace(['o1_c1', 'o1_c5', 'o5_c1', 'o5_c5'],'no_neutral',inplace=True)\n",
            "    elif to_decode == 'colors': \n",
            "        task=task[task['sample']!='o0_c0']\n",
            "        task['sample'].replace(['o1_c1', 'o5_c1'],'c1',inplace=True)\n",
            "        task['sample'].replace(['o1_c5', 'o5_c5'],'c5',inplace=True)\n",
            "    elif to_decode == 'orientation': \n",
            "        task=task[task['sample']!='o0_c0']\n",
            "        task['sample'].replace(['o1_c1', 'o1_c5'],'o1',inplace=True)\n",
            "        task['sample'].replace(['o5_c1', 'o5_c5'],'o5',inplace=True)\n",
            "    else:\n",
            "        print('Error: to_decode must be \"samples\" or \"neutral\"')\n",
            "\n",
            "    # split in two groups where the neurons in each have the same trials in in or out\n",
            "    task_1 = task[task['i_neuron']==neurons[0]].copy()\n",
            "    trials_neuron = task_1['trial_idx'].values\n",
            "    task_1['trial_idx'] = task_1['trial_idx'].replace(trials_neuron,np.arange(0,len(trials_neuron)))\n",
            "    t_neurons = task[np.in1d(task['trial_idx'].values,trials_neuron)]['i_neuron'].unique()\n",
            "    t_neurons_2=neurons[~np.in1d(neurons,t_neurons)]\n",
            "    task_all = [task_1]\n",
            "    if len(t_neurons_2) != 0:\n",
            "        trials_neuron_2 = task[task['i_neuron']==t_neurons_2[0]]['trial_idx'].values\n",
            "        trials_neuron = [trials_neuron,trials_neuron_2]\n",
            "        t_neurons = [t_neurons,t_neurons_2]\n",
            "        task_2 = task[task['i_neuron']==t_neurons_2[0]].copy()\n",
            "        task_2['trial_idx'] = task_2['trial_idx'].replace(trials_neuron_2,np.arange(0,len(trials_neuron_2)))\n",
            "        task_all = [task_1,task_2]\n",
            "    else:\n",
            "        trials_neuron = [trials_neuron]\n",
            "        t_neurons = [t_neurons]\n",
            "    \n",
            "    sp_avg_all = []\n",
            "    for i_task, (trial_idx_n, neurons,task) in enumerate(zip(trials_neuron,t_neurons,task_all)):\n",
            "        min_task = task.groupby([\"sample\"]).count().min().min()\n",
            "        # check number of trials\n",
            "        if min_task>=30:\n",
            "            trials_s_on = data.code_samples[\n",
            "                trial_idx[trial_idx_n],\n",
            "                np.where(data.code_numbers[trial_idx[trial_idx_n]] == task_constants.EVENTS_B1[e_align])[\n",
            "                    1\n",
            "                ],\n",
            "            ]\n",
            "            shifts = -(trials_s_on - t_before).astype(int)\n",
            "            shifts = shifts[:,np.newaxis]\n",
            "            shift_sp = SpikeData.indep_roll(data.sp_samples[trial_idx[trial_idx_n]][:,neurons], shifts, axis=2)[:,:, :1600]\n",
            "            sp_avg = moving_average(shift_sp, win=win, step=step)\n",
            "            sp_avg_all.append(sp_avg)\n",
            "        else:\n",
            "            task_all.pop(i_task)\n",
            "    return task_all,sp_avg_all"
         ]
      },
      {
         "cell_type": "code",
         "execution_count": 4,
         "metadata": {},
         "outputs": [],
         "source": [
            "def sample_df(frs_avg,tasks,min_trials,seed):\n",
            "    all_df = []\n",
            "    sample_dict:Dict[str,list] = defaultdict(list)\n",
            "    \n",
            "    for i_sample in tasks[0]['sample'].unique(): \n",
            "        all_sample_fr=[]\n",
            "        for fr_s,n_task in zip(frs_avg,tasks): #days\n",
            "            t_idx = n_task[n_task[\"sample\"]==i_sample].sample(min_trials,random_state=seed)[\"trial_idx\"].values\n",
            "            sample_fr = fr_s[t_idx]\n",
            "            all_sample_fr.append(sample_fr)\n",
            "        all_sample_fr = np.concatenate(all_sample_fr,axis=1)\n",
            "        sample_dict[i_sample] = all_sample_fr\n",
            "    return sample_dict"
         ]
      },
      {
         "cell_type": "code",
         "execution_count": 5,
         "metadata": {},
         "outputs": [],
         "source": [
            "def compute_window_matrix(all_df,n_win):\n",
            "    y,all_samples = [], []\n",
            "    for i_sample in all_df.keys(): \n",
            "        n_df = all_df[i_sample]\n",
            "        data = n_df[:,:,n_win]\n",
            "\n",
            "        all_samples.append(data)\n",
            "        y.append([i_sample]*data.shape[0])\n",
            "    return np.concatenate(all_samples,axis=0),np.concatenate(y)"
         ]
      },
      {
         "cell_type": "code",
         "execution_count": 6,
         "metadata": {},
         "outputs": [],
         "source": [
            "def run_svm_decoder(model,frs_avg,tasks,windows,min_trials,it_seed,n_it,le):\n",
            "    scores = np.zeros((windows))\n",
            "    all_df= sample_df(frs_avg,tasks,min_trials,it_seed[n_it])\n",
            "    #all_df['sample']=le.transform(all_df['sample'])\n",
            "    for n_win in np.arange(0,windows):\n",
            "        #  select trials randomly\n",
            "        X,y = compute_window_matrix(all_df,n_win)\n",
            "        scaler = MinMaxScaler()\n",
            "        X = scaler.fit_transform(X)\n",
            "        y=le.transform(y)\n",
            "        # split in train and test\n",
            "        X_train, X_test, y_train, y_test = train_test_split(X, y,test_size=.2,shuffle=True, random_state=it_seed[n_it],stratify=y)\n",
            "        np.random.seed(it_seed[n_it]) \n",
            "        idx_swr = np.random.choice(X_train.shape[0], size=X_train.shape[0], replace=True, p=None)\n",
            "        X_train = X_train[idx_swr]\n",
            "        y_train = y_train[idx_swr]\n",
            "        model.fit(X_train,y_train)\n",
            "        y_predict = model.predict(X_test)\n",
            "        scores[n_win] = metrics.accuracy_score(y_test,y_predict)# cross_val_score(model, X, y, cv=kf,n_jobs=-1).mean()\n",
            "    return scores"
         ]
      },
      {
         "cell_type": "code",
         "execution_count": 7,
         "metadata": {},
         "outputs": [],
         "source": [
            "# #TODO: \n",
            "# def run_svm_decoder_shift(model,frs_avg,tasks,windows,min_trials,it_seed,n_it,le):\n",
            "#     scores = np.zeros((windows))\n",
            "#     all_df= sample_df(frs_avg,tasks,min_trials,it_seed[n_it])\n",
            "#     #all_df['sample']=le.transform(all_df['sample'])\n",
            "#     for n_win_train in np.arange(0,windows):\n",
            "#         X,y = compute_window_matrix(all_df,n_win_train)\n",
            "#         scaler_train = MinMaxScaler()\n",
            "#         X = scaler_train.fit_transform(X)\n",
            "#         y=le.transform(y)\n",
            "\n",
            "#         for n_win_test in np.arange(0,windows):\n",
            "#             #  select trials randomly\n",
            "            \n",
            "\n",
            "#             # split in train and test\n",
            "#             X_train, X_test, y_train, y_test, idx_train, idx_test = train_test_split(X, y, np.arange(0,len(X)),test_size=.2,shuffle=True, random_state=it_seed[n_it],stratify=y)\n",
            "#             np.random.seed(it_seed[n_it]) \n",
            "#             idx_swr = np.random.choice(X_train.shape[0], size=X_train.shape[0], replace=True, p=None)\n",
            "#             X_train = X_train[idx_swr]\n",
            "#             y_train = y_train[idx_swr]\n",
            "#             model.fit(X_train,y_train)\n",
            "#             y_predict = model.predict(X_test)\n",
            "#             scores[n_win] = metrics.accuracy_score(y_test,y_predict)\n",
            "#     return scores"
         ]
      },
      {
         "cell_type": "code",
         "execution_count": 8,
         "metadata": {},
         "outputs": [],
         "source": [
            "# plot results\n",
            "def plot_accuracy(scores,win_steps,neuron_max_shift,x_lim_min,x_lim_max,n_neuron):\n",
            "    fig,ax = plt.subplots()\n",
            "    ax.plot(((np.arange(0,len(scores[0]))*win_steps)- neuron_max_shift[n_neuron-1])/1000,scores[:13].mean(axis=0))\n",
            "    ax.set_xlim(x_lim_min, x_lim_max)\n",
            "    ax.vlines(\n",
            "        0, 0.3, 1, color=\"k\", linestyles=\"dashed\"\n",
            "    )# sample on\n",
            "    ax.hlines(\n",
            "        0.5, x_lim_min, x_lim_max, color=\"gray\", linestyles=\"solid\"\n",
            "    )\n",
            "    ax.set_title('Is neuron %d engaged in the task?'%(n_neuron))\n",
            "    ax.set(xlabel=\"Time (s)\", ylabel=\"SVM classifier accuracy\")\n",
            "    fig.tight_layout(pad=0.2, h_pad=0.2, w_pad=0.2)\n",
            "    fig.legend(['Accuracy','Sample on'], fontsize=9)"
         ]
      },
      {
         "cell_type": "markdown",
         "metadata": {},
         "source": [
            "### Read and arange data"
         ]
      },
      {
         "cell_type": "code",
         "execution_count": 9,
         "metadata": {},
         "outputs": [],
         "source": [
            "file1 = open(\"/envau/work/invibe/USERS/IBOS/code/flow/paths_bhv_v4.txt\", \"r\")\n",
            "lines_bhv = file1.readlines()\n",
            "file1 = open(\"/envau/work/invibe/USERS/IBOS/code/flow/paths_sp_v4.txt\", \"r\")\n",
            "lines_sp = file1.readlines()"
         ]
      },
      {
         "cell_type": "code",
         "execution_count": 10,
         "metadata": {},
         "outputs": [
            {
               "name": "stdout",
               "output_type": "stream",
               "text": [
                  "/envau/work/invibe/USERS/IBOS/data/Riesling/TSCM/OpenEphys/session_struct/Riesling/v4/2023-02-28_10-15-02_Riesling_v4_e1_r1_sp.h5\n",
                  "/envau/work/invibe/USERS/IBOS/data/Riesling/TSCM/OpenEphys/session_struct/Riesling/2023-02-28_10-15-02_Riesling_e1_r1_bhv.h5\n",
                  "/envau/work/invibe/USERS/IBOS/data/Riesling/TSCM/OpenEphys/session_struct/Riesling/v4/2023-02-08_10-39-41_Riesling_v4_e1_r1_sp.h5\n",
                  "/envau/work/invibe/USERS/IBOS/data/Riesling/TSCM/OpenEphys/session_struct/Riesling/2023-02-08_10-39-41_Riesling_e1_r1_bhv.h5\n",
                  "/envau/work/invibe/USERS/IBOS/data/Riesling/TSCM/OpenEphys/session_struct/Riesling/v4/2023-03-01_10-18-38_Riesling_v4_e1_r1_sp.h5\n",
                  "/envau/work/invibe/USERS/IBOS/data/Riesling/TSCM/OpenEphys/session_struct/Riesling/2023-03-01_10-18-38_Riesling_e1_r1_bhv.h5\n",
                  "/envau/work/invibe/USERS/IBOS/data/Riesling/TSCM/OpenEphys/session_struct/Riesling/v4/2023-03-03_10-59-32_Riesling_v4_e1_r1_sp.h5\n",
                  "/envau/work/invibe/USERS/IBOS/data/Riesling/TSCM/OpenEphys/session_struct/Riesling/2023-03-03_10-59-32_Riesling_e1_r1_bhv.h5\n",
                  "/envau/work/invibe/USERS/IBOS/data/Riesling/TSCM/OpenEphys/session_struct/Riesling/v4/2023-03-06_10-32-51_Riesling_v4_e1_r1_sp.h5\n",
                  "/envau/work/invibe/USERS/IBOS/data/Riesling/TSCM/OpenEphys/session_struct/Riesling/2023-03-06_10-32-51_Riesling_e1_r1_bhv.h5\n"
               ]
            },
            {
               "ename": "KeyboardInterrupt",
               "evalue": "",
               "output_type": "error",
               "traceback": [
                  "\u001b[0;31m---------------------------------------------------------------------------\u001b[0m",
                  "\u001b[0;31mKeyboardInterrupt\u001b[0m                         Traceback (most recent call last)",
                  "Cell \u001b[0;32mIn[10], line 24\u001b[0m\n\u001b[1;32m     21\u001b[0m tasks_all,frs_avg_all \u001b[39m=\u001b[39m [],[]\n\u001b[1;32m     23\u001b[0m \u001b[39mfor\u001b[39;00m n_bhv,n_sp \u001b[39min\u001b[39;00m \u001b[39mzip\u001b[39m(paths_bhv,paths_sp):\n\u001b[0;32m---> 24\u001b[0m     task,fr_avg \u001b[39m=\u001b[39m load_fr_samples(n_bhv,n_sp,\u001b[39m1\u001b[39;49m)\n\u001b[1;32m     25\u001b[0m     tasks_all\u001b[39m.\u001b[39mappend(task)\n\u001b[1;32m     26\u001b[0m     frs_avg_all\u001b[39m.\u001b[39mappend(fr_avg)\n",
                  "Cell \u001b[0;32mIn[10], line 19\u001b[0m, in \u001b[0;36mload_fr_samples\u001b[0;34m(n_bhv, n_sp, n)\u001b[0m\n\u001b[1;32m     18\u001b[0m \u001b[39mdef\u001b[39;00m \u001b[39mload_fr_samples\u001b[39m(n_bhv:\u001b[39mstr\u001b[39m,n_sp:\u001b[39mstr\u001b[39m,n:\u001b[39mint\u001b[39m):\n\u001b[0;32m---> 19\u001b[0m     task,sp_avg \u001b[39m=\u001b[39m get_avg_fr(sp_path\u001b[39m=\u001b[39;49mn_sp,bhv_path \u001b[39m=\u001b[39;49mn_bhv,cgroup\u001b[39m=\u001b[39;49mcgroup,win\u001b[39m=\u001b[39;49mwin_size,step\u001b[39m=\u001b[39;49mstep,in_out\u001b[39m=\u001b[39;49min_out,e_align\u001b[39m=\u001b[39;49me_align,t_before\u001b[39m=\u001b[39;49m\u001b[39m200\u001b[39;49m,to_decode\u001b[39m=\u001b[39;49mto_decode)\n\u001b[1;32m     20\u001b[0m     \u001b[39mreturn\u001b[39;00m task,sp_avg\n",
                  "Cell \u001b[0;32mIn[3], line 5\u001b[0m, in \u001b[0;36mget_avg_fr\u001b[0;34m(sp_path, bhv_path, cgroup, win, step, in_out, e_align, t_before, to_decode)\u001b[0m\n\u001b[1;32m      3\u001b[0m \u001b[39mprint\u001b[39m(bhv_path)\n\u001b[1;32m      4\u001b[0m data \u001b[39m=\u001b[39m SpikeData\u001b[39m.\u001b[39mfrom_python_hdf5(sp_path)\n\u001b[0;32m----> 5\u001b[0m bhv \u001b[39m=\u001b[39m BhvData\u001b[39m.\u001b[39;49mfrom_python_hdf5(bhv_path)\n\u001b[1;32m      7\u001b[0m trial_idx \u001b[39m=\u001b[39m np\u001b[39m.\u001b[39mwhere(np\u001b[39m.\u001b[39mlogical_and(data\u001b[39m.\u001b[39mtrial_error \u001b[39m==\u001b[39m \u001b[39m0\u001b[39m, data\u001b[39m.\u001b[39mblock \u001b[39m==\u001b[39m \u001b[39m1\u001b[39m))[\u001b[39m0\u001b[39m]\n\u001b[1;32m      8\u001b[0m \u001b[39mif\u001b[39;00m np\u001b[39m.\u001b[39many(np\u001b[39m.\u001b[39misnan(data\u001b[39m.\u001b[39mneuron_cond)):\n",
                  "File \u001b[0;32m~/Documents/codes/EphysVibe/ephysvibe/structures/bhv_data.py:233\u001b[0m, in \u001b[0;36mBhvData.from_python_hdf5\u001b[0;34m(cls, load_path)\u001b[0m\n\u001b[1;32m    231\u001b[0m code_times \u001b[39m=\u001b[39m group[\u001b[39m\"\u001b[39m\u001b[39mcode_times\u001b[39m\u001b[39m\"\u001b[39m][:]\n\u001b[1;32m    232\u001b[0m condition \u001b[39m=\u001b[39m group[\u001b[39m\"\u001b[39m\u001b[39mcondition\u001b[39m\u001b[39m\"\u001b[39m][:]\n\u001b[0;32m--> 233\u001b[0m eye_ml \u001b[39m=\u001b[39m group[\u001b[39m\"\u001b[39;49m\u001b[39meye_ml\u001b[39;49m\u001b[39m\"\u001b[39;49m][:]\n\u001b[1;32m    234\u001b[0m fix_fp_t_time \u001b[39m=\u001b[39m group[\u001b[39m\"\u001b[39m\u001b[39mfix_fp_t_time\u001b[39m\u001b[39m\"\u001b[39m][:]\n\u001b[1;32m    235\u001b[0m fix_fp_post_t_time \u001b[39m=\u001b[39m group[\u001b[39m\"\u001b[39m\u001b[39mfix_fp_post_t_time\u001b[39m\u001b[39m\"\u001b[39m][:]\n",
                  "File \u001b[0;32mh5py/_objects.pyx:54\u001b[0m, in \u001b[0;36mh5py._objects.with_phil.wrapper\u001b[0;34m()\u001b[0m\n",
                  "File \u001b[0;32mh5py/_objects.pyx:55\u001b[0m, in \u001b[0;36mh5py._objects.with_phil.wrapper\u001b[0;34m()\u001b[0m\n",
                  "File \u001b[0;32m~/.virtualenvs/EphysVibe-48n-7Gof/lib/python3.8/site-packages/h5py/_hl/dataset.py:741\u001b[0m, in \u001b[0;36mDataset.__getitem__\u001b[0;34m(self, args, new_dtype)\u001b[0m\n\u001b[1;32m    739\u001b[0m \u001b[39mif\u001b[39;00m \u001b[39mself\u001b[39m\u001b[39m.\u001b[39m_fast_read_ok \u001b[39mand\u001b[39;00m (new_dtype \u001b[39mis\u001b[39;00m \u001b[39mNone\u001b[39;00m):\n\u001b[1;32m    740\u001b[0m     \u001b[39mtry\u001b[39;00m:\n\u001b[0;32m--> 741\u001b[0m         \u001b[39mreturn\u001b[39;00m \u001b[39mself\u001b[39;49m\u001b[39m.\u001b[39;49m_fast_reader\u001b[39m.\u001b[39;49mread(args)\n\u001b[1;32m    742\u001b[0m     \u001b[39mexcept\u001b[39;00m \u001b[39mTypeError\u001b[39;00m:\n\u001b[1;32m    743\u001b[0m         \u001b[39mpass\u001b[39;00m  \u001b[39m# Fall back to Python read pathway below\u001b[39;00m\n",
                  "\u001b[0;31mKeyboardInterrupt\u001b[0m: "
               ]
            }
         ],
         "source": [
            "# load all  files\n",
            "paths_bhv,paths_sp=[],[]\n",
            "for line in lines_bhv:\n",
            "    paths_bhv.append(line.strip())\n",
            "for line in lines_sp:\n",
            "    paths_sp.append(line.strip())\n",
            "cgroup = \"all\"\n",
            "in_out=\"out\"\n",
            "e_align=\"sample_on\"\n",
            "win_size = 100\n",
            "step = 10\n",
            "fix_duration = 200\n",
            "sample_duration = 450\n",
            "fr_samples=[]\n",
            "max_n_trials = []\n",
            "num_neurons = 0\n",
            "to_decode ='neutral'\n",
            "def load_fr_samples(n_bhv:str,n_sp:str,n:int):\n",
            "    task,sp_avg = get_avg_fr(sp_path=n_sp,bhv_path =n_bhv,cgroup=cgroup,win=win_size,step=step,in_out=in_out,e_align=e_align,t_before=200,to_decode=to_decode)\n",
            "    return task,sp_avg\n",
            "tasks_all,frs_avg_all = [],[]\n",
            "\n",
            "for n_bhv,n_sp in zip(paths_bhv,paths_sp):\n",
            "    task,fr_avg = load_fr_samples(n_bhv,n_sp,1)\n",
            "    tasks_all.append(task)\n",
            "    frs_avg_all.append(fr_avg)\n",
            "\n",
            "# with Pool(1) as pool:\n",
            "#     async_fr = [pool.apply_async(load_fr_samples,args=(paths[n],n)) for n in np.arange(len(paths))] \n",
            "#     # frs = [asc.get() for asc in async_fr]\n",
            "#     for asc in async_fr:\n",
            "#         tasks_all.append(asc.get()[0])\n",
            "#         frs_avg_all.append(asc.get()[1])"
         ]
      },
      {
         "cell_type": "code",
         "execution_count": 62,
         "metadata": {},
         "outputs": [],
         "source": [
            "# Check the \n",
            "tasks,frs_avg = [],[]\n",
            "for i in range(len(frs_avg_all)):\n",
            "    if len(frs_avg_all[i]) >0:\n",
            "        frs_avg.append(frs_avg_all[i][0])\n",
            "        tasks.append(tasks_all[i][0])\n",
            "        if len(frs_avg_all[i]) >1:\n",
            "            frs_avg.append(frs_avg_all[i][1])\n",
            "            tasks.append(tasks_all[i][1])"
         ]
      },
      {
         "cell_type": "code",
         "execution_count": 63,
         "metadata": {},
         "outputs": [
            {
               "name": "stdout",
               "output_type": "stream",
               "text": [
                  "46 0\n",
                  "47 1\n",
                  "45 2\n",
                  "46 3\n",
                  "42 4\n",
                  "52 5\n",
                  "68 6\n",
                  "65 7\n",
                  "64 8\n",
                  "76 9\n",
                  "68 10\n",
                  "43 11\n",
                  "66 12\n",
                  "74 13\n",
                  "32 14\n",
                  "34 15\n",
                  "31 16\n",
                  "32 17\n",
                  "48 18\n"
               ]
            }
         ],
         "source": [
            "# max number of trials that can be used \n",
            "min_trials = frs_avg[0].shape[0]\n",
            "for rec in range(len(tasks)):\n",
            "    min_n_trials = tasks[rec].groupby([\"sample\"]).count().min()[0]\n",
            "    print(min_n_trials, rec)\n",
            "    min_trials = min_n_trials if min_n_trials < min_trials else min_trials"
         ]
      },
      {
         "attachments": {},
         "cell_type": "markdown",
         "metadata": {},
         "source": [
            "### Define and use SVM for decoding"
         ]
      },
      {
         "cell_type": "code",
         "execution_count": 64,
         "metadata": {},
         "outputs": [],
         "source": [
            "model=  SVC(kernel='linear',C=20,decision_function_shape='ovr',gamma=0.001)"
         ]
      },
      {
         "cell_type": "code",
         "execution_count": 65,
         "metadata": {},
         "outputs": [],
         "source": [
            "le = LabelEncoder()\n",
            "\n",
            "le.fit(tasks[0]['sample'].unique())\n",
            "#all_df['sample']=le.transform(all_df['sample'])\n",
            "n_iterations = 10\n",
            "rng = np.random.default_rng(seed=seed)\n",
            "it_seed = rng.integers(low=1, high=2023, size=n_iterations, dtype=int)\n",
            "windows = frs_avg[0].shape[2]\n",
            "scores=[]\n",
            "for n_it in range(n_iterations):\n",
            "    scores.append(run_svm_decoder(model,frs_avg,tasks,windows,min_trials,it_seed,n_it=n_it,le=le))\n",
            "\n",
            "# with Pool(5) as pool:\n",
            "#     async_scores = [pool.apply_async(run_svm_decoder,args=(model,frs_avg,tasks,windows,min_trials,it_seed,n,le)) for n in np.arange(n_iterations)] \n",
            "#     scores = [asc.get() for asc in async_scores]"
         ]
      },
      {
         "cell_type": "code",
         "execution_count": 66,
         "metadata": {},
         "outputs": [],
         "source": [
            "n_neurons = 0\n",
            "for rec in range(len(frs_avg)):\n",
            "    n_neurons +=frs_avg[rec].shape[1]"
         ]
      },
      {
         "cell_type": "code",
         "execution_count": 67,
         "metadata": {},
         "outputs": [
            {
               "data": {
                  "text/plain": [
                     "Text(0.5, 0.98, 'v4, condition: out, group: all, 722 neurons,window: 100, steps: 10')"
                  ]
               },
               "execution_count": 67,
               "metadata": {},
               "output_type": "execute_result"
            },
            {
               "data": {
                  "image/png": "[encoded data removed]",
                  "text/plain": [
                     "<Figure size 1000x500 with 1 Axes>"
                  ]
               },
               "metadata": {},
               "output_type": "display_data"
            }
         ],
         "source": [
            "s_path = os.path.normpath(paths_sp[0]).split(os.sep)\n",
            "fig,ax = plt.subplots(figsize=(10,5))\n",
            "x = ((np.arange(0, len(scores[0]))) - fix_duration / step) * 10\n",
            "ax.plot(x, np.array(scores).mean(axis=0), label=\"Accuracy\")\n",
            "if to_decode == \"samples\":\n",
            "    threshole = 0.25\n",
            "else:\n",
            "    threshole = 0.5\n",
            "ss = np.sum(np.array(scores) <= threshole, axis=0) / np.array(scores).shape[0]\n",
            "mask_inf = ss <= 0.01\n",
            "mask_inf_5 = ss <= 0.05\n",
            "# stars\n",
            "ax.scatter(\n",
            "    x[mask_inf],\n",
            "    [threshole - 0.1] * len(x[mask_inf]),\n",
            "    color=\"k\",\n",
            "    marker=\"*\",\n",
            "    label=\"Below 1%\",\n",
            "    s=6,\n",
            ")\n",
            "ax.scatter(\n",
            "    x[mask_inf_5],\n",
            "    [threshole - 0.12] * len(x[mask_inf_5]),\n",
            "    color=\"r\",\n",
            "    marker=\"*\",\n",
            "    label=\"Below 5%\",\n",
            "    s=6,\n",
            ")\n",
            "ax.set_ylim(0, 1)\n",
            "ax.set_yticks(np.arange(0, 1.1, 0.1))\n",
            "# delete boundaries\n",
            "ax.spines[\"right\"].set_visible(False)\n",
            "ax.spines[\"left\"].set_visible(False)\n",
            "ax.spines[\"top\"].set_visible(False)\n",
            "ax.spines[\"bottom\"].set_visible(False)\n",
            "fig.legend(fontsize=9)\n",
            "fig.suptitle(\n",
            "    \"%s, condition: %s, group: %s, %d neurons,window: %d, steps: %d\"\n",
            "    % (s_path[-2], in_out, cgroup, n_neurons, win_size, step)\n",
            ")"
         ]
      },
      {
         "cell_type": "code",
         "execution_count": null,
         "metadata": {},
         "outputs": [],
         "source": []
      },
      {
         "cell_type": "code",
         "execution_count": null,
         "metadata": {},
         "outputs": [],
         "source": []
      }
   ],
   "metadata": {
      "kernelspec": {
         "display_name": "EphysVibe-48n-7Gof",
         "language": "python",
         "name": "python3"
      },
      "language_info": {
         "codemirror_mode": {
            "name": "ipython",
            "version": 3
         },
         "file_extension": ".py",
         "mimetype": "text/x-python",
         "name": "python",
         "nbconvert_exporter": "python",
         "pygments_lexer": "ipython3",
         "version": "3.8.10"
      },
      "orig_nbformat": 4,
      "vscode": {
         "interpreter": {
            "hash": "c0bc8c099b017ba9d073358cd61a0f952fda5c0927b42de8a275d5317edfe6cc"
         }
      }
   },
   "nbformat": 4,
   "nbformat_minor": 2
}
