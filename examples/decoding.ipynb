{
   "cells": [
      {
         "cell_type": "code",
         "execution_count": 1,
         "metadata": {},
         "outputs": [],
         "source": [
            "import numpy as np\n",
            "import pandas as pd\n",
            "from matplotlib import pyplot as plt\n",
            "import seaborn as sns\n",
            "from scipy import signal,stats\n",
            "from ephysvibe.trials.spikes import firing_rate\n",
            "from ephysvibe.trials import select_trials\n",
            "from ephysvibe.spike_sorting import config\n",
            "from ephysvibe.task import def_task,task_constants\n",
            "from collections import defaultdict\n",
            "from typing import Dict\n",
            "import logging\n",
            "from scipy import fft,signal\n",
            "import os\n",
            "from sklearn.model_selection import train_test_split, GridSearchCV,KFold,cross_val_score,StratifiedKFold\n",
            "from sklearn.svm import SVC,LinearSVC\n",
            "from sklearn.preprocessing import LabelEncoder, StandardScaler, MinMaxScaler\n",
            "from sklearn import metrics\n",
            "from multiprocessing import Pool\n",
            "from ephysvibe.structures.trials_data import TrialsData\n",
            "seed=2023"
         ]
      },
      {
         "cell_type": "code",
         "execution_count": 2,
         "metadata": {},
         "outputs": [],
         "source": [
            "def moving_average(data:np.ndarray,win:int, step:int=1)-> np.ndarray:\n",
            "    d_shape=data.shape\n",
            "    d_avg = np.zeros((d_shape[0],d_shape[1],int(np.floor(d_shape[2]/step))))\n",
            "    count = 0\n",
            "    for i_step in np.arange(0,d_shape[2]-step,step):\n",
            "        d_avg[:,:,count] = np.mean(data[:,:,i_step:i_step+win],axis=2)\n",
            "        count +=1\n",
            "    return d_avg"
         ]
      },
      {
         "cell_type": "code",
         "execution_count": 3,
         "metadata": {},
         "outputs": [],
         "source": [
            "def get_avg_fr(filepath,cgroup,win,step,in_out=\"in\",e_align=\"sample_on\",t_before=200,to_decode='samples'):\n",
            "    print(filepath)\n",
            "    data = TrialsData.from_python_hdf5(filepath)\n",
            "    \n",
            "    trial_idx = np.where(np.logical_and(data.trial_error == 0, data.block == 1))[0]\n",
            "    if np.any(np.isnan(data.neuron_cond)):\n",
            "        neuron_cond = np.ones(len(data.clustersgroup))\n",
            "    else:\n",
            "        neuron_cond=data.neuron_cond\n",
            "    task = def_task.create_task_frame(\n",
            "        condition=data.condition[trial_idx],\n",
            "        test_stimuli=data.test_stimuli[trial_idx],\n",
            "        samples_cond=task_constants.SAMPLES_COND,\n",
            "        neuron_cond = neuron_cond,\n",
            "    )\n",
            "    if cgroup == 'all':\n",
            "        neurons = np.where(data.clustersgroup != cgroup)[0]\n",
            "    else:\n",
            "        neurons = np.where(data.clustersgroup == cgroup)[0]\n",
            "\n",
            "    task = task[np.logical_and(np.in1d(task['i_neuron'].values,neurons),task['in_out']==in_out)]\n",
            "\n",
            "    if to_decode == 'samples': \n",
            "        task=task[task['sample']!='o0_c0']\n",
            "    elif to_decode == 'neutral':\n",
            "        task['sample'].replace(['o1_c1', 'o1_c5', 'o5_c1', 'o5_c5'],'no_neutral',inplace=True)\n",
            "    elif to_decode == 'colors': \n",
            "        task=task[task['sample']!='o0_c0']\n",
            "        task['sample'].replace(['o1_c1', 'o5_c1'],'c1',inplace=True)\n",
            "        task['sample'].replace(['o1_c5', 'o5_c5'],'c5',inplace=True)\n",
            "    elif to_decode == 'orientation': \n",
            "        task=task[task['sample']!='o0_c0']\n",
            "        task['sample'].replace(['o1_c1', 'o1_c5'],'o1',inplace=True)\n",
            "        task['sample'].replace(['o5_c1', 'o5_c5'],'o5',inplace=True)\n",
            "    else:\n",
            "        print('Error: to_decode must be \"samples\" or \"neutral\"')\n",
            "\n",
            "    # split in two groups where the neurons in each have the same trials in in or out\n",
            "    task_1 = task[task['i_neuron']==neurons[0]].copy()\n",
            "    trials_neuron = task_1['trial_idx'].values\n",
            "    task_1['trial_idx'] = task_1['trial_idx'].replace(trials_neuron,np.arange(0,len(trials_neuron)))\n",
            "    t_neurons = task[np.in1d(task['trial_idx'].values,trials_neuron)]['i_neuron'].unique()\n",
            "    t_neurons_2=neurons[~np.in1d(neurons,t_neurons)]\n",
            "    task_all = [task_1]\n",
            "    if len(t_neurons_2) != 0:\n",
            "        trials_neuron_2 = task[task['i_neuron']==t_neurons_2[0]]['trial_idx'].values\n",
            "        trials_neuron = [trials_neuron,trials_neuron_2]\n",
            "        t_neurons = [t_neurons,t_neurons_2]\n",
            "        task_2 = task[task['i_neuron']==t_neurons_2[0]].copy()\n",
            "        task_2['trial_idx'] = task_2['trial_idx'].replace(trials_neuron_2,np.arange(0,len(trials_neuron_2)))\n",
            "        task_all = [task_1,task_2]\n",
            "    else:\n",
            "        trials_neuron = [trials_neuron]\n",
            "        t_neurons = [t_neurons]\n",
            "    \n",
            "\n",
            "    sp_avg_all = []\n",
            "    for i_task, (trial_idx_n, neurons,task) in enumerate(zip(trials_neuron,t_neurons,task_all)):\n",
            "        min_task = task.groupby([\"sample\"]).count().min().min()\n",
            "        # check number of trials\n",
            "        if min_task>=30:\n",
            "            trials_s_on = data.code_samples[\n",
            "                trial_idx[trial_idx_n],\n",
            "                np.where(data.code_numbers[trial_idx[trial_idx_n]] == task_constants.EVENTS_B1[e_align])[\n",
            "                    1\n",
            "                ],\n",
            "            ]\n",
            "            shifts = -(trials_s_on - t_before).astype(int)\n",
            "            shifts = shifts[:,np.newaxis]\n",
            "            shift_sp = TrialsData.indep_roll(data.sp_samples[trial_idx[trial_idx_n]][:,neurons], shifts, axis=2)[:,:, :1600]\n",
            "            sp_avg = moving_average(shift_sp, win=win, step=step)\n",
            "            sp_avg_all.append(sp_avg)\n",
            "        else:\n",
            "            task_all.pop(i_task)\n",
            "    return task_all,sp_avg_all"
         ]
      },
      {
         "cell_type": "code",
         "execution_count": 1,
         "metadata": {},
         "outputs": [],
         "source": [
            "file1 = open(\"/home/INT/losada.c/Documents/codes/run_pipelines/paths_decoding.txt\", \"r\")\n",
            "Lines = file1.readlines()"
         ]
      },
      {
         "cell_type": "code",
         "execution_count": 2,
         "metadata": {},
         "outputs": [
            {
               "data": {
                  "text/plain": [
                     "['/envau/work/invibe/USERS/IBOS/data/Riesling/TSCM/OpenEphys/session_struct/Riesling/lip/2023-01-20_11-00-24_Riesling_lip_e1_r1.h5\\n',\n",
                     " '/envau/work/invibe/USERS/IBOS/data/Riesling/TSCM/OpenEphys/session_struct/Riesling/lip/2023-01-23_10-10-27_Riesling_lip_e1_r1.h5\\n',\n",
                     " '/envau/work/invibe/USERS/IBOS/data/Riesling/TSCM/OpenEphys/session_struct/Riesling/lip/2022-11-30_10-42-03_Riesling_lip_e1_r1.h5\\n',\n",
                     " '/envau/work/invibe/USERS/IBOS/data/Riesling/TSCM/OpenEphys/session_struct/Riesling/lip/2022-12-14_10-50-49_Riesling_lip_e1_r1.h5\\n',\n",
                     " '/envau/work/invibe/USERS/IBOS/data/Riesling/TSCM/OpenEphys/session_struct/Riesling/lip/2023-02-24_10-43-44_Riesling_lip_e1_r1.h5\\n',\n",
                     " '/envau/work/invibe/USERS/IBOS/data/Riesling/TSCM/OpenEphys/session_struct/Riesling/lip/2023-02-08_10-39-41_Riesling_lip_e1_r1.h5\\n',\n",
                     " '/envau/work/invibe/USERS/IBOS/data/Riesling/TSCM/OpenEphys/session_struct/Riesling/lip/2022-12-02_11-01-23_Riesling_lip_e1_r1.h5\\n',\n",
                     " '/envau/work/invibe/USERS/IBOS/data/Riesling/TSCM/OpenEphys/session_struct/Riesling/lip/2023-02-09_10-42-54_Riesling_lip_e1_r1.h5\\n',\n",
                     " '/envau/work/invibe/USERS/IBOS/data/Riesling/TSCM/OpenEphys/session_struct/Riesling/lip/2023-02-27_10-50-03_Riesling_lip_e1_r1.h5\\n']"
                  ]
               },
               "execution_count": 2,
               "metadata": {},
               "output_type": "execute_result"
            }
         ],
         "source": [
            "Lines"
         ]
      },
      {
         "cell_type": "code",
         "execution_count": 6,
         "metadata": {},
         "outputs": [
            {
               "name": "stdout",
               "output_type": "stream",
               "text": [
                  "/envau/work/invibe/USERS/IBOS/data/Riesling/TSCM/OpenEphys/session_struct/Riesling/lip/2023-01-20_11-00-24_Riesling_lip_e1_r1.h5\n",
                  "/envau/work/invibe/USERS/IBOS/data/Riesling/TSCM/OpenEphys/session_struct/Riesling/lip/2023-01-23_10-10-27_Riesling_lip_e1_r1.h5\n"
               ]
            }
         ],
         "source": [
            "# load all  files\n",
            "paths=[]\n",
            "for line in Lines:\n",
            "    paths.append(line.strip())\n",
            "cgroup = \"all\"\n",
            "in_out=\"in\"\n",
            "e_align=\"sample_on\"\n",
            "win_size = 100\n",
            "step = 10\n",
            "fix_duration = 200\n",
            "sample_duration = 450\n",
            "fr_samples=[]\n",
            "max_n_trials = []\n",
            "num_neurons = 0\n",
            "to_decode ='neutral'\n",
            "def load_fr_samples(path:str,n:int):\n",
            "    task,sp_avg = get_avg_fr(filepath=path,cgroup=cgroup,win=win_size,step=step,in_out=in_out,e_align=e_align,t_before=200,to_decode=to_decode)\n",
            "    return task,sp_avg\n",
            "tasks_all,frs_avg_all = [],[]\n",
            "\n",
            "for n_path in paths[:2]:\n",
            "    task,fr_avg = load_fr_samples(n_path,1)\n",
            "    tasks_all.append(task)\n",
            "    frs_avg_all.append(fr_avg)\n",
            "\n",
            "# with Pool(1) as pool:\n",
            "#     async_fr = [pool.apply_async(load_fr_samples,args=(paths[n],n)) for n in np.arange(len(paths))] \n",
            "#     # frs = [asc.get() for asc in async_fr]\n",
            "#     for asc in async_fr:\n",
            "#         tasks_all.append(asc.get()[0])\n",
            "#         frs_avg_all.append(asc.get()[1])"
         ]
      },
      {
         "cell_type": "code",
         "execution_count": 7,
         "metadata": {},
         "outputs": [],
         "source": [
            "tasks,frs_avg = [],[]\n",
            "for i in range(len(frs_avg_all)):\n",
            "    if len(frs_avg_all[i]) >0:\n",
            "        frs_avg.append(frs_avg_all[i][0])\n",
            "        tasks.append(tasks_all[i][0])\n",
            "        if len(frs_avg_all[i]) >1:\n",
            "            frs_avg.append(frs_avg_all[i][1])\n",
            "            tasks.append(tasks_all[i][1])\n",
            "\n",
            "    "
         ]
      },
      {
         "cell_type": "code",
         "execution_count": 8,
         "metadata": {},
         "outputs": [
            {
               "name": "stdout",
               "output_type": "stream",
               "text": [
                  "42 0\n",
                  "34 1\n",
                  "31 2\n",
                  "42 3\n"
               ]
            }
         ],
         "source": [
            "# max number of trials that can be used \n",
            "min_trials = frs_avg[0].shape[0]\n",
            "for rec in range(len(tasks)):\n",
            "    min_n_trials = tasks[rec].groupby([\"sample\"]).count().min()[0]\n",
            "    print(min_n_trials, rec)\n",
            "    min_trials = min_n_trials if min_n_trials < min_trials else min_trials"
         ]
      },
      {
         "attachments": {},
         "cell_type": "markdown",
         "metadata": {},
         "source": [
            "### SVM2"
         ]
      },
      {
         "cell_type": "code",
         "execution_count": 9,
         "metadata": {},
         "outputs": [],
         "source": [
            "def sample_df(frs_avg,tasks,min_trials,seed):\n",
            "    all_df = []\n",
            "    sample_dict:Dict[str,list] = defaultdict(list)\n",
            "    \n",
            "    for i_sample in tasks[0]['sample'].unique(): \n",
            "        all_sample_fr=[]\n",
            "        for fr_s,n_task in zip(frs_avg,tasks): #days\n",
            "            t_idx = n_task[n_task[\"sample\"]==i_sample].sample(min_trials,random_state=seed)[\"trial_idx\"].values\n",
            "            sample_fr = fr_s[t_idx]\n",
            "            all_sample_fr.append(sample_fr)\n",
            "        all_sample_fr = np.concatenate(all_sample_fr,axis=1)\n",
            "        sample_dict[i_sample] = all_sample_fr\n",
            "    return sample_dict"
         ]
      },
      {
         "cell_type": "code",
         "execution_count": 10,
         "metadata": {},
         "outputs": [],
         "source": [
            "def compute_window_matrix(all_df,n_win):\n",
            "    y,all_samples = [], []\n",
            "    for i_sample in all_df.keys(): \n",
            "        n_df = all_df[i_sample]\n",
            "        data = n_df[:,:,n_win]\n",
            "\n",
            "        all_samples.append(data)\n",
            "        y.append([i_sample]*data.shape[0])\n",
            "    return np.concatenate(all_samples,axis=0),np.concatenate(y)"
         ]
      },
      {
         "cell_type": "code",
         "execution_count": 11,
         "metadata": {},
         "outputs": [],
         "source": [
            "def run_svm_decoder(model,frs_avg,tasks,windows,min_trials,it_seed,n_it,le):\n",
            "    scores = np.zeros((windows))\n",
            "    all_df= sample_df(frs_avg,tasks,min_trials,it_seed[n_it])\n",
            "    #all_df['sample']=le.transform(all_df['sample'])\n",
            "    for n_win in np.arange(0,windows):\n",
            "        #  select trials randomly\n",
            "        X,y = compute_window_matrix(all_df,n_win)\n",
            "        scaler = MinMaxScaler()\n",
            "        X = scaler.fit_transform(X)\n",
            "        y=le.transform(y)\n",
            "        # split in train and test\n",
            "        X_train, X_test, y_train, y_test = train_test_split(X, y, test_size=.2,shuffle=True, random_state=it_seed[n_it],stratify=y)\n",
            "        np.random.seed(it_seed[n_it]) \n",
            "        idx_swr = np.random.choice(X_train.shape[0], size=X_train.shape[0], replace=True, p=None)\n",
            "        X_train = X_train[idx_swr]\n",
            "        y_train = y_train[idx_swr]\n",
            "        model.fit(X_train,y_train)\n",
            "        y_predict = model.predict(X_test)\n",
            "        scores[n_win] = metrics.accuracy_score(y_test,y_predict)# cross_val_score(model, X, y, cv=kf,n_jobs=-1).mean()\n",
            "    return scores"
         ]
      },
      {
         "cell_type": "code",
         "execution_count": 12,
         "metadata": {},
         "outputs": [],
         "source": [
            "# plot results\n",
            "def plot_accuracy(scores,win_steps,neuron_max_shift,x_lim_min,x_lim_max,n_neuron):\n",
            "    fig,ax = plt.subplots()\n",
            "    ax.plot(((np.arange(0,len(scores[0]))*win_steps)- neuron_max_shift[n_neuron-1])/1000,scores[:13].mean(axis=0))\n",
            "    ax.set_xlim(x_lim_min, x_lim_max)\n",
            "    ax.vlines(\n",
            "        0, 0.3, 1, color=\"k\", linestyles=\"dashed\"\n",
            "    )# sample on\n",
            "    ax.hlines(\n",
            "        0.5, x_lim_min, x_lim_max, color=\"gray\", linestyles=\"solid\"\n",
            "    )\n",
            "    ax.set_title('Is neuron %d engaged in the task?'%(n_neuron))\n",
            "    ax.set(xlabel=\"Time (s)\", ylabel=\"SVM classifier accuracy\")\n",
            "    fig.tight_layout(pad=0.2, h_pad=0.2, w_pad=0.2)\n",
            "    fig.legend(['Accuracy','Sample on'], fontsize=9)"
         ]
      },
      {
         "cell_type": "code",
         "execution_count": 13,
         "metadata": {},
         "outputs": [],
         "source": [
            "model=  SVC(kernel='linear',C=20,decision_function_shape='ovr',gamma=0.001)"
         ]
      },
      {
         "cell_type": "code",
         "execution_count": 14,
         "metadata": {},
         "outputs": [],
         "source": [
            "le = LabelEncoder()\n",
            "\n",
            "le.fit(tasks[0]['sample'].unique())\n",
            "#all_df['sample']=le.transform(all_df['sample'])\n",
            "n_iterations = 1000\n",
            "rng = np.random.default_rng(seed=seed)\n",
            "it_seed = rng.integers(low=1, high=2023, size=n_iterations, dtype=int)\n",
            "windows = frs_avg[0].shape[2]\n",
            "# scores = run_svm_decoder(model,frs_avg,tasks,windows,min_trials,it_seed,n_it=0,le=le)\n",
            "with Pool(5) as pool:\n",
            "    async_scores = [pool.apply_async(run_svm_decoder,args=(model,frs_avg,tasks,windows,min_trials,it_seed,n,le)) for n in np.arange(n_iterations)] \n",
            "    scores = [asc.get() for asc in async_scores]"
         ]
      },
      {
         "cell_type": "code",
         "execution_count": 15,
         "metadata": {},
         "outputs": [],
         "source": [
            "n_neurons = 0\n",
            "for rec in range(len(frs_avg)):\n",
            "    n_neurons +=frs_avg[rec].shape[1]"
         ]
      },
      {
         "cell_type": "code",
         "execution_count": 18,
         "metadata": {},
         "outputs": [
            {
               "data": {
                  "text/plain": [
                     "Text(0.5, 0.98, 'lip, condition: in, group: all, 45 neurons,window: 100, steps: 10')"
                  ]
               },
               "execution_count": 18,
               "metadata": {},
               "output_type": "execute_result"
            },
            {
               "data": {
                  "image/png": "[encoded data removed]",
                  "text/plain": [
                     "<Figure size 1000x500 with 1 Axes>"
                  ]
               },
               "metadata": {},
               "output_type": "display_data"
            }
         ],
         "source": [
            "s_path = os.path.normpath(paths[0]).split(os.sep)\n",
            "fig,ax = plt.subplots(figsize=(10,5))\n",
            "x = ((np.arange(0, len(scores[0]))) - fix_duration / step) * 10\n",
            "ax.plot(x, np.array(scores).mean(axis=0), label=\"Accuracy\")\n",
            "if to_decode == \"samples\":\n",
            "    threshole = 0.25\n",
            "else:\n",
            "    threshole = 0.5\n",
            "ss = np.sum(np.array(scores) <= threshole, axis=0) / np.array(scores).shape[0]\n",
            "mask_inf = ss <= 0.01\n",
            "mask_inf_5 = ss <= 0.05\n",
            "# stars\n",
            "ax.scatter(\n",
            "    x[mask_inf],\n",
            "    [threshole - 0.1] * len(x[mask_inf]),\n",
            "    color=\"k\",\n",
            "    marker=\"*\",\n",
            "    label=\"Below 1%\",\n",
            "    s=6,\n",
            ")\n",
            "ax.scatter(\n",
            "    x[mask_inf_5],\n",
            "    [threshole - 0.12] * len(x[mask_inf_5]),\n",
            "    color=\"r\",\n",
            "    marker=\"*\",\n",
            "    label=\"Below 5%\",\n",
            "    s=6,\n",
            ")\n",
            "ax.set_ylim(0, 1)\n",
            "ax.set_yticks(np.arange(0, 1.1, 0.1))\n",
            "# delete boundaries\n",
            "ax.spines[\"right\"].set_visible(False)\n",
            "ax.spines[\"left\"].set_visible(False)\n",
            "ax.spines[\"top\"].set_visible(False)\n",
            "ax.spines[\"bottom\"].set_visible(False)\n",
            "fig.legend(fontsize=9)\n",
            "fig.suptitle(\n",
            "    \"%s, condition: %s, group: %s, %d neurons,window: %d, steps: %d\"\n",
            "    % (s_path[-2], in_out, cgroup, n_neurons, win_size, step)\n",
            ")"
         ]
      },
      {
         "cell_type": "code",
         "execution_count": null,
         "metadata": {},
         "outputs": [],
         "source": []
      },
      {
         "attachments": {},
         "cell_type": "markdown",
         "metadata": {},
         "source": [
            "### SVM"
         ]
      },
      {
         "cell_type": "code",
         "execution_count": null,
         "metadata": {},
         "outputs": [],
         "source": [
            "def compute_window_matrix(all_df,n_win,seed):\n",
            "    y,all_samples = [], []\n",
            "    for i_sample in all_df['sample'].unique():\n",
            "        n_df = all_df[all_df['sample']==i_sample]\n",
            "        data = n_df[[n_win,'neuron','trial_idx']]\n",
            "        n_pivot = pd.pivot_table(data, values=n_win,index='trial_idx',columns='neuron').reset_index(drop=True).loc[:,0:]\n",
            "        sample_df = []    \n",
            "        for n in np.arange(len(n_pivot.columns)):\n",
            "            sample_df.append(n_pivot.loc[~n_pivot[n].isna(),n].sample(min(max_n_trials),random_state=seed).reset_index(drop=True))\n",
            "        all_samples.append(pd.concat(sample_df,axis=1))\n",
            "        y.append([i_sample]*min(max_n_trials))\n",
            "    return pd.concat(all_samples),np.concatenate(y)\n"
         ]
      },
      {
         "cell_type": "code",
         "execution_count": null,
         "metadata": {},
         "outputs": [],
         "source": [
            "# plot results\n",
            "def plot_accuracy(scores,win_steps,neuron_max_shift,x_lim_min,x_lim_max,n_neuron):\n",
            "    fig,ax = plt.subplots()\n",
            "    ax.plot(((np.arange(0,len(scores[0]))*win_steps)- neuron_max_shift[n_neuron-1])/1000,scores[:13].mean(axis=0))\n",
            "    ax.set_xlim(x_lim_min, x_lim_max)\n",
            "    ax.vlines(\n",
            "        0, 0.3, 1, color=\"k\", linestyles=\"dashed\"\n",
            "    )# sample on\n",
            "    ax.hlines(\n",
            "        0.5, x_lim_min, x_lim_max, color=\"gray\", linestyles=\"solid\"\n",
            "    )\n",
            "    ax.set_title('Is neuron %d engaged in the task?'%(n_neuron))\n",
            "    ax.set(xlabel=\"Time (s)\", ylabel=\"SVM classifier accuracy\")\n",
            "    fig.tight_layout(pad=0.2, h_pad=0.2, w_pad=0.2)\n",
            "    fig.legend(['Accuracy','Sample on'], fontsize=9)"
         ]
      },
      {
         "cell_type": "code",
         "execution_count": null,
         "metadata": {},
         "outputs": [],
         "source": [
            "model=  SVC(kernel='linear',C=20,decision_function_shape='ovr',gamma=0.001)"
         ]
      },
      {
         "cell_type": "code",
         "execution_count": null,
         "metadata": {},
         "outputs": [],
         "source": [
            "def run_svm_decoder(model,all_df,windows,it_seed,n_it):\n",
            "    scores = np.zeros((windows))\n",
            "    #for n_it in np.arange(n_iterations):       \n",
            "    for n_win in np.arange(0,windows):\n",
            "        #  select trials randomly\n",
            "        X,y = compute_window_matrix(all_df,n_win,it_seed[n_it])\n",
            "        # split in train and test\n",
            "        X_train, X_test, y_train, y_test = train_test_split(X, y, test_size=.2,shuffle=True, random_state=it_seed[n_it])\n",
            "        X_train['label_encoder'] = y_train\n",
            "        # Sample with replacement (only train set)\n",
            "        X_train = X_train.sample(len(X_train),random_state=it_seed[n_it],replace=True)\n",
            "        y_train = X_train['label_encoder']\n",
            "        X_train = X_train.iloc[:,:-1]\n",
            "        model.fit(X_train,y_train)\n",
            "        y_predict = model.predict(X_test)\n",
            "        scores[n_win] = metrics.accuracy_score(y_test,y_predict)# cross_val_score(model, X, y, cv=kf,n_jobs=-1).mean()\n",
            "    return scores"
         ]
      },
      {
         "cell_type": "code",
         "execution_count": null,
         "metadata": {},
         "outputs": [
            {
               "ename": "NameError",
               "evalue": "name 'all_df' is not defined",
               "output_type": "error",
               "traceback": [
                  "\u001b[0;31m---------------------------------------------------------------------------\u001b[0m",
                  "\u001b[0;31mNameError\u001b[0m                                 Traceback (most recent call last)",
                  "Cell \u001b[0;32mIn[47], line 1\u001b[0m\n\u001b[0;32m----> 1\u001b[0m all_df\u001b[39m=\u001b[39mall_df\u001b[39m.\u001b[39mreplace(np\u001b[39m.\u001b[39mnan,\u001b[39m0\u001b[39m)\n",
                  "\u001b[0;31mNameError\u001b[0m: name 'all_df' is not defined"
               ]
            }
         ],
         "source": [
            "all_df=all_df.replace(np.nan,0)"
         ]
      },
      {
         "cell_type": "code",
         "execution_count": null,
         "metadata": {},
         "outputs": [],
         "source": [
            "le = LabelEncoder()\n",
            "le.fit(all_df['sample'].unique())\n",
            "all_df['sample']=le.transform(all_df['sample'])\n",
            "n_iterations = 1000\n",
            "rng = np.random.default_rng(seed=seed)\n",
            "it_seed = rng.integers(low=1, high=2023, size=n_iterations, dtype=int)\n",
            "windows=354#0\n",
            "with Pool(9) as pool:\n",
            "    async_scores = [pool.apply_async(run_svm_decoder,args=(model,all_df,windows,it_seed,n)) for n in np.arange(n_iterations)] \n",
            "    scores2 = [asc.get() for asc in async_scores]"
         ]
      },
      {
         "cell_type": "code",
         "execution_count": null,
         "metadata": {},
         "outputs": [],
         "source": [
            "# good 1\n",
            "fig,ax = plt.subplots()\n",
            "ax.plot(((np.arange(0,len(scores2[0])))-fix_duration/10)/100,np.array(scores2).mean(axis=0))"
         ]
      },
      {
         "cell_type": "code",
         "execution_count": null,
         "metadata": {},
         "outputs": [],
         "source": [
            "# mua 100\n",
            "fig,ax = plt.subplots()\n",
            "ax.plot(((np.arange(0,len(scores2[0])))-fix_duration)/1000,np.array(scores2).mean(axis=0))"
         ]
      },
      {
         "cell_type": "code",
         "execution_count": null,
         "metadata": {},
         "outputs": [],
         "source": [
            "# good 10\n",
            "fig,ax = plt.subplots()\n",
            "ax.plot(((np.arange(0,len(scores2[0])))-fix_duration)/1000,np.array(scores2).mean(axis=0))"
         ]
      },
      {
         "cell_type": "code",
         "execution_count": null,
         "metadata": {},
         "outputs": [],
         "source": [
            "# all 10\n",
            "fig,ax = plt.subplots()\n",
            "ax.plot(((np.arange(0,len(scores2[0])))-fix_duration)/1000,np.array(scores2).mean(axis=0))"
         ]
      },
      {
         "cell_type": "code",
         "execution_count": null,
         "metadata": {},
         "outputs": [],
         "source": []
      }
   ],
   "metadata": {
      "kernelspec": {
         "display_name": "EphysVibe-48n-7Gof",
         "language": "python",
         "name": "python3"
      },
      "language_info": {
         "codemirror_mode": {
            "name": "ipython",
            "version": 3
         },
         "file_extension": ".py",
         "mimetype": "text/x-python",
         "name": "python",
         "nbconvert_exporter": "python",
         "pygments_lexer": "ipython3",
         "version": "3.8.10"
      },
      "orig_nbformat": 4,
      "vscode": {
         "interpreter": {
            "hash": "c0bc8c099b017ba9d073358cd61a0f952fda5c0927b42de8a275d5317edfe6cc"
         }
      }
   },
   "nbformat": 4,
   "nbformat_minor": 2
}
