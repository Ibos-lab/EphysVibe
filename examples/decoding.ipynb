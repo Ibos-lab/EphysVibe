{
 "cells": [
  {
   "cell_type": "code",
   "execution_count": 1,
   "metadata": {},
   "outputs": [],
   "source": [
    "import glob\n",
    "import os\n",
    "import numpy as np\n",
    "import pandas as pd\n",
    "from matplotlib import pyplot as plt\n",
    "import seaborn as sns\n",
    "from scipy import signal,stats\n",
    "from ephysvibe.trials.spikes import firing_rate\n",
    "from ephysvibe.trials import select_trials\n",
    "from ephysvibe.spike_sorting import config\n",
    "from ephysvibe.task import def_task,task_constants\n",
    "from collections import defaultdict\n",
    "from typing import Dict\n",
    "import logging\n",
    "from scipy import fft,signal\n",
    "\n",
    "from sklearn.model_selection import train_test_split, GridSearchCV,KFold,cross_val_score,StratifiedKFold\n",
    "from sklearn.svm import SVC,LinearSVC\n",
    "from sklearn.preprocessing import LabelEncoder, StandardScaler, MinMaxScaler\n",
    "from sklearn import metrics\n",
    "from multiprocessing import Pool\n",
    "seed=2023"
   ]
  },
  {
   "cell_type": "code",
   "execution_count": 22,
   "metadata": {},
   "outputs": [],
   "source": [
    "def get_fr_df(filepath,in_out,cgroup,e_align):\n",
    "    print(filepath)\n",
    "    py_f = np.load(filepath,allow_pickle=True).item(0)\n",
    "    sp = py_f['sp_data']\n",
    "    bhv = py_f['bhv']\n",
    "    trial_idx = select_trials.select_trials_block(sp, n_block=1)\n",
    "    trial_idx = select_trials.select_correct_trials(bhv, trial_idx)\n",
    "    task = def_task.create_task_frame(trial_idx, bhv, task_constants.SAMPLES_COND)\n",
    "    #neurons = np.where((sp[\"clustersgroup\"] == cgroup))[0]\n",
    "    neurons = np.where((sp[\"clustersgroup\"] != cgroup))[0]\n",
    "    fr_samples = firing_rate.fr_by_sample_neuron(\n",
    "            sp=sp,\n",
    "            neurons=neurons,\n",
    "            task=task,\n",
    "            in_out=in_out,\n",
    "            kernel=0,\n",
    "            e_align=e_align,\n",
    "            plot=False\n",
    "        )\n",
    "    return fr_samples"
   ]
  },
  {
   "cell_type": "code",
   "execution_count": 23,
   "metadata": {},
   "outputs": [],
   "source": [
    "file1 = open(\"/home/INT/losada.c/Documents/codes/run_pipelines/paths_decoding.txt\", \"r\")\n",
    "Lines = file1.readlines()"
   ]
  },
  {
   "cell_type": "code",
   "execution_count": 9,
   "metadata": {},
   "outputs": [
    {
     "data": {
      "text/plain": [
       "'for n,samplee in enumerate(fr_samples):\\n    samplee[\\'day\\']=[n]*len(samplee)\\npd.concat(fr_samples).replace(np.nan,0).to_csv(\"/home/INT/losada.c/Documents/data/res/fr_samples_lip.csv\")'"
      ]
     },
     "execution_count": 9,
     "metadata": {},
     "output_type": "execute_result"
    }
   ],
   "source": [
    "\"\"\"for n,samplee in enumerate(fr_samples):\n",
    "    samplee['day']=[n]*len(samplee)\n",
    "pd.concat(fr_samples).replace(np.nan,0).to_csv(\"/home/INT/losada.c/Documents/data/res/fr_samples_lip.csv\")\"\"\""
   ]
  },
  {
   "cell_type": "code",
   "execution_count": 10,
   "metadata": {},
   "outputs": [
    {
     "data": {
      "text/plain": [
       "'cgroup = \"good\"\\nin_out=1\\ne_align=2\\nwin_size = 100\\nstep = 10\\nfix_duration = 200\\nsample_duration = 450\\nfr_samples=[]\\nmax_n_trials = []\\nnum_neurons = 0\\nfor line in Lines:\\n    path = line.strip()\\n    print(path)\\n    df= get_fr_df(path,in_out,cgroup,e_align=2)\\n    rolling_df = df.loc[:,:\\'neuron\\'].iloc[:,:-1].rolling(window = win_size,axis=1,step=step,min_periods=1).mean()\\n    rolling_df_sample = rolling_df.iloc[:,int((df[\\'sample_on\\'][0]-fix_duration)/step):int((df[\\'sample_on\\'][0]+sample_duration)/step)]\\n    df= get_fr_df(path,in_out,cgroup,e_align=4)\\n    rolling_df = df.loc[:,:\\'neuron\\'].iloc[:,:-1].rolling(window = win_size,axis=1,step=step,min_periods=1).mean()\\n    rolling_df_test = rolling_df.iloc[:,int((df[\\'test_on_1\\'][0]-400)/step):]#int((df[\\'test_on_1\\'][0]+2500)/step)\\n    rolling_df = pd.concat([rolling_df_sample,rolling_df_test],axis=1)\\n    rolling_df.columns = np.arange(rolling_df.shape[1])\\n    rolling_df = pd.concat([rolling_df,df[[\\'neuron\\',\\'sample\\',\\'trial_idx\\']]],axis=1)\\n    # max number of trials that can be used \\n    max_n_trials.append(rolling_df[[\\'neuron\\',\\'sample\\']][rolling_df[\\'neuron\\']==1].groupby([\\'sample\\']).count().min()[0])\\n    # rename neurons\\n    unique_neurons = rolling_df[\\'neuron\\'].unique()\\n    rolling_df[\\'neuron\\'].replace(unique_neurons,np.arange(num_neurons,num_neurons+len(unique_neurons)),inplace=True)\\n    num_neurons += len(unique_neurons)\\n    # rename trials\\n    unique_trials = rolling_df[\\'trial_idx\\'].unique()\\n    rolling_df[\\'trial_idx\\'].replace(unique_trials,np.arange(len(unique_trials)),inplace=True)\\n    fr_samples.append(rolling_df)'"
      ]
     },
     "execution_count": 10,
     "metadata": {},
     "output_type": "execute_result"
    }
   ],
   "source": [
    "\"\"\"cgroup = \"good\"\n",
    "in_out=1\n",
    "e_align=2\n",
    "win_size = 100\n",
    "step = 10\n",
    "fix_duration = 200\n",
    "sample_duration = 450\n",
    "fr_samples=[]\n",
    "max_n_trials = []\n",
    "num_neurons = 0\n",
    "for line in Lines:\n",
    "    path = line.strip()\n",
    "    print(path)\n",
    "    df= get_fr_df(path,in_out,cgroup,e_align=2)\n",
    "    rolling_df = df.loc[:,:'neuron'].iloc[:,:-1].rolling(window = win_size,axis=1,step=step,min_periods=1).mean()\n",
    "    rolling_df_sample = rolling_df.iloc[:,int((df['sample_on'][0]-fix_duration)/step):int((df['sample_on'][0]+sample_duration)/step)]\n",
    "    df= get_fr_df(path,in_out,cgroup,e_align=4)\n",
    "    rolling_df = df.loc[:,:'neuron'].iloc[:,:-1].rolling(window = win_size,axis=1,step=step,min_periods=1).mean()\n",
    "    rolling_df_test = rolling_df.iloc[:,int((df['test_on_1'][0]-400)/step):]#int((df['test_on_1'][0]+2500)/step)\n",
    "    rolling_df = pd.concat([rolling_df_sample,rolling_df_test],axis=1)\n",
    "    rolling_df.columns = np.arange(rolling_df.shape[1])\n",
    "    rolling_df = pd.concat([rolling_df,df[['neuron','sample','trial_idx']]],axis=1)\n",
    "    # max number of trials that can be used \n",
    "    max_n_trials.append(rolling_df[['neuron','sample']][rolling_df['neuron']==1].groupby(['sample']).count().min()[0])\n",
    "    # rename neurons\n",
    "    unique_neurons = rolling_df['neuron'].unique()\n",
    "    rolling_df['neuron'].replace(unique_neurons,np.arange(num_neurons,num_neurons+len(unique_neurons)),inplace=True)\n",
    "    num_neurons += len(unique_neurons)\n",
    "    # rename trials\n",
    "    unique_trials = rolling_df['trial_idx'].unique()\n",
    "    rolling_df['trial_idx'].replace(unique_trials,np.arange(len(unique_trials)),inplace=True)\n",
    "    fr_samples.append(rolling_df)\"\"\""
   ]
  },
  {
   "cell_type": "code",
   "execution_count": 34,
   "metadata": {},
   "outputs": [
    {
     "name": "stdout",
     "output_type": "stream",
     "text": [
      "/envau/work/invibe/USERS/IBOS/data/Riesling/TSCM/OpenEphys/Session_struct/lip/2022-11-28_10-23-27_Riesling_lip_e1_r1.npy/envau/work/invibe/USERS/IBOS/data/Riesling/TSCM/OpenEphys/Session_struct/lip/2022-12-14_10-50-49_Riesling_lip_e1_r1.npy/envau/work/invibe/USERS/IBOS/data/Riesling/TSCM/OpenEphys/Session_struct/lip/2022-12-16_10-30-59_Riesling_lip_e1_r1.npy/envau/work/invibe/USERS/IBOS/data/Riesling/TSCM/OpenEphys/Session_struct/lip/2022-11-22_10-59-03_Riesling_lip_e1_r1.npy/envau/work/invibe/USERS/IBOS/data/Riesling/TSCM/OpenEphys/Session_struct/lip/2022-11-30_10-42-03_Riesling_lip_e1_r1.npy\n",
      "\n",
      "\n",
      "\n",
      "\n",
      "Number of trials in block 1: 1308\n",
      "Number of correct trials in block 2: 574\n",
      "Number of trials in block 1: 1340\n",
      "Number of correct trials in block 2: 582\n",
      "/envau/work/invibe/USERS/IBOS/data/Riesling/TSCM/OpenEphys/Session_struct/lip/2022-11-22_10-59-03_Riesling_lip_e1_r1.npy\n",
      "/envau/work/invibe/USERS/IBOS/data/Riesling/TSCM/OpenEphys/Session_struct/lip/2022-12-16_10-30-59_Riesling_lip_e1_r1.npy\n",
      "Number of trials in block 1: 1536\n",
      "Number of correct trials in block 2: 657\n",
      "Number of trials in block 1: 1588\n",
      "Number of correct trials in block 2: 769\n",
      "/envau/work/invibe/USERS/IBOS/data/Riesling/TSCM/OpenEphys/Session_struct/lip/2022-11-28_10-23-27_Riesling_lip_e1_r1.npy\n",
      "/envau/work/invibe/USERS/IBOS/data/Riesling/TSCM/OpenEphys/Session_struct/lip/2022-11-30_10-42-03_Riesling_lip_e1_r1.npy\n",
      "Number of trials in block 1: 1753\n",
      "Number of correct trials in block 2: 874\n",
      "/envau/work/invibe/USERS/IBOS/data/Riesling/TSCM/OpenEphys/Session_struct/lip/2022-12-14_10-50-49_Riesling_lip_e1_r1.npy\n",
      "Number of trials in block 1: 1308\n",
      "Number of correct trials in block 2: 574\n",
      "/envau/work/invibe/USERS/IBOS/data/Riesling/TSCM/OpenEphys/Session_struct/lip/2022-12-05_10-51-52_Riesling_lip_e1_r1.npy\n",
      "Number of trials in block 1: 1340\n",
      "Number of correct trials in block 2: 582\n",
      "/envau/work/invibe/USERS/IBOS/data/Riesling/TSCM/OpenEphys/Session_struct/lip/2022-12-06_11-12-04_Riesling_lip_e1_r1.npy\n",
      "Number of trials in block 1: 1536\n",
      "Number of correct trials in block 2: 657\n",
      "/envau/work/invibe/USERS/IBOS/data/Riesling/TSCM/OpenEphys/Session_struct/lip/2022-12-13_11-11-42_Riesling_lip_e1_r1.npy\n",
      "Number of trials in block 1: 1588\n",
      "Number of correct trials in block 2: 769\n",
      "Number of trials in block 1: 1167\n",
      "Number of correct trials in block 2: 481\n",
      "/envau/work/invibe/USERS/IBOS/data/Riesling/TSCM/OpenEphys/Session_struct/lip/2022-12-05_10-51-52_Riesling_lip_e1_r1.npy\n",
      "Number of trials in block 1: 1753\n",
      "Number of correct trials in block 2: 874\n",
      "Number of trials in block 1: 1574\n",
      "Number of correct trials in block 2: 658\n",
      "/envau/work/invibe/USERS/IBOS/data/Riesling/TSCM/OpenEphys/Session_struct/lip/2022-12-06_11-12-04_Riesling_lip_e1_r1.npy\n",
      "Number of trials in block 1: 1378\n",
      "Number of correct trials in block 2: 661\n",
      "/envau/work/invibe/USERS/IBOS/data/Riesling/TSCM/OpenEphys/Session_struct/lip/2022-12-13_11-11-42_Riesling_lip_e1_r1.npy\n",
      "Number of trials in block 1: 1167\n",
      "Number of correct trials in block 2: 481\n",
      "Number of trials in block 1: 1574\n",
      "Number of correct trials in block 2: 658\n",
      "Number of trials in block 1: 1378\n",
      "Number of correct trials in block 2: 661\n"
     ]
    }
   ],
   "source": [
    "# load all pfc files\n",
    "paths=[]\n",
    "for line in Lines:\n",
    "    paths.append(line.strip())\n",
    "    \n",
    "cgroup = \"all\"\n",
    "in_out=-1\n",
    "e_align=2\n",
    "win_size = 100\n",
    "step = 10\n",
    "fix_duration = 200\n",
    "sample_duration = 450\n",
    "fr_samples=[]\n",
    "max_n_trials = []\n",
    "num_neurons = 0\n",
    "def load_fr_samples(path:str,n:int):\n",
    "    df= get_fr_df(path,in_out,cgroup,e_align=2)\n",
    "    rolling_df = df.loc[:,:'neuron'].iloc[:,:-1].rolling(window = win_size,axis=1,step=step,min_periods=1).mean()\n",
    "    rolling_df_sample = rolling_df.iloc[:,int((df['sample_on'][0]-fix_duration)/step):int((df['sample_on'][0]+sample_duration)/step)]\n",
    "    df= get_fr_df(path,in_out,cgroup,e_align=4)\n",
    "    rolling_df = df.loc[:,:'neuron'].iloc[:,:-1].rolling(window = win_size,axis=1,step=step,min_periods=1).mean()\n",
    "    rolling_df_test = rolling_df.iloc[:,int((df['test_on_1'][0]-400)/step):]#int((df['test_on_1'][0]+2500)/step)\n",
    "    rolling_df = pd.concat([rolling_df_sample,rolling_df_test],axis=1)\n",
    "    rolling_df.columns = np.arange(rolling_df.shape[1])\n",
    "    rolling_df = pd.concat([rolling_df,df[['neuron','sample','trial_idx']]],axis=1)\n",
    "    return rolling_df\n",
    "\n",
    "with Pool(5) as pool:\n",
    "    async_fr = [pool.apply_async(load_fr_samples,args=(paths[n],n)) for n in np.arange(len(paths))] \n",
    "    fr_roll = [asc.get() for asc in async_fr]\n"
   ]
  },
  {
   "cell_type": "code",
   "execution_count": 35,
   "metadata": {},
   "outputs": [],
   "source": [
    "for rolling_df in fr_roll:\n",
    "    # max number of trials that can be used \n",
    "    max_n_trials.append(rolling_df[['neuron','sample']][rolling_df['neuron']==1].groupby(['sample']).count().min()[0])\n",
    "    # rename neurons\n",
    "    unique_neurons = rolling_df['neuron'].unique()\n",
    "    rolling_df['neuron'].replace(unique_neurons,np.arange(num_neurons,num_neurons+len(unique_neurons)),inplace=True)\n",
    "    num_neurons += len(unique_neurons)\n",
    "    # rename trials\n",
    "    unique_trials = rolling_df['trial_idx'].unique()\n",
    "    rolling_df['trial_idx'].replace(unique_trials,np.arange(len(unique_trials)),inplace=True)\n",
    "    fr_samples.append(rolling_df)"
   ]
  },
  {
   "attachments": {},
   "cell_type": "markdown",
   "metadata": {},
   "source": [
    "### SVM2"
   ]
  },
  {
   "cell_type": "code",
   "execution_count": 36,
   "metadata": {},
   "outputs": [],
   "source": [
    "def sample_df(fr_samples,seed):\n",
    "    all_df = []\n",
    "    for fr_s in fr_samples: #days\n",
    "        for i_sample in fr_s['sample'].unique():\n",
    "            n_df = fr_s[fr_s['sample']==i_sample]\n",
    "            sam_df = n_df[n_df['neuron']==n_df['neuron'].iloc[0]].sample(min(max_n_trials),random_state=seed).reset_index(drop=True)[['sample','trial_idx']]\n",
    "            sam_df = pd.merge(fr_s, sam_df,on=['sample','trial_idx'], how=\"inner\")\n",
    "            sam_df['trial_idx'].replace(sam_df['trial_idx'].unique(),np.arange(0,min(max_n_trials)),inplace=True)\n",
    "            all_df.append(sam_df)\n",
    "    all_df = pd.concat(all_df)\n",
    "    all_df = all_df.replace(np.nan,0)\n",
    "    return all_df"
   ]
  },
  {
   "cell_type": "code",
   "execution_count": 37,
   "metadata": {},
   "outputs": [],
   "source": [
    "def compute_window_matrix(all_df,n_win):\n",
    "    y,all_samples = [], []\n",
    "    for i_sample in all_df['sample'].unique():\n",
    "        n_df = all_df[all_df['sample']==i_sample]\n",
    "        data = n_df[[n_win,'neuron','trial_idx']]\n",
    "        n_pivot = pd.pivot_table(data, values=n_win,index='trial_idx',columns='neuron').reset_index(drop=True)#.loc[:,0:]\n",
    "        all_samples.append(n_pivot)\n",
    "        y.append([i_sample]*min(max_n_trials))\n",
    "    return pd.concat(all_samples).reset_index(drop=True),np.concatenate(y)"
   ]
  },
  {
   "cell_type": "code",
   "execution_count": 38,
   "metadata": {},
   "outputs": [],
   "source": [
    "def run_svm_decoder(model,fr_samples,windows,it_seed,n_it,le):\n",
    "    scores = np.zeros((windows))\n",
    "    all_df= sample_df(fr_samples,it_seed[n_it])\n",
    "    all_df['sample']=le.transform(all_df['sample'])\n",
    "    for n_win in np.arange(0,windows):\n",
    "        #  select trials randomly\n",
    "        X,y = compute_window_matrix(all_df,n_win)\n",
    "        # split in train and test\n",
    "        X_train, X_test, y_train, y_test = train_test_split(X, y, test_size=.2,shuffle=True, random_state=it_seed[n_it],stratify=y)\n",
    "        X_train['label_encoder'] = y_train\n",
    "        # Sample with replacement (only train set)\n",
    "        X_train = X_train.sample(len(X_train),random_state=it_seed[n_it],replace=True)\n",
    "        y_train = X_train['label_encoder']\n",
    "        X_train = X_train.iloc[:,:-1]\n",
    "        model.fit(X_train,y_train)\n",
    "        y_predict = model.predict(X_test)\n",
    "        scores[n_win] = metrics.accuracy_score(y_test,y_predict)# cross_val_score(model, X, y, cv=kf,n_jobs=-1).mean()\n",
    "    return scores"
   ]
  },
  {
   "cell_type": "code",
   "execution_count": 39,
   "metadata": {},
   "outputs": [],
   "source": [
    "# plot results\n",
    "def plot_accuracy(scores,win_steps,neuron_max_shift,x_lim_min,x_lim_max,n_neuron):\n",
    "    fig,ax = plt.subplots()\n",
    "    ax.plot(((np.arange(0,len(scores[0]))*win_steps)- neuron_max_shift[n_neuron-1])/1000,scores[:13].mean(axis=0))\n",
    "    ax.set_xlim(x_lim_min, x_lim_max)\n",
    "    ax.vlines(\n",
    "        0, 0.3, 1, color=\"k\", linestyles=\"dashed\"\n",
    "    )# sample on\n",
    "    ax.hlines(\n",
    "        0.5, x_lim_min, x_lim_max, color=\"gray\", linestyles=\"solid\"\n",
    "    )\n",
    "    ax.set_title('Is neuron %d engaged in the task?'%(n_neuron))\n",
    "    ax.set(xlabel=\"Time (s)\", ylabel=\"SVM classifier accuracy\")\n",
    "    fig.tight_layout(pad=0.2, h_pad=0.2, w_pad=0.2)\n",
    "    fig.legend(['Accuracy','Sample on'], fontsize=9)"
   ]
  },
  {
   "cell_type": "code",
   "execution_count": 40,
   "metadata": {},
   "outputs": [],
   "source": [
    "model=  SVC(kernel='linear',C=20,decision_function_shape='ovr',gamma=0.001)"
   ]
  },
  {
   "cell_type": "code",
   "execution_count": 41,
   "metadata": {},
   "outputs": [],
   "source": [
    "le = LabelEncoder()\n",
    "le.fit(pd.concat(fr_samples)['sample'].unique())\n",
    "#all_df['sample']=le.transform(all_df['sample'])\n",
    "n_iterations = 100\n",
    "rng = np.random.default_rng(seed=seed)\n",
    "it_seed = rng.integers(low=1, high=2023, size=n_iterations, dtype=int)\n",
    "windows=354#0\n",
    "with Pool(10) as pool:\n",
    "    async_scores = [pool.apply_async(run_svm_decoder,args=(model,fr_samples,windows,it_seed,n,le)) for n in np.arange(n_iterations)] \n",
    "    scores2 = [asc.get() for asc in async_scores]"
   ]
  },
  {
   "cell_type": "code",
   "execution_count": 42,
   "metadata": {},
   "outputs": [
    {
     "data": {
      "text/plain": [
       "Text(0.5, 0.98, 'LIP, condition: out, group: all, 107 neurons')"
      ]
     },
     "execution_count": 42,
     "metadata": {},
     "output_type": "execute_result"
    },
    {
     "data": {
      "image/png": "[encoded data removed]",
      "text/plain": [
       "<Figure size 1600x500 with 1 Axes>"
      ]
     },
     "metadata": {},
     "output_type": "display_data"
    }
   ],
   "source": [
    "fig,ax = plt.subplots(figsize=(16,5))\n",
    "x = ((np.arange(0,len(scores2[0])))-fix_duration/10)/100\n",
    "ax.plot(x,np.array(scores2).mean(axis=0),label='Accuracy')\n",
    "ss = np.sum(np.array(scores2)<=0.2,axis=0)/np.array(scores2).shape[0]\n",
    "mask_inf = ss<=0.05\n",
    "mask_sup = ss>0.05\n",
    "ax.fill_between(x,y1=min(np.array(scores2).mean(axis=0)),y2=max(np.array(scores2).mean(axis=0)),where=ss<=0.05,color='grey',alpha=0.5,label='Below 5%')\n",
    "#ax.scatter(x[mask_inf],(ss)[mask_inf],color='k',marker='.',label='Below 5%')\n",
    "#ax.scatter(x[mask_sup],(ss)[mask_sup],color='grey',marker='.',label='Above 5%')\n",
    "fig.legend(fontsize=9)\n",
    "condition = {-1:'out',1:'in'}\n",
    "fig.suptitle(\"LIP, condition: %s, group: %s, %d neurons\"%(condition[in_out],cgroup,pd.concat(fr_samples)['neuron'].unique()[-1]))\n"
   ]
  },
  {
   "attachments": {},
   "cell_type": "markdown",
   "metadata": {},
   "source": [
    "### SVM"
   ]
  },
  {
   "cell_type": "code",
   "execution_count": null,
   "metadata": {},
   "outputs": [],
   "source": [
    "def compute_window_matrix(all_df,n_win,seed):\n",
    "    y,all_samples = [], []\n",
    "    for i_sample in all_df['sample'].unique():\n",
    "        n_df = all_df[all_df['sample']==i_sample]\n",
    "        data = n_df[[n_win,'neuron','trial_idx']]\n",
    "        n_pivot = pd.pivot_table(data, values=n_win,index='trial_idx',columns='neuron').reset_index(drop=True).loc[:,0:]\n",
    "        sample_df = []    \n",
    "        for n in np.arange(len(n_pivot.columns)):\n",
    "            sample_df.append(n_pivot.loc[~n_pivot[n].isna(),n].sample(min(max_n_trials),random_state=seed).reset_index(drop=True))\n",
    "        all_samples.append(pd.concat(sample_df,axis=1))\n",
    "        y.append([i_sample]*min(max_n_trials))\n",
    "    return pd.concat(all_samples),np.concatenate(y)\n"
   ]
  },
  {
   "cell_type": "code",
   "execution_count": null,
   "metadata": {},
   "outputs": [],
   "source": [
    "# plot results\n",
    "def plot_accuracy(scores,win_steps,neuron_max_shift,x_lim_min,x_lim_max,n_neuron):\n",
    "    fig,ax = plt.subplots()\n",
    "    ax.plot(((np.arange(0,len(scores[0]))*win_steps)- neuron_max_shift[n_neuron-1])/1000,scores[:13].mean(axis=0))\n",
    "    ax.set_xlim(x_lim_min, x_lim_max)\n",
    "    ax.vlines(\n",
    "        0, 0.3, 1, color=\"k\", linestyles=\"dashed\"\n",
    "    )# sample on\n",
    "    ax.hlines(\n",
    "        0.5, x_lim_min, x_lim_max, color=\"gray\", linestyles=\"solid\"\n",
    "    )\n",
    "    ax.set_title('Is neuron %d engaged in the task?'%(n_neuron))\n",
    "    ax.set(xlabel=\"Time (s)\", ylabel=\"SVM classifier accuracy\")\n",
    "    fig.tight_layout(pad=0.2, h_pad=0.2, w_pad=0.2)\n",
    "    fig.legend(['Accuracy','Sample on'], fontsize=9)"
   ]
  },
  {
   "cell_type": "code",
   "execution_count": null,
   "metadata": {},
   "outputs": [],
   "source": [
    "model=  SVC(kernel='linear',C=20,decision_function_shape='ovr',gamma=0.001)"
   ]
  },
  {
   "cell_type": "code",
   "execution_count": null,
   "metadata": {},
   "outputs": [],
   "source": [
    "def run_svm_decoder(model,all_df,windows,it_seed,n_it):\n",
    "    scores = np.zeros((windows))\n",
    "    #for n_it in np.arange(n_iterations):       \n",
    "    for n_win in np.arange(0,windows):\n",
    "        #  select trials randomly\n",
    "        X,y = compute_window_matrix(all_df,n_win,it_seed[n_it])\n",
    "        # split in train and test\n",
    "        X_train, X_test, y_train, y_test = train_test_split(X, y, test_size=.2,shuffle=True, random_state=it_seed[n_it])\n",
    "        X_train['label_encoder'] = y_train\n",
    "        # Sample with replacement (only train set)\n",
    "        X_train = X_train.sample(len(X_train),random_state=it_seed[n_it],replace=True)\n",
    "        y_train = X_train['label_encoder']\n",
    "        X_train = X_train.iloc[:,:-1]\n",
    "        model.fit(X_train,y_train)\n",
    "        y_predict = model.predict(X_test)\n",
    "        scores[n_win] = metrics.accuracy_score(y_test,y_predict)# cross_val_score(model, X, y, cv=kf,n_jobs=-1).mean()\n",
    "    return scores"
   ]
  },
  {
   "cell_type": "code",
   "execution_count": null,
   "metadata": {},
   "outputs": [],
   "source": [
    "all_df=all_df.replace(np.nan,0)"
   ]
  },
  {
   "cell_type": "code",
   "execution_count": null,
   "metadata": {},
   "outputs": [],
   "source": [
    "le = LabelEncoder()\n",
    "le.fit(all_df['sample'].unique())\n",
    "all_df['sample']=le.transform(all_df['sample'])\n",
    "n_iterations = 1000\n",
    "rng = np.random.default_rng(seed=seed)\n",
    "it_seed = rng.integers(low=1, high=2023, size=n_iterations, dtype=int)\n",
    "windows=354#0\n",
    "with Pool(9) as pool:\n",
    "    async_scores = [pool.apply_async(run_svm_decoder,args=(model,all_df,windows,it_seed,n)) for n in np.arange(n_iterations)] \n",
    "    scores2 = [asc.get() for asc in async_scores]"
   ]
  },
  {
   "cell_type": "code",
   "execution_count": null,
   "metadata": {},
   "outputs": [],
   "source": [
    "# good 1\n",
    "fig,ax = plt.subplots()\n",
    "ax.plot(((np.arange(0,len(scores2[0])))-fix_duration/10)/100,np.array(scores2).mean(axis=0))"
   ]
  },
  {
   "cell_type": "code",
   "execution_count": null,
   "metadata": {},
   "outputs": [],
   "source": [
    "# mua 100\n",
    "fig,ax = plt.subplots()\n",
    "ax.plot(((np.arange(0,len(scores2[0])))-fix_duration)/1000,np.array(scores2).mean(axis=0))"
   ]
  },
  {
   "cell_type": "code",
   "execution_count": null,
   "metadata": {},
   "outputs": [],
   "source": [
    "# good 10\n",
    "fig,ax = plt.subplots()\n",
    "ax.plot(((np.arange(0,len(scores2[0])))-fix_duration)/1000,np.array(scores2).mean(axis=0))"
   ]
  },
  {
   "cell_type": "code",
   "execution_count": null,
   "metadata": {},
   "outputs": [],
   "source": [
    "# all 10\n",
    "fig,ax = plt.subplots()\n",
    "ax.plot(((np.arange(0,len(scores2[0])))-fix_duration)/1000,np.array(scores2).mean(axis=0))"
   ]
  },
  {
   "cell_type": "code",
   "execution_count": null,
   "metadata": {},
   "outputs": [],
   "source": []
  }
 ],
 "metadata": {
  "kernelspec": {
   "display_name": "EphysVibe-48n-7Gof",
   "language": "python",
   "name": "python3"
  },
  "language_info": {
   "codemirror_mode": {
    "name": "ipython",
    "version": 3
   },
   "file_extension": ".py",
   "mimetype": "text/x-python",
   "name": "python",
   "nbconvert_exporter": "python",
   "pygments_lexer": "ipython3",
   "version": "3.8.10"
  },
  "orig_nbformat": 4,
  "vscode": {
   "interpreter": {
    "hash": "c0bc8c099b017ba9d073358cd61a0f952fda5c0927b42de8a275d5317edfe6cc"
   }
  }
 },
 "nbformat": 4,
 "nbformat_minor": 2
}
