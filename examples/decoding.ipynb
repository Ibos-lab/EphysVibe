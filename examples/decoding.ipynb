{
 "cells": [
  {
   "cell_type": "code",
   "execution_count": 1,
   "metadata": {},
   "outputs": [],
   "source": [
    "import glob\n",
    "import os\n",
    "import numpy as np\n",
    "import pandas as pd\n",
    "from matplotlib import pyplot as plt\n",
    "import seaborn as sns\n",
    "from scipy import signal,stats\n",
    "from ephysvibe.trials.spikes import firing_rate\n",
    "from ephysvibe.trials import select_trials\n",
    "from ephysvibe.spike_sorting import config\n",
    "from ephysvibe.task import def_task,task_constants\n",
    "from collections import defaultdict\n",
    "from typing import Dict\n",
    "import logging\n",
    "from scipy import fft,signal\n",
    "\n",
    "from sklearn.model_selection import train_test_split, GridSearchCV,KFold,cross_val_score,StratifiedKFold\n",
    "from sklearn.svm import SVC,LinearSVC\n",
    "from sklearn.preprocessing import LabelEncoder, StandardScaler, MinMaxScaler\n",
    "from sklearn import metrics\n",
    "\n",
    "seed=2023"
   ]
  },
  {
   "cell_type": "code",
   "execution_count": 2,
   "metadata": {},
   "outputs": [],
   "source": [
    "def get_fr_df(filepath,in_out,cgroup,e_align):\n",
    "    py_f = np.load(filepath,allow_pickle=True).item(0)\n",
    "    sp = py_f['sp_data']\n",
    "    bhv = py_f['bhv']\n",
    "    trial_idx = select_trials.select_trials_block(sp, n_block=1)\n",
    "    trial_idx = select_trials.select_correct_trials(bhv, trial_idx)\n",
    "    task = def_task.create_task_frame(trial_idx, bhv, task_constants.SAMPLES_COND)\n",
    "    neurons = np.where(sp[\"clustersgroup\"] == cgroup)[0]\n",
    "    fr_samples = firing_rate.fr_by_sample_neuron(\n",
    "            sp=sp,\n",
    "            neurons=neurons,\n",
    "            task=task,\n",
    "            in_out=in_out,\n",
    "            kernel=0,\n",
    "            e_align=e_align,\n",
    "            plot=False\n",
    "        )\n",
    "    return fr_samples"
   ]
  },
  {
   "cell_type": "code",
   "execution_count": 3,
   "metadata": {},
   "outputs": [
    {
     "name": "stdout",
     "output_type": "stream",
     "text": [
      "/home/INT/losada.c/Documents/data/test/areas/pfc/2022-11-22_10-59-03_Riesling_pfc_e1_r1.npy\n",
      "Number of trials in block 1: 1308\n",
      "Number of correct trials in block 2: 574\n",
      "/home/INT/losada.c/Documents/data/test/areas/pfc/2022-12-14_10-50-49_Riesling_pfc_e1_r1.npy\n",
      "Number of trials in block 1: 1753\n",
      "Number of correct trials in block 2: 874\n",
      "/home/INT/losada.c/Documents/data/test/areas/pfc/2022-11-30_10-42-03_Riesling_pfc_e1_r1.npy\n",
      "Number of trials in block 1: 1588\n",
      "Number of correct trials in block 2: 769\n",
      "/home/INT/losada.c/Documents/data/test/areas/pfc/2022-11-28_10-23-27_Riesling_pfc_e1_r1.npy\n",
      "Number of trials in block 1: 1536\n",
      "Number of correct trials in block 2: 657\n",
      "/home/INT/losada.c/Documents/data/test/areas/pfc/2022-12-16_10-30-59_Riesling_pfc_e1_r1.npy\n",
      "Number of trials in block 1: 1340\n",
      "Number of correct trials in block 2: 582\n"
     ]
    }
   ],
   "source": [
    "# load all pfc files\n",
    "pfc_path = \"/home/INT/losada.c/Documents/data/test/areas/pfc/*\"\n",
    "list = glob.glob(pfc_path)\n",
    "cgroup = \"good\"\n",
    "in_out=1\n",
    "e_align=2\n",
    "win_size = 100\n",
    "step = 1\n",
    "fix_duration = 200\n",
    "sample_duration = 450\n",
    "fr_samples=[]\n",
    "max_n_trials = []\n",
    "num_neurons = 0\n",
    "for n_path, path in enumerate(list):\n",
    "    print(path)\n",
    "    df= get_fr_df(path,in_out,cgroup,e_align)\n",
    "    rolling_df = df.loc[:,:'neuron'].iloc[:,:-1].rolling(window = win_size,axis=1,step=step,min_periods=1).mean()\n",
    "    rolling_df = rolling_df.iloc[:,df['sample_on'][0]-fix_duration:df['sample_on'][0]+sample_duration]\n",
    "    rolling_df.columns = np.arange(sample_duration+fix_duration)\n",
    "    rolling_df = pd.concat([rolling_df,df[['neuron','sample','trial_idx']]],axis=1)\n",
    "    # max number of trials that can be used \n",
    "    max_n_trials.append(rolling_df[['neuron','sample']][rolling_df['neuron']==1].groupby(['sample']).count().min()[0])\n",
    "    # rename neurons\n",
    "    unique_neurons = rolling_df['neuron'].unique()\n",
    "    rolling_df['neuron'].replace(unique_neurons,np.arange(num_neurons,num_neurons+len(unique_neurons)),inplace=True)\n",
    "    num_neurons += len(unique_neurons)\n",
    "    # rename trials\n",
    "    unique_trials = rolling_df['trial_idx'].unique()\n",
    "    rolling_df['trial_idx'].replace(unique_trials,np.arange(len(unique_trials)),inplace=True)\n",
    "    fr_samples.append(rolling_df)\n",
    "all_df = pd.concat(fr_samples)"
   ]
  },
  {
   "cell_type": "code",
   "execution_count": 4,
   "metadata": {},
   "outputs": [],
   "source": [
    "def compute_window_matrix(all_df,n_win,seed):\n",
    "    y,all_samples = [], []\n",
    "    for i_sample in all_df['sample'].unique():\n",
    "        n_df = all_df[all_df['sample']==i_sample]\n",
    "        data = n_df[[n_win,'neuron','trial_idx']]\n",
    "        n_pivot = pd.pivot_table(data, values=n_win,index='trial_idx',columns='neuron').reset_index(drop=True).loc[:,0:]\n",
    "        sample_df = []    \n",
    "        for n in np.arange(len(n_pivot.columns)):\n",
    "            sample_df.append(n_pivot.loc[~n_pivot[n].isna(),n].sample(min(max_n_trials),random_state=seed).reset_index(drop=True))\n",
    "        all_samples.append(pd.concat(sample_df,axis=1))\n",
    "        y.append([i_sample]*min(max_n_trials))\n",
    "    return pd.concat(all_samples),np.concatenate(y)\n"
   ]
  },
  {
   "attachments": {},
   "cell_type": "markdown",
   "metadata": {},
   "source": [
    "### SVM"
   ]
  },
  {
   "cell_type": "code",
   "execution_count": 98,
   "metadata": {},
   "outputs": [],
   "source": []
  },
  {
   "cell_type": "code",
   "execution_count": null,
   "metadata": {},
   "outputs": [],
   "source": []
  },
  {
   "cell_type": "code",
   "execution_count": 5,
   "metadata": {},
   "outputs": [],
   "source": [
    "def run_svm_decoder(model,all_df,n_iterations,windows,it_seed):\n",
    "    scores = np.zeros((n_iterations,windows))\n",
    "    for n_it in np.arange(n_iterations):       \n",
    "        for n_win in np.arange(0,windows):\n",
    "            #  select trials randomly\n",
    "            X,y = compute_window_matrix(all_df,n_win,it_seed[n_it])\n",
    "            # split in train and test\n",
    "            X_train, X_test, y_train, y_test = train_test_split(X, y, test_size=.2,shuffle=True, random_state=it_seed[n_it])\n",
    "            X_train['label_encoder'] = y_train\n",
    "            # Sample with replacement (only train set)\n",
    "            X_train = X_train.sample(len(X_train),random_state=it_seed[n_it],replace=True)\n",
    "            y_train = X_train['label_encoder']\n",
    "            X_train = X_train.iloc[:,:-1]\n",
    "            model.fit(X_train,y_train)\n",
    "            y_predict = model.predict(X_test)\n",
    "            scores[n_it, n_win] = metrics.accuracy_score(y_test,y_predict)# cross_val_score(model, X, y, cv=kf,n_jobs=-1).mean()\n",
    "    return scores"
   ]
  },
  {
   "cell_type": "code",
   "execution_count": 6,
   "metadata": {},
   "outputs": [],
   "source": [
    "# plot results\n",
    "def plot_accuracy(scores,win_steps,neuron_max_shift,x_lim_min,x_lim_max,n_neuron):\n",
    "    fig,ax = plt.subplots()\n",
    "    ax.plot(((np.arange(0,len(scores[0]))*win_steps)- neuron_max_shift[n_neuron-1])/1000,scores[:13].mean(axis=0))\n",
    "    ax.set_xlim(x_lim_min, x_lim_max)\n",
    "    ax.vlines(\n",
    "        0, 0.3, 1, color=\"k\", linestyles=\"dashed\"\n",
    "    )# sample on\n",
    "    ax.hlines(\n",
    "        0.5, x_lim_min, x_lim_max, color=\"gray\", linestyles=\"solid\"\n",
    "    )\n",
    "    ax.set_title('Is neuron %d engaged in the task?'%(n_neuron))\n",
    "    ax.set(xlabel=\"Time (s)\", ylabel=\"SVM classifier accuracy\")\n",
    "    fig.tight_layout(pad=0.2, h_pad=0.2, w_pad=0.2)\n",
    "    fig.legend(['Accuracy','Sample on'], fontsize=9)"
   ]
  },
  {
   "cell_type": "code",
   "execution_count": 7,
   "metadata": {},
   "outputs": [],
   "source": [
    "model=  SVC(kernel='linear',C=20,decision_function_shape='ovr',gamma=0.001)"
   ]
  },
  {
   "cell_type": "code",
   "execution_count": 8,
   "metadata": {},
   "outputs": [],
   "source": [
    "from multiprocessing import Pool"
   ]
  },
  {
   "cell_type": "code",
   "execution_count": 9,
   "metadata": {},
   "outputs": [],
   "source": [
    "def run_svm_decoder(model,all_df,windows,it_seed,n_it):\n",
    "    scores = np.zeros((windows))\n",
    "    #for n_it in np.arange(n_iterations):       \n",
    "    for n_win in np.arange(0,windows):\n",
    "        #  select trials randomly\n",
    "        X,y = compute_window_matrix(all_df,n_win,it_seed[n_it])\n",
    "        # split in train and test\n",
    "        X_train, X_test, y_train, y_test = train_test_split(X, y, test_size=.2,shuffle=True, random_state=it_seed[n_it])\n",
    "        X_train['label_encoder'] = y_train\n",
    "        # Sample with replacement (only train set)\n",
    "        X_train = X_train.sample(len(X_train),random_state=it_seed[n_it],replace=True)\n",
    "        y_train = X_train['label_encoder']\n",
    "        X_train = X_train.iloc[:,:-1]\n",
    "        model.fit(X_train,y_train)\n",
    "        y_predict = model.predict(X_test)\n",
    "        scores[n_win] = metrics.accuracy_score(y_test,y_predict)# cross_val_score(model, X, y, cv=kf,n_jobs=-1).mean()\n",
    "    return scores"
   ]
  },
  {
   "cell_type": "code",
   "execution_count": 10,
   "metadata": {},
   "outputs": [],
   "source": [
    "le = LabelEncoder()\n",
    "le.fit(all_df['sample'].unique())\n",
    "all_df['sample']=le.transform(all_df['sample'])\n",
    "n_iterations = 100\n",
    "rng = np.random.default_rng(seed=seed)\n",
    "it_seed = rng.integers(low=1, high=2023, size=n_iterations, dtype=int)\n",
    "windows=650\n",
    "with Pool() as pool:\n",
    "    async_scores = [pool.apply_async(run_svm_decoder,args=(model,all_df,windows,it_seed,n)) for n in np.arange(n_iterations)] \n",
    "    scores2 = [asc.get() for asc in async_scores]"
   ]
  },
  {
   "cell_type": "code",
   "execution_count": null,
   "metadata": {},
   "outputs": [],
   "source": []
  },
  {
   "cell_type": "code",
   "execution_count": 96,
   "metadata": {},
   "outputs": [],
   "source": [
    "le = LabelEncoder()\n",
    "le.fit(all_df['sample'].unique())\n",
    "all_df['sample']=le.transform(all_df['sample'])\n",
    "n_iterations = 10\n",
    "rng = np.random.default_rng(seed=seed)\n",
    "it_seed = rng.integers(low=1, high=2023, size=n_iterations, dtype=int)\n",
    "windows=650\n",
    "scores = run_svm_decoder(model,all_df,n_iterations,windows,it_seed)"
   ]
  },
  {
   "cell_type": "code",
   "execution_count": 12,
   "metadata": {},
   "outputs": [
    {
     "data": {
      "text/plain": [
       "[<matplotlib.lines.Line2D at 0x7ffa06f25ac0>]"
      ]
     },
     "execution_count": 12,
     "metadata": {},
     "output_type": "execute_result"
    },
    {
     "data": {
      "image/png": "[encoded data removed]",
      "text/plain": [
       "<Figure size 640x480 with 1 Axes>"
      ]
     },
     "metadata": {},
     "output_type": "display_data"
    }
   ],
   "source": [
    "fig,ax = plt.subplots()\n",
    "ax.plot(((np.arange(0,len(scores2[0])))-fix_duration)/1000,np.array(scores2).mean(axis=0))"
   ]
  },
  {
   "cell_type": "code",
   "execution_count": null,
   "metadata": {},
   "outputs": [],
   "source": []
  }
 ],
 "metadata": {
  "kernelspec": {
   "display_name": "EphysVibe-48n-7Gof",
   "language": "python",
   "name": "python3"
  },
  "language_info": {
   "codemirror_mode": {
    "name": "ipython",
    "version": 3
   },
   "file_extension": ".py",
   "mimetype": "text/x-python",
   "name": "python",
   "nbconvert_exporter": "python",
   "pygments_lexer": "ipython3",
   "version": "3.8.10"
  },
  "orig_nbformat": 4,
  "vscode": {
   "interpreter": {
    "hash": "c0bc8c099b017ba9d073358cd61a0f952fda5c0927b42de8a275d5317edfe6cc"
   }
  }
 },
 "nbformat": 4,
 "nbformat_minor": 2
}
