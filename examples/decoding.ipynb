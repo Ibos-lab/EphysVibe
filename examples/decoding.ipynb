{
   "cells": [
      {
         "cell_type": "code",
         "execution_count": 1,
         "metadata": {},
         "outputs": [],
         "source": [
            "import glob\n",
            "import os\n",
            "import numpy as np\n",
            "import pandas as pd\n",
            "from matplotlib import pyplot as plt\n",
            "import seaborn as sns\n",
            "from scipy import signal,stats\n",
            "from ephysvibe.trials.spikes import firing_rate\n",
            "from ephysvibe.trials import select_trials\n",
            "from ephysvibe.spike_sorting import config\n",
            "from ephysvibe.task import def_task,task_constants\n",
            "from collections import defaultdict\n",
            "from typing import Dict\n",
            "import logging\n",
            "from scipy import fft,signal\n",
            "\n",
            "from sklearn.model_selection import train_test_split, GridSearchCV,KFold,cross_val_score,StratifiedKFold\n",
            "from sklearn.svm import SVC,LinearSVC\n",
            "from sklearn.preprocessing import LabelEncoder, StandardScaler, MinMaxScaler\n",
            "from sklearn import metrics\n",
            "from multiprocessing import Pool\n",
            "from ephysvibe.structures.trials_data import TrialsData\n",
            "seed=2023"
         ]
      },
      {
         "cell_type": "code",
         "execution_count": 2,
         "metadata": {},
         "outputs": [],
         "source": [
            "def moving_average(data:np.ndarray,win:int, step:int=1)-> np.ndarray:\n",
            "    d_shape=data.shape\n",
            "    d_avg = np.zeros((d_shape[0],d_shape[1],int(np.floor(d_shape[2]/step))))\n",
            "    count = 0\n",
            "    for i_step in np.arange(0,d_shape[2]-step,step):\n",
            "        d_avg[:,:,count] = np.mean(data[:,:,i_step:i_step+win],axis=2)\n",
            "        count +=1\n",
            "    return d_avg"
         ]
      },
      {
         "cell_type": "code",
         "execution_count": 3,
         "metadata": {},
         "outputs": [],
         "source": [
            "def get_avg_fr(filepath,cgroup,win,step,in_out=\"in\",e_align=\"sample_on\",t_before=200):\n",
            "    print(filepath)\n",
            "    data = TrialsData.from_python_hdf5(filepath)\n",
            "    if in_out == \"in\":\n",
            "        in_out_cond = data.condition <  task_constants.SAMPLES_COND[\"o1_c1_out\"][0]\n",
            "    else:\n",
            "        in_out_cond = data.condition >=  task_constants.SAMPLES_COND[\"o1_c1_out\"][0]\n",
            "\n",
            "    trial_idx = np.where(np.logical_and(np.logical_and(data.trial_error == 0, data.block == 1),in_out_cond))[0]\n",
            "    task = def_task.create_task_frame(\n",
            "        condition=data.condition[trial_idx],\n",
            "        test_stimuli=data.test_stimuli[trial_idx],\n",
            "        samples_cond=task_constants.SAMPLES_COND,\n",
            "    )\n",
            "    if cgroup == 'all':\n",
            "        neurons = np.where(data.clustersgroup != cgroup)[0]\n",
            "    else:\n",
            "        neurons = np.where(data.clustersgroup == cgroup)[0]\n",
            "\n",
            "    trials_s_on = data.code_samples[\n",
            "        trial_idx,\n",
            "        np.where(data.code_numbers[trial_idx] == task_constants.EVENTS_B1[\"sample_on\"])[\n",
            "            1\n",
            "        ],\n",
            "    ]\n",
            "    shifts = -(trials_s_on + 1 - t_before).astype(int)\n",
            "    shifts = shifts[:,np.newaxis]\n",
            "    shift_sp = TrialsData.indep_roll(data.sp_samples[trial_idx][:,neurons], shifts, axis=2)[:,:, :1600]\n",
            "    # ! check if there are nans in shift_sp\n",
            "    sp_avg = moving_average(shift_sp, win=win, step=step)\n",
            "    return task,sp_avg"
         ]
      },
      {
         "cell_type": "code",
         "execution_count": 4,
         "metadata": {},
         "outputs": [],
         "source": [
            "file1 = open(\"C:/Users/camil/Documents/int/flow/paths_decoding.txt\", \"r\")\n",
            "Lines = file1.readlines()"
         ]
      },
      {
         "cell_type": "code",
         "execution_count": 46,
         "metadata": {},
         "outputs": [
            {
               "name": "stdout",
               "output_type": "stream",
               "text": [
                  "C:/Users/camil/Documents/int/data/result/session_struct/Riesling/lip/2022-12-05_10-51-52_Riesling_lip_e1_r1.h5\n",
                  "C:/Users/camil/Documents/int/data/result/session_struct/Riesling/lip/2023-01-20_11-00-24_Riesling_lip_e1_r1.h5\n"
               ]
            }
         ],
         "source": [
            "# load all  files\n",
            "paths=[]\n",
            "for line in Lines:\n",
            "    paths.append(line.strip())\n",
            "cgroup = \"all\"\n",
            "in_out=\"in\"\n",
            "e_align=\"sample_on\"\n",
            "win_size = 100\n",
            "step = 10\n",
            "fix_duration = 200\n",
            "sample_duration = 450\n",
            "fr_samples=[]\n",
            "max_n_trials = []\n",
            "num_neurons = 0\n",
            "def load_fr_samples(path:str,n:int):\n",
            "    task,sp_avg = get_avg_fr(filepath=path,cgroup=cgroup,win=win_size,step=step,in_out=in_out,e_align=e_align,t_before=200)\n",
            "    return task,sp_avg\n",
            "tasks,frs_avg = [],[]\n",
            "for n_path in paths:\n",
            "    task,fr_avg = load_fr_samples(n_path,1)\n",
            "    tasks.append(task)\n",
            "    frs_avg.append(fr_avg)\n",
            "# with Pool(1) as pool:\n",
            "#     async_fr = [pool.apply_async(load_fr_samples,args=(paths[n],n)) for n in np.arange(len(paths))] \n",
            "#     frs = [asc.get() for asc in async_fr]\n",
            "    \n"
         ]
      },
      {
         "cell_type": "code",
         "execution_count": 47,
         "metadata": {},
         "outputs": [],
         "source": [
            "# max number of trials that can be used \n",
            "min_trials = frs_avg[0].shape[0]\n",
            "for rec in range(len(tasks)):\n",
            "    min_n_trials = tasks[rec].groupby([\"sample\"]).count().min()[0]\n",
            "    min_trials = min_n_trials if min_n_trials < min_trials else min_trials"
         ]
      },
      {
         "cell_type": "code",
         "execution_count": 39,
         "metadata": {},
         "outputs": [],
         "source": [
            "# for rolling_df in fr_roll:\n",
            "#     # max number of trials that can be used \n",
            "#     max_n_trials.append(rolling_df[['neuron','sample']][rolling_df['neuron']==1].groupby(['sample']).count().min()[0])\n",
            "#     # rename neurons\n",
            "#     unique_neurons = rolling_df['neuron'].unique()\n",
            "#     rolling_df['neuron'].replace(unique_neurons,np.arange(num_neurons,num_neurons+len(unique_neurons)),inplace=True)\n",
            "#     num_neurons += len(unique_neurons)\n",
            "#     # rename trials\n",
            "#     unique_trials = rolling_df['trial_idx'].unique()\n",
            "#     rolling_df['trial_idx'].replace(unique_trials,np.arange(len(unique_trials)),inplace=True)\n",
            "#     fr_samples.append(rolling_df)"
         ]
      },
      {
         "attachments": {},
         "cell_type": "markdown",
         "metadata": {},
         "source": [
            "### SVM2"
         ]
      },
      {
         "cell_type": "code",
         "execution_count": 58,
         "metadata": {},
         "outputs": [],
         "source": [
            "def sample_df(frs_avg,task,min_trials,seed):\n",
            "    all_df = []\n",
            "    sample_dict:Dict[str,list] = defaultdict(list)\n",
            "    for i_sample in tasks[0]['sample'].unique():\n",
            "        all_sample_fr=[]\n",
            "        for fr_s,n_task in zip(frs_avg,tasks): #days\n",
            "            t_idx = n_task[n_task[\"sample\"]==i_sample].sample(min_trials,random_state=seed)[\"trial_idx\"].values\n",
            "            sample_fr = fr_s[t_idx]\n",
            "            all_sample_fr.append(sample_fr)\n",
            "        all_sample_fr = np.concatenate(all_sample_fr,axis=1)\n",
            "        sample_dict[i_sample] = all_sample_fr\n",
            "    return sample_dict"
         ]
      },
      {
         "cell_type": "code",
         "execution_count": 66,
         "metadata": {},
         "outputs": [],
         "source": [
            "def compute_window_matrix(all_df,n_win):\n",
            "    y,all_samples = [], []\n",
            "    for i_sample in all_df.keys(): \n",
            "        n_df = all_df[i_sample]\n",
            "        data = n_df[:,:,n_win]\n",
            "\n",
            "        all_samples.append(data)\n",
            "        y.append([i_sample]*data.shape[0])\n",
            "    return np.concatenate(all_samples,axis=0),np.concatenate(y)"
         ]
      },
      {
         "cell_type": "code",
         "execution_count": 69,
         "metadata": {},
         "outputs": [],
         "source": [
            "def run_svm_decoder(model,frs_avg,tasks,windows,min_trials,it_seed,n_it,le):\n",
            "    scores = np.zeros((windows))\n",
            "    all_df= sample_df(frs_avg,tasks,min_trials,it_seed[n_it])\n",
            "    #all_df['sample']=le.transform(all_df['sample'])\n",
            "    for n_win in np.arange(0,windows):\n",
            "        #  select trials randomly\n",
            "        X,y = compute_window_matrix(all_df,n_win)\n",
            "        y=le.transform(y)\n",
            "        # split in train and test\n",
            "        X_train, X_test, y_train, y_test = train_test_split(X, y, test_size=.2,shuffle=True, random_state=it_seed[n_it],stratify=y)\n",
            "        np.random.seed(it_seed[n_it]) \n",
            "        idx_swr = np.random.choice(X_train.shape[0], size=X_train.shape[0], replace=True, p=None)\n",
            "        X_train = X_train[idx_swr]\n",
            "        y_train = y_train[idx_swr]\n",
            "        # X_train['label_encoder'] = y_train\n",
            "        # # Sample with replacement (only train set)\n",
            "        # X_train = X_train.sample(len(X_train),random_state=it_seed[n_it],replace=True)\n",
            "        # y_train = X_train['label_encoder']\n",
            "        # X_train = X_train.iloc[:,:-1]\n",
            "        model.fit(X_train,y_train)\n",
            "        y_predict = model.predict(X_test)\n",
            "        scores[n_win] = metrics.accuracy_score(y_test,y_predict)# cross_val_score(model, X, y, cv=kf,n_jobs=-1).mean()\n",
            "    return scores"
         ]
      },
      {
         "cell_type": "code",
         "execution_count": 70,
         "metadata": {},
         "outputs": [],
         "source": [
            "# plot results\n",
            "def plot_accuracy(scores,win_steps,neuron_max_shift,x_lim_min,x_lim_max,n_neuron):\n",
            "    fig,ax = plt.subplots()\n",
            "    ax.plot(((np.arange(0,len(scores[0]))*win_steps)- neuron_max_shift[n_neuron-1])/1000,scores[:13].mean(axis=0))\n",
            "    ax.set_xlim(x_lim_min, x_lim_max)\n",
            "    ax.vlines(\n",
            "        0, 0.3, 1, color=\"k\", linestyles=\"dashed\"\n",
            "    )# sample on\n",
            "    ax.hlines(\n",
            "        0.5, x_lim_min, x_lim_max, color=\"gray\", linestyles=\"solid\"\n",
            "    )\n",
            "    ax.set_title('Is neuron %d engaged in the task?'%(n_neuron))\n",
            "    ax.set(xlabel=\"Time (s)\", ylabel=\"SVM classifier accuracy\")\n",
            "    fig.tight_layout(pad=0.2, h_pad=0.2, w_pad=0.2)\n",
            "    fig.legend(['Accuracy','Sample on'], fontsize=9)"
         ]
      },
      {
         "cell_type": "code",
         "execution_count": 71,
         "metadata": {},
         "outputs": [],
         "source": [
            "model=  SVC(kernel='linear',C=20,decision_function_shape='ovr',gamma=0.001)"
         ]
      },
      {
         "cell_type": "code",
         "execution_count": 72,
         "metadata": {},
         "outputs": [],
         "source": [
            "le = LabelEncoder()\n",
            "le.fit(tasks[0]['sample'].unique())\n",
            "#all_df['sample']=le.transform(all_df['sample'])\n",
            "n_iterations = 1\n",
            "rng = np.random.default_rng(seed=seed)\n",
            "it_seed = rng.integers(low=1, high=2023, size=n_iterations, dtype=int)\n",
            "windows = frs_avg[0].shape[2]\n",
            "scores = run_svm_decoder(model,frs_avg,tasks,windows,min_trials,it_seed,n_it=0,le=le)\n",
            "# with Pool(10) as pool:\n",
            "#     async_scores = [pool.apply_async(run_svm_decoder,args=(model,fr_samples,windows,it_seed,n,le)) for n in np.arange(n_iterations)] \n",
            "#     scores2 = [asc.get() for asc in async_scores]"
         ]
      },
      {
         "cell_type": "code",
         "execution_count": 75,
         "metadata": {},
         "outputs": [
            {
               "data": {
                  "text/plain": [
                     "[<matplotlib.lines.Line2D at 0x17ccc3d7a90>]"
                  ]
               },
               "execution_count": 75,
               "metadata": {},
               "output_type": "execute_result"
            },
            {
               "data": {
                  "image/png": "[encoded data removed]",
                  "text/plain": [
                     "<Figure size 640x480 with 1 Axes>"
                  ]
               },
               "metadata": {},
               "output_type": "display_data"
            }
         ],
         "source": [
            "plt.plot(scores)"
         ]
      },
      {
         "cell_type": "code",
         "execution_count": 74,
         "metadata": {},
         "outputs": [
            {
               "ename": "TypeError",
               "evalue": "object of type 'numpy.float64' has no len()",
               "output_type": "error",
               "traceback": [
                  "\u001b[1;31m---------------------------------------------------------------------------\u001b[0m",
                  "\u001b[1;31mTypeError\u001b[0m                                 Traceback (most recent call last)",
                  "Cell \u001b[1;32mIn[74], line 2\u001b[0m\n\u001b[0;32m      1\u001b[0m fig,ax \u001b[39m=\u001b[39m plt\u001b[39m.\u001b[39msubplots(figsize\u001b[39m=\u001b[39m(\u001b[39m16\u001b[39m,\u001b[39m5\u001b[39m))\n\u001b[1;32m----> 2\u001b[0m x \u001b[39m=\u001b[39m ((np\u001b[39m.\u001b[39marange(\u001b[39m0\u001b[39m,\u001b[39mlen\u001b[39;49m(scores[\u001b[39m0\u001b[39;49m])))\u001b[39m-\u001b[39mfix_duration\u001b[39m/\u001b[39m\u001b[39m10\u001b[39m)\u001b[39m/\u001b[39m\u001b[39m100\u001b[39m\n\u001b[0;32m      3\u001b[0m ax\u001b[39m.\u001b[39mplot(x,np\u001b[39m.\u001b[39marray(scores)\u001b[39m.\u001b[39mmean(axis\u001b[39m=\u001b[39m\u001b[39m0\u001b[39m),label\u001b[39m=\u001b[39m\u001b[39m'\u001b[39m\u001b[39mAccuracy\u001b[39m\u001b[39m'\u001b[39m)\n\u001b[0;32m      4\u001b[0m ss \u001b[39m=\u001b[39m np\u001b[39m.\u001b[39msum(np\u001b[39m.\u001b[39marray(scores)\u001b[39m<\u001b[39m\u001b[39m=\u001b[39m\u001b[39m0.2\u001b[39m,axis\u001b[39m=\u001b[39m\u001b[39m0\u001b[39m)\u001b[39m/\u001b[39mnp\u001b[39m.\u001b[39marray(scores)\u001b[39m.\u001b[39mshape[\u001b[39m0\u001b[39m]\n",
                  "\u001b[1;31mTypeError\u001b[0m: object of type 'numpy.float64' has no len()"
               ]
            },
            {
               "data": {
                  "image/png": "[encoded data removed]",
                  "text/plain": [
                     "<Figure size 1600x500 with 1 Axes>"
                  ]
               },
               "metadata": {},
               "output_type": "display_data"
            }
         ],
         "source": [
            "fig,ax = plt.subplots(figsize=(16,5))\n",
            "x = ((np.arange(0,len(scores[0])))-fix_duration/10)/100\n",
            "ax.plot(x,np.array(scores).mean(axis=0),label='Accuracy')\n",
            "ss = np.sum(np.array(scores)<=0.2,axis=0)/np.array(scores).shape[0]\n",
            "mask_inf = ss<=0.05\n",
            "mask_sup = ss>0.05\n",
            "ax.fill_between(x,y1=min(np.array(scores).mean(axis=0)),y2=max(np.array(scores).mean(axis=0)),where=ss<=0.05,color='grey',alpha=0.5,label='Below 5%')\n",
            "#ax.scatter(x[mask_inf],(ss)[mask_inf],color='k',marker='.',label='Below 5%')\n",
            "#ax.scatter(x[mask_sup],(ss)[mask_sup],color='grey',marker='.',label='Above 5%')\n",
            "fig.legend(fontsize=9)\n",
            "condition = {-1:'out',1:'in'}\n",
            "fig.suptitle(\"LIP, condition: %s, group: %s, %d neurons\"%(condition[in_out],cgroup,pd.concat(fr_samples)['neuron'].unique()[-1]))\n"
         ]
      },
      {
         "attachments": {},
         "cell_type": "markdown",
         "metadata": {},
         "source": [
            "### SVM"
         ]
      },
      {
         "cell_type": "code",
         "execution_count": null,
         "metadata": {},
         "outputs": [],
         "source": [
            "def compute_window_matrix(all_df,n_win,seed):\n",
            "    y,all_samples = [], []\n",
            "    for i_sample in all_df['sample'].unique():\n",
            "        n_df = all_df[all_df['sample']==i_sample]\n",
            "        data = n_df[[n_win,'neuron','trial_idx']]\n",
            "        n_pivot = pd.pivot_table(data, values=n_win,index='trial_idx',columns='neuron').reset_index(drop=True).loc[:,0:]\n",
            "        sample_df = []    \n",
            "        for n in np.arange(len(n_pivot.columns)):\n",
            "            sample_df.append(n_pivot.loc[~n_pivot[n].isna(),n].sample(min(max_n_trials),random_state=seed).reset_index(drop=True))\n",
            "        all_samples.append(pd.concat(sample_df,axis=1))\n",
            "        y.append([i_sample]*min(max_n_trials))\n",
            "    return pd.concat(all_samples),np.concatenate(y)\n"
         ]
      },
      {
         "cell_type": "code",
         "execution_count": null,
         "metadata": {},
         "outputs": [],
         "source": [
            "# plot results\n",
            "def plot_accuracy(scores,win_steps,neuron_max_shift,x_lim_min,x_lim_max,n_neuron):\n",
            "    fig,ax = plt.subplots()\n",
            "    ax.plot(((np.arange(0,len(scores[0]))*win_steps)- neuron_max_shift[n_neuron-1])/1000,scores[:13].mean(axis=0))\n",
            "    ax.set_xlim(x_lim_min, x_lim_max)\n",
            "    ax.vlines(\n",
            "        0, 0.3, 1, color=\"k\", linestyles=\"dashed\"\n",
            "    )# sample on\n",
            "    ax.hlines(\n",
            "        0.5, x_lim_min, x_lim_max, color=\"gray\", linestyles=\"solid\"\n",
            "    )\n",
            "    ax.set_title('Is neuron %d engaged in the task?'%(n_neuron))\n",
            "    ax.set(xlabel=\"Time (s)\", ylabel=\"SVM classifier accuracy\")\n",
            "    fig.tight_layout(pad=0.2, h_pad=0.2, w_pad=0.2)\n",
            "    fig.legend(['Accuracy','Sample on'], fontsize=9)"
         ]
      },
      {
         "cell_type": "code",
         "execution_count": null,
         "metadata": {},
         "outputs": [],
         "source": [
            "model=  SVC(kernel='linear',C=20,decision_function_shape='ovr',gamma=0.001)"
         ]
      },
      {
         "cell_type": "code",
         "execution_count": null,
         "metadata": {},
         "outputs": [],
         "source": [
            "def run_svm_decoder(model,all_df,windows,it_seed,n_it):\n",
            "    scores = np.zeros((windows))\n",
            "    #for n_it in np.arange(n_iterations):       \n",
            "    for n_win in np.arange(0,windows):\n",
            "        #  select trials randomly\n",
            "        X,y = compute_window_matrix(all_df,n_win,it_seed[n_it])\n",
            "        # split in train and test\n",
            "        X_train, X_test, y_train, y_test = train_test_split(X, y, test_size=.2,shuffle=True, random_state=it_seed[n_it])\n",
            "        X_train['label_encoder'] = y_train\n",
            "        # Sample with replacement (only train set)\n",
            "        X_train = X_train.sample(len(X_train),random_state=it_seed[n_it],replace=True)\n",
            "        y_train = X_train['label_encoder']\n",
            "        X_train = X_train.iloc[:,:-1]\n",
            "        model.fit(X_train,y_train)\n",
            "        y_predict = model.predict(X_test)\n",
            "        scores[n_win] = metrics.accuracy_score(y_test,y_predict)# cross_val_score(model, X, y, cv=kf,n_jobs=-1).mean()\n",
            "    return scores"
         ]
      },
      {
         "cell_type": "code",
         "execution_count": null,
         "metadata": {},
         "outputs": [],
         "source": [
            "all_df=all_df.replace(np.nan,0)"
         ]
      },
      {
         "cell_type": "code",
         "execution_count": null,
         "metadata": {},
         "outputs": [],
         "source": [
            "le = LabelEncoder()\n",
            "le.fit(all_df['sample'].unique())\n",
            "all_df['sample']=le.transform(all_df['sample'])\n",
            "n_iterations = 1000\n",
            "rng = np.random.default_rng(seed=seed)\n",
            "it_seed = rng.integers(low=1, high=2023, size=n_iterations, dtype=int)\n",
            "windows=354#0\n",
            "with Pool(9) as pool:\n",
            "    async_scores = [pool.apply_async(run_svm_decoder,args=(model,all_df,windows,it_seed,n)) for n in np.arange(n_iterations)] \n",
            "    scores2 = [asc.get() for asc in async_scores]"
         ]
      },
      {
         "cell_type": "code",
         "execution_count": null,
         "metadata": {},
         "outputs": [],
         "source": [
            "# good 1\n",
            "fig,ax = plt.subplots()\n",
            "ax.plot(((np.arange(0,len(scores2[0])))-fix_duration/10)/100,np.array(scores2).mean(axis=0))"
         ]
      },
      {
         "cell_type": "code",
         "execution_count": null,
         "metadata": {},
         "outputs": [],
         "source": [
            "# mua 100\n",
            "fig,ax = plt.subplots()\n",
            "ax.plot(((np.arange(0,len(scores2[0])))-fix_duration)/1000,np.array(scores2).mean(axis=0))"
         ]
      },
      {
         "cell_type": "code",
         "execution_count": null,
         "metadata": {},
         "outputs": [],
         "source": [
            "# good 10\n",
            "fig,ax = plt.subplots()\n",
            "ax.plot(((np.arange(0,len(scores2[0])))-fix_duration)/1000,np.array(scores2).mean(axis=0))"
         ]
      },
      {
         "cell_type": "code",
         "execution_count": null,
         "metadata": {},
         "outputs": [],
         "source": [
            "# all 10\n",
            "fig,ax = plt.subplots()\n",
            "ax.plot(((np.arange(0,len(scores2[0])))-fix_duration)/1000,np.array(scores2).mean(axis=0))"
         ]
      },
      {
         "cell_type": "code",
         "execution_count": null,
         "metadata": {},
         "outputs": [],
         "source": []
      }
   ],
   "metadata": {
      "kernelspec": {
         "display_name": "EphysVibe-BeirVkCw",
         "language": "python",
         "name": "python3"
      },
      "language_info": {
         "codemirror_mode": {
            "name": "ipython",
            "version": 3
         },
         "file_extension": ".py",
         "mimetype": "text/x-python",
         "name": "python",
         "nbconvert_exporter": "python",
         "pygments_lexer": "ipython3",
         "version": "3.9.6"
      },
      "orig_nbformat": 4,
      "vscode": {
         "interpreter": {
            "hash": "ff7d43efeac86b953a119f00a195d34f7f440c0ab532f5f89f95bcc539dbd557"
         }
      }
   },
   "nbformat": 4,
   "nbformat_minor": 2
}
