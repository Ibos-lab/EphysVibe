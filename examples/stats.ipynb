{
 "cells": [
  {
   "cell_type": "code",
   "execution_count": 1,
   "metadata": {},
   "outputs": [],
   "source": [
    "import numpy as np\n",
    "from matplotlib import pyplot as plt\n",
    "import seaborn as sns\n",
    "from scipy import signal,stats\n",
    "import pandas as pd\n",
    "from typing import Dict\n",
    "from collections import defaultdict\n",
    "from ephysvibe.trials.spikes import firing_rate,sp_constants\n",
    "from ephysvibe.trials import select_trials\n",
    "from ephysvibe.spike_sorting import config\n",
    "from ephysvibe.structures.trials_data import TrialsData\n",
    "from ephysvibe.trials.spikes import firing_rate\n",
    "from ephysvibe.task import task_constants,def_task\n",
    "import os "
   ]
  },
  {
   "cell_type": "code",
   "execution_count": 2,
   "metadata": {},
   "outputs": [],
   "source": [
    "filepath = \"/envau/work/invibe/USERS/IBOS/data/Riesling/TSCM/OpenEphys/session_struct/Riesling/v4/2022-11-28_10-23-27_Riesling_v4_e1_r1.h5\"\n",
    "s_path = os.path.normpath(filepath).split(os.sep)\n",
    "data = TrialsData.from_python_hdf5(filepath)"
   ]
  },
  {
   "attachments": {},
   "cell_type": "markdown",
   "metadata": {},
   "source": [
    "### Block 2"
   ]
  },
  {
   "cell_type": "code",
   "execution_count": 3,
   "metadata": {},
   "outputs": [
    {
     "name": "stdout",
     "output_type": "stream",
     "text": [
      "Number of clusters: 81\n"
     ]
    }
   ],
   "source": [
    "# Select trials and create task frame\n",
    "block = 2\n",
    "trial_idx = np.where(np.logical_and(data.trial_error == 0, data.block == block))[0]\n",
    "print(\"Number of clusters: %d\" % len(data.clustersgroup))"
   ]
  },
  {
   "cell_type": "code",
   "execution_count": 4,
   "metadata": {},
   "outputs": [],
   "source": [
    "# Define target codes \n",
    "target_codes= {\n",
    "    # code: [ML axis], [plot axis]\n",
    "    '127': [[10,0],[1,2]],\n",
    "    '126': [[7,7],[0,2]],\n",
    "    '125': [[0,10],[0,1]],\n",
    "    '124': [[-7,7],[0,0]],\n",
    "    '123': [[-10,0],[1,0]],\n",
    "    '122': [[-7,-7],[2,0]],\n",
    "    '121': [[0,-10],[2,1]],\n",
    "    '120': [[7,-7],[2,2]],\n",
    "}\n",
    "# create dict with the trials that have each code\n",
    "trials_idx = {}\n",
    "for i_key,key in enumerate(target_codes.keys()):\n",
    "    trials = []\n",
    "    code_idx=[]\n",
    "    for i_trial,code in zip(trial_idx, data.code_numbers[trial_idx]):\n",
    "        idx=np.where(int(key) == code)[0]\n",
    "        if len(idx)!=0:\n",
    "            code_idx.append(idx[0])\n",
    "            trials.append(i_trial)\n",
    "    trials_idx[key]={'code_idx':code_idx,'trials_idx':trials}"
   ]
  },
  {
   "cell_type": "code",
   "execution_count": 7,
   "metadata": {},
   "outputs": [],
   "source": [
    "a=data.code_samples[\n",
    "                target_t_idx,\n",
    "                np.where(data.code_numbers[target_t_idx] == task_constants.EVENTS_B2['fix_spot_off'])[1]]\n",
    "b=data.code_samples[\n",
    "                target_t_idx,\n",
    "                np.where(data.code_numbers[target_t_idx] == task_constants.EVENTS_B2['eye_in_target'])[1][0]]"
   ]
  },
  {
   "cell_type": "code",
   "execution_count": 10,
   "metadata": {},
   "outputs": [
    {
     "data": {
      "text/plain": [
       "array([246., 218., 208., 189., 263., 186., 248., 185., 462., 552.])"
      ]
     },
     "execution_count": 10,
     "metadata": {},
     "output_type": "execute_result"
    }
   ],
   "source": [
    "b-a"
   ]
  },
  {
   "attachments": {},
   "cell_type": "markdown",
   "metadata": {},
   "source": [
    "#### t-test for each epoch "
   ]
  },
  {
   "cell_type": "code",
   "execution_count": 11,
   "metadata": {},
   "outputs": [],
   "source": [
    "# check whether the neuron is responding to the task comparing each epoch with fixation \n",
    "codes = ['124','120','125','121','126','122','127','123']\n",
    "all_e_aling = ['target_on','target_off','fix_spot_off']\n",
    "all_t_after = [100,800,200]\n",
    "t_test:Dict[str,list] = defaultdict(list)\n",
    "for i_neuron in range(len(data.clustersgroup)):\n",
    "    for e_align, t_after in zip(all_e_aling,all_t_after):\n",
    "        event_align = task_constants.EVENTS_B2[e_align]\n",
    "        mean_sp=[]\n",
    "        for code in codes:\n",
    "            target_t_idx = trials_idx[code][\"trials_idx\"] # select trials with the same stimulus\n",
    "            trials_ev = data.code_samples[\n",
    "                target_t_idx,\n",
    "                np.where(data.code_numbers[target_t_idx] == event_align)[1]]\n",
    "            shift_sp = TrialsData.indep_roll(data.sp_samples[target_t_idx,i_neuron], -(trials_ev + 1).astype(int), axis=1)[:, :t_after]\n",
    "            mean_sp = shift_sp.mean(axis=0)\n",
    "\n",
    "            trials_ev = data.code_samples[\n",
    "                target_t_idx,\n",
    "                np.where(data.code_numbers[target_t_idx] == task_constants.EVENTS_B2['target_on'])[1]]\n",
    "            shift_sp = TrialsData.indep_roll(data.sp_samples[target_t_idx,i_neuron], -(trials_ev + 1-200).astype(int), axis=1)[:, :200]\n",
    "            mean_sp_fix = shift_sp.mean(axis=0)\n",
    "            p=stats.ttest_ind(mean_sp, mean_sp_fix)[1]\n",
    "            t_test['code']+=[code]\n",
    "            t_test['cluster']+=[i_neuron]\n",
    "            t_test['group']+=[data.clustersgroup[i_neuron]]\n",
    "            t_test['event']+=[e_align]\n",
    "            t_test['p']+=[p]\n",
    "t_test_sacc = pd.DataFrame(t_test)\n"
   ]
  },
  {
   "attachments": {},
   "cell_type": "markdown",
   "metadata": {},
   "source": [
    "#### sacaddic index"
   ]
  },
  {
   "cell_type": "code",
   "execution_count": 12,
   "metadata": {},
   "outputs": [],
   "source": [
    "# search the location where there is the higher activity\n",
    "def compute_sacc_idx(data,e_align,t_after):\n",
    "    left = np.array(['125','124','123','122'])\n",
    "    right = np.array(['121','120','127','126'])\n",
    "    sacc_index = []\n",
    "    event_align = task_constants.EVENTS_B2[e_align]\n",
    "    for i_neuron in range(len(data.clustersgroup)):#[np.where(data.clustersgroup=='good')[0][5]]:#\n",
    "        #all_mean_sp=[]\n",
    "        max_activity = 0\n",
    "        code_sp = {}\n",
    "        if i_neuron == 23:\n",
    "            i = 1\n",
    "        for r_side, l_side in zip(right,left):\n",
    "            for code in [r_side, l_side]:\n",
    "                target_t_idx = trials_idx[code][\"trials_idx\"] # select trials with the same stimulus\n",
    "                trials_ev = data.code_samples[\n",
    "                    target_t_idx,\n",
    "                    np.where(data.code_numbers[target_t_idx] == event_align)[1]]\n",
    "                shift_sp = TrialsData.indep_roll(data.sp_samples[target_t_idx,i_neuron], -(trials_ev + 1 ).astype(int), axis=1)[:, :t_after]\n",
    "                mean_sp = shift_sp.mean()\n",
    "                code_sp[code]=mean_sp\n",
    "                if mean_sp > max_activity:\n",
    "                    max_activity = mean_sp \n",
    "                    p_value = t_test_sacc[(t_test_sacc['code']==code) & (t_test_sacc['cluster']==i_neuron) & (t_test_sacc['event']==e_align)]['p'].values[0]<0.05\n",
    "                    pair = [r_side, l_side]\n",
    "                #all_mean_sp.append(np.array(mean_sp)) \n",
    "        mean_r = code_sp[pair[0]]\n",
    "        mean_l = code_sp[pair[1]]  \n",
    "        if (mean_r==0 and mean_l==0) or p_value == False:\n",
    "            sacc_index.append(np.nan)\n",
    "        else:\n",
    "            sacc_index.append((mean_r-mean_l)/(mean_r+mean_l))\n",
    "    return sacc_index"
   ]
  },
  {
   "cell_type": "code",
   "execution_count": 14,
   "metadata": {},
   "outputs": [],
   "source": [
    "sacc_index_target = compute_sacc_idx(data,e_align='target_on',t_after=100)\n",
    "sacc_index_delay = compute_sacc_idx(data,e_align='target_off',t_after=800)\n",
    "sacc_index_sacc = compute_sacc_idx(data,e_align='fix_spot_off',t_after=600)"
   ]
  },
  {
   "attachments": {},
   "cell_type": "markdown",
   "metadata": {},
   "source": [
    "### Block 1"
   ]
  },
  {
   "cell_type": "code",
   "execution_count": 15,
   "metadata": {},
   "outputs": [],
   "source": [
    "trial_idx = np.where(np.logical_and(data.trial_error == 0, data.block == 1))[0]\n",
    "task = def_task.create_task_frame(\n",
    "    condition=data.condition[trial_idx],\n",
    "    test_stimuli=data.test_stimuli[trial_idx],\n",
    "    samples_cond=task_constants.SAMPLES_COND,\n",
    ")\n",
    "trials_sp = data.sp_samples[trial_idx]"
   ]
  },
  {
   "attachments": {},
   "cell_type": "markdown",
   "metadata": {},
   "source": [
    "### t-test "
   ]
  },
  {
   "cell_type": "code",
   "execution_count": 16,
   "metadata": {},
   "outputs": [],
   "source": [
    "# check whether the neuron is responding to the task comparing each epoch with fixation \n",
    "\n",
    "all_e_aling = ['sample_on','sample_off','test_on_1']\n",
    "all_t_after = [450,450,450]\n",
    "t_test:Dict[str,list] = defaultdict(list)\n",
    "for i_neuron in range(len(data.clustersgroup)):\n",
    "    for e_align, t_after in zip(all_e_aling,all_t_after):\n",
    "        event_align = task_constants.EVENTS_B1[e_align]\n",
    "        trials_s_on = data.code_samples[\n",
    "            trial_idx,\n",
    "            np.where(data.code_numbers[trial_idx] == event_align)[1],\n",
    "        ]\n",
    "        neuron_sp = trials_sp[:, i_neuron, :]\n",
    "        shift_sp = TrialsData.indep_roll(neuron_sp, -(trials_s_on + 1 ).astype(int), axis=1)[:, :t_after]             \n",
    "        # fix\n",
    "        trials_s_on = data.code_samples[\n",
    "            trial_idx,\n",
    "            np.where(data.code_numbers[trial_idx] == task_constants.EVENTS_B1['sample_on'])[\n",
    "                1\n",
    "            ],\n",
    "        ]\n",
    "        neuron_sp = trials_sp[:, i_neuron, :]\n",
    "        shift_sp_fix = TrialsData.indep_roll(neuron_sp, -(trials_s_on + 1 -200).astype(int), axis=1)[:, :200]       \n",
    "        for i_cond, cond in enumerate([\"in\", \"out\"]):\n",
    "            sample_idx = task[task[\"in_out\"] == cond][\"trial_idx\"].values\n",
    "            mean_sp = shift_sp[sample_idx].mean(axis=0)\n",
    "            mean_sp_fix = shift_sp_fix[sample_idx].mean(axis=0)\n",
    "            p=stats.ttest_ind(mean_sp, mean_sp_fix)[1]\n",
    "            t_test['cond']+=[cond]\n",
    "            t_test['cluster']+=[i_neuron]\n",
    "            t_test['group']+=[data.clustersgroup[i_neuron]]\n",
    "            t_test['event']+=[e_align]\n",
    "            t_test['p']+=[p]\n",
    "t_test_dmts = pd.DataFrame(t_test)"
   ]
  },
  {
   "cell_type": "code",
   "execution_count": 17,
   "metadata": {},
   "outputs": [],
   "source": [
    "# search the location where there is the higher activity\n",
    "def compute_dmts_idx(data,e_align,t_after):\n",
    "    dmts_index = []\n",
    "    trials_s_on = data.code_samples[\n",
    "        trial_idx,\n",
    "        np.where(data.code_numbers[trial_idx] == task_constants.EVENTS_B1[e_align])[\n",
    "            1\n",
    "        ],\n",
    "    ]\n",
    "    for i_neuron in range(len(data.clustersgroup)):\n",
    "        neuron_sp = trials_sp[:, i_neuron, :]\n",
    "        shift_sp = TrialsData.indep_roll(neuron_sp, -(trials_s_on + 1 ).astype(int), axis=1)[:, :t_after]\n",
    "        code_sp = {}\n",
    "        for i_cond, cond in enumerate([\"in\", \"out\"]):\n",
    "            sample_idx = task[task[\"in_out\"] == cond][\"trial_idx\"].values\n",
    "            mean_sp = shift_sp[sample_idx].mean()\n",
    "            code_sp[cond] = mean_sp         \n",
    "        mean_r = code_sp['in']\n",
    "        mean_l = code_sp['out']  \n",
    "        if mean_r> mean_l:\n",
    "            p_value = t_test_dmts[(t_test_dmts['cond']=='in') & (t_test_dmts['cluster']==i_neuron) & (t_test_dmts['event']==e_align)]['p'].values[0]<0.5\n",
    "        else:\n",
    "            p_value = t_test_dmts[(t_test_dmts['cond']=='out') & (t_test_dmts['cluster']==i_neuron) & (t_test_dmts['event']==e_align)]['p'].values[0]<0.5\n",
    "        if (mean_r==0 and mean_l==0) or (p_value == False):\n",
    "            dmts_index.append(np.nan)\n",
    "        else:\n",
    "            dmts_index.append((mean_r-mean_l)/(mean_r+mean_l))\n",
    "    return dmts_index"
   ]
  },
  {
   "cell_type": "code",
   "execution_count": 18,
   "metadata": {},
   "outputs": [],
   "source": [
    "dmts_index_sample = compute_dmts_idx(data,e_align='sample_on',t_after=450)\n",
    "dmts_index_delay = compute_dmts_idx(data,e_align='sample_off',t_after=450)\n",
    "dmts_index_test1 = compute_dmts_idx(data,e_align='test_on_1',t_after=450)"
   ]
  },
  {
   "cell_type": "code",
   "execution_count": 19,
   "metadata": {},
   "outputs": [],
   "source": [
    "def plot_idxs(idx1,idx2,name1,name2):\n",
    "    fig, ax = plt.subplots(figsize=(8,8))\n",
    "    ax.scatter(idx1,idx2,s=6)\n",
    "    ax.vlines(0,np.nanmin(idx2),np.nanmax(idx2),'k')\n",
    "    ax.hlines(0,np.nanmin(idx1),np.nanmax(idx1),'k')\n",
    "    ax.set(xlabel=name1, ylabel=name2)\n",
    "    good,mua=1,1\n",
    "    \n",
    "    for i, txt in enumerate(data.clustersgroup):\n",
    "        if txt =='good':\n",
    "            good+=1\n",
    "            i_cluster = good\n",
    "        else:\n",
    "            mua+=1\n",
    "            i_cluster = mua\n",
    "            if i_cluster == 19:\n",
    "                print(i)\n",
    "        ax.annotate(str(i_cluster)+txt, (idx1[i], idx2[i]),size=6)"
   ]
  },
  {
   "cell_type": "code",
   "execution_count": 20,
   "metadata": {},
   "outputs": [
    {
     "name": "stdout",
     "output_type": "stream",
     "text": [
      "23\n"
     ]
    },
    {
     "data": {
      "image/png": "[encoded data removed]",
      "text/plain": [
       "<Figure size 800x800 with 1 Axes>"
      ]
     },
     "metadata": {},
     "output_type": "display_data"
    }
   ],
   "source": [
    "# plot_idxs(dmts_index_sample,sacc_index_target,\"dmts_index_sample\",\"sacc_index_target\")\n",
    "# plot_idxs(dmts_index_delay,sacc_index_delay,\"dmts_index_delay\",\"sacc_index_delay\")\n",
    "plot_idxs(dmts_index_test1,sacc_index_sacc,\"dmts_index_test1\",\"sacc_index_sacc\")"
   ]
  },
  {
   "cell_type": "code",
   "execution_count": null,
   "metadata": {},
   "outputs": [],
   "source": []
  }
 ],
 "metadata": {
  "kernelspec": {
   "display_name": "EphysVibe-48n-7Gof",
   "language": "python",
   "name": "python3"
  },
  "language_info": {
   "codemirror_mode": {
    "name": "ipython",
    "version": 3
   },
   "file_extension": ".py",
   "mimetype": "text/x-python",
   "name": "python",
   "nbconvert_exporter": "python",
   "pygments_lexer": "ipython3",
   "version": "3.8.10"
  },
  "orig_nbformat": 4,
  "vscode": {
   "interpreter": {
    "hash": "c0bc8c099b017ba9d073358cd61a0f952fda5c0927b42de8a275d5317edfe6cc"
   }
  }
 },
 "nbformat": 4,
 "nbformat_minor": 2
}
