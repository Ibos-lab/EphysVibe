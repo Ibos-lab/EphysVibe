{
 "cells": [
  {
   "cell_type": "markdown",
   "metadata": {},
   "source": [
    "#### Script to check rf and compute the visuomemory index block 1\n",
    "- First, check if neuron responding to the task by comparing activity during trial vs baseline\n",
    "- Second, check whether the rf is in in or out\n",
    "- Third, compute the visuomemory index"
   ]
  },
  {
   "cell_type": "code",
   "execution_count": 1,
   "metadata": {},
   "outputs": [],
   "source": [
    "import numpy as np\n",
    "from matplotlib import pyplot as plt\n",
    "import seaborn as sns\n",
    "from scipy import signal,stats\n",
    "import pandas as pd\n",
    "from typing import Dict\n",
    "from collections import defaultdict\n",
    "from ephysvibe.trials.spikes import firing_rate,sp_constants,plot_raster\n",
    "from ephysvibe.trials import select_trials\n",
    "from ephysvibe.spike_sorting import config\n",
    "from ephysvibe.structures.bhv_data import BhvData\n",
    "from ephysvibe.structures.spike_data import SpikeData\n",
    "from ephysvibe.analysis import raw_ch,circular_stats\n",
    "from ephysvibe.task import task_constants,def_task\n",
    "import os \n",
    "seed=2023"
   ]
  },
  {
   "cell_type": "markdown",
   "metadata": {},
   "source": [
    "### Def functions"
   ]
  },
  {
   "cell_type": "code",
   "execution_count": 2,
   "metadata": {},
   "outputs": [],
   "source": [
    "def get_neurons_info(sp_samples:np.ndarray,fix_t:int,neuron_type:np.ndarray,task:pd.DataFrame,dur_v:int,st_m:int,end_m:int,st_t:int,end_t:int,min_trials:int=5,n_spikes_sec:int=5)->pd.DataFrame:\n",
    "    trial_dur = sp_samples.shape[2]\n",
    "    neurons_info:Dict[str,list] = defaultdict(list)\n",
    "    i_good,i_mua, n_type = 0,0,0\n",
    "    for i_neuron,type_neuron in enumerate(neuron_type):\n",
    "        # check and count type of unit\n",
    "        if type_neuron == 'good':\n",
    "            i_good+=1\n",
    "            n_type = i_good\n",
    "        elif type_neuron == 'mua':\n",
    "            i_mua+=1\n",
    "            n_type = i_mua\n",
    "        max_in_out = np.array([0,0])\n",
    "        larger,v_larger,m_larger,idx_p_min = np.array([False,False]),np.array([False,False]),np.array([False,False]),np.array([0,0])\n",
    "        p_in_out,p_v,p_m,vm_index = np.array([None,None]),np.array([None,None]),np.array([None,None]),np.array([None,None])\n",
    "        for i,in_out in enumerate([\"in\",\"out\"]): # iterate by code'\n",
    "            trial_idx = task[(task['i_neuron']==i_neuron)&(task['in_out']==in_out)&(task['sample']!='o0_c0')][\"trial_idx\"]\n",
    "            trial_idx = trial_idx[(sp_samples[trial_idx,i_neuron,fix_t:].sum(axis=1)>0)]\n",
    "            n_tr = len(trial_idx)\n",
    "            true_in_out = 'in'\n",
    "            if n_tr > 3:\n",
    "                mean_visual = sp_samples[trial_idx,i_neuron,fix_t+50:fix_t+dur_v].mean(axis=1)\n",
    "                mean_mem = sp_samples[trial_idx,i_neuron,fix_t+st_m:fix_t+end_m].mean(axis=1)\n",
    "                mean_test = sp_samples[trial_idx,i_neuron,fix_t+st_t:fix_t+end_t].mean(axis=1)\n",
    "                mean_bl = sp_samples[trial_idx,i_neuron,:fix_t].mean(axis=1)\n",
    "                v_larger[i] = mean_bl.mean()<mean_visual.mean()\n",
    "                m_larger[i] = mean_bl.mean()<mean_mem.mean()\n",
    "                t_larger = mean_bl.mean()<mean_test.mean()\n",
    "                larger[i]= v_larger[i] or m_larger[i] or t_larger\n",
    "\n",
    "                p_v[i] = stats.ttest_rel(mean_bl, mean_visual)[1]\n",
    "                p_m[i] = stats.ttest_rel(mean_bl, mean_mem)[1]\n",
    "                p_t = stats.ttest_rel(mean_bl, mean_test)[1]\n",
    " \n",
    "                p_in_out[i] = np.min([p_v[i],p_m[i],p_t])\n",
    "                max_in_out[i] = np.max([v_larger[i],m_larger[i],t_larger])\n",
    "                idx_p_min[i] = np.argmin([p_v[i],p_m[i],p_t])\n",
    "\n",
    "                vm_index[i] = (mean_mem.mean()-mean_visual.mean())/(mean_mem.mean()+mean_visual.mean())\n",
    "\n",
    "        if  p_in_out[0]>0.05 and p_in_out[1]<0.05 and [v_larger[1],m_larger[1],t_larger][idx_p_min[1]]:#(np.argmax(max_in_out) == 1 or\n",
    "            true_in_out='out'\n",
    "\n",
    "        for i,in_out in enumerate([\"in\",\"out\"]): # iterate by code'\n",
    "\n",
    "            neurons_info['array_position']+=[i_neuron]\n",
    "            neurons_info['cluster']+=[n_type]\n",
    "            neurons_info['group']+=[type_neuron]            \n",
    "            neurons_info['in_out']+=[in_out]\n",
    "            neurons_info['true_in_out']+=[true_in_out]\n",
    "            neurons_info['vm_index']+=[vm_index[i]]\n",
    "            neurons_info['p']+=[p_in_out[1]]\n",
    "            neurons_info['larger']+=[larger[i]]  \n",
    "            neurons_info['v_larger']+=[v_larger[i]]  \n",
    "            neurons_info['p_v']+=[p_v[i]]  \n",
    "            neurons_info['m_larger']+=[m_larger[i]]  \n",
    "            neurons_info['p_m']+=[p_m[i]]  \n",
    "            \n",
    "   \n",
    "    neurons_info = pd.DataFrame(neurons_info)\n",
    "    return neurons_info"
   ]
  },
  {
   "cell_type": "markdown",
   "metadata": {},
   "source": [
    "### Start analysis"
   ]
  },
  {
   "cell_type": "code",
   "execution_count": 3,
   "metadata": {},
   "outputs": [],
   "source": [
    "# load data\n",
    "filepath = \"/envau/work/invibe/USERS/IBOS/data/Riesling/TSCM/OpenEphys/session_struct/lip/spikes/2023-01-18_10-22-38_Riesling_lip_e1_r1_sp.h5\"  #2023-02-27_10-50-03 2023-02-09_10-42-54 2023-03-21_10-40-02\n",
    "bhv_path = '/envau/work/invibe/USERS/IBOS/data/Riesling/TSCM/OpenEphys/session_struct/bhv/2023-01-18_10-22-38_Riesling_e1_r1_bhv.h5'\n",
    "s_path = os.path.normpath(filepath).split(os.sep)\n",
    "data = SpikeData.from_python_hdf5(filepath)\n",
    "bhv = BhvData.from_python_hdf5(bhv_path)"
   ]
  },
  {
   "cell_type": "code",
   "execution_count": 4,
   "metadata": {},
   "outputs": [
    {
     "name": "stdout",
     "output_type": "stream",
     "text": [
      "Number of clusters: 7\n"
     ]
    }
   ],
   "source": [
    "# Select trials and create task frame\n",
    "block = 1\n",
    "trials_block = np.where(np.logical_and(data.trial_error == 0, data.block == block))[0]\n",
    "print(\"Number of clusters: %d\" % len(data.clustersgroup))"
   ]
  },
  {
   "cell_type": "code",
   "execution_count": 5,
   "metadata": {},
   "outputs": [],
   "source": [
    "if np.any(np.isnan(data.neuron_cond)):\n",
    "    neuron_cond = np.ones(len(data.clustersgroup))\n",
    "else:\n",
    "    neuron_cond = data.neuron_cond\n",
    "task = def_task.create_task_frame(\n",
    "    condition=bhv.condition[trials_block],\n",
    "    test_stimuli=bhv.test_stimuli[trials_block],\n",
    "    samples_cond=task_constants.SAMPLES_COND,\n",
    "    neuron_cond=neuron_cond,\n",
    ")"
   ]
  },
  {
   "cell_type": "code",
   "execution_count": 6,
   "metadata": {},
   "outputs": [],
   "source": [
    "sp_samples = data.sp_samples\n",
    "neuron_type = data.clustersgroup\n",
    "code_samples = data.code_samples\n",
    "code_numbers = data.code_numbers\n",
    "sp_samples = data.sp_samples\n",
    "\n",
    "fix_t = 200\n",
    "dur_v = 250\n",
    "st_m = 450 #800\n",
    "end_m = 900\n",
    "st_t = 900\n",
    "end_t = 900+450\n",
    "min_trials = 3\n",
    "n_spikes_sec = 5\n",
    "p_threshold = 0.05\n",
    "vm_threshold = 0.4"
   ]
  },
  {
   "cell_type": "code",
   "execution_count": 7,
   "metadata": {},
   "outputs": [],
   "source": [
    "shifts_on = code_samples[:,4]  \n",
    "shifts_on = shifts_on[:,np.newaxis]\n",
    "shifts_test = code_samples[:,6]\n",
    "shifts_test = shifts_test[:,np.newaxis]\n",
    "shifts_test = np.where(np.isnan(shifts_test),0,shifts_test)\n",
    "sp_shift_on = SpikeData.indep_roll(sp_samples, -(shifts_on-fix_t).astype(int), axis=2)[:,:,:end_m+fix_t]\n",
    "sp_shift_test = SpikeData.indep_roll(sp_samples, -(shifts_test).astype(int), axis=2)[:,:,:450]\n",
    "sp_shift = np.concatenate([sp_shift_on,sp_shift_test],axis=2)"
   ]
  },
  {
   "cell_type": "markdown",
   "metadata": {},
   "source": [
    "#### Select responding neurons and check rf"
   ]
  },
  {
   "cell_type": "code",
   "execution_count": 8,
   "metadata": {},
   "outputs": [],
   "source": [
    "neurons_info = get_neurons_info(sp_shift,fix_t,neuron_type,task,dur_v=dur_v,st_m=st_m,end_m=end_m,st_t=st_t,end_t=end_t,min_trials=min_trials,n_spikes_sec=n_spikes_sec)\n",
    "neurons_info = neurons_info[(neurons_info['p']<0.05)& (neurons_info['larger']==True)] # responding neurons\n"
   ]
  },
  {
   "cell_type": "markdown",
   "metadata": {},
   "source": [
    "#### Compute vm index"
   ]
  },
  {
   "cell_type": "code",
   "execution_count": 9,
   "metadata": {},
   "outputs": [],
   "source": [
    "neurons_info = neurons_info[neurons_info[\"in_out\"]==neurons_info[\"true_in_out\"]]\n",
    "neurons_info = neurons_info[(np.logical_and(neurons_info[\"p_v\"]<0.05,neurons_info[\"v_larger\"]==True)) | (np.logical_and(neurons_info[\"p_m\"]<0.05,neurons_info[\"p_larger\"]==True))]"
   ]
  },
  {
   "cell_type": "code",
   "execution_count": 10,
   "metadata": {},
   "outputs": [
    {
     "data": {
      "text/html": [
       "<div>\n",
       "<style scoped>\n",
       "    .dataframe tbody tr th:only-of-type {\n",
       "        vertical-align: middle;\n",
       "    }\n",
       "\n",
       "    .dataframe tbody tr th {\n",
       "        vertical-align: top;\n",
       "    }\n",
       "\n",
       "    .dataframe thead th {\n",
       "        text-align: right;\n",
       "    }\n",
       "</style>\n",
       "<table border=\"1\" class=\"dataframe\">\n",
       "  <thead>\n",
       "    <tr style=\"text-align: right;\">\n",
       "      <th></th>\n",
       "      <th>array_position</th>\n",
       "      <th>cluster</th>\n",
       "      <th>group</th>\n",
       "      <th>in_out</th>\n",
       "      <th>true_in_out</th>\n",
       "      <th>vm_index</th>\n",
       "      <th>p</th>\n",
       "      <th>larger</th>\n",
       "      <th>v_larger</th>\n",
       "      <th>p_v</th>\n",
       "      <th>p_larger</th>\n",
       "      <th>p_m</th>\n",
       "    </tr>\n",
       "  </thead>\n",
       "  <tbody>\n",
       "    <tr>\n",
       "      <th>0</th>\n",
       "      <td>0</td>\n",
       "      <td>1</td>\n",
       "      <td>mua</td>\n",
       "      <td>in</td>\n",
       "      <td>in</td>\n",
       "      <td>-0.141826</td>\n",
       "      <td>1.080526e-02</td>\n",
       "      <td>True</td>\n",
       "      <td>True</td>\n",
       "      <td>9.425512e-03</td>\n",
       "      <td>False</td>\n",
       "      <td>0.960949</td>\n",
       "    </tr>\n",
       "    <tr>\n",
       "      <th>4</th>\n",
       "      <td>2</td>\n",
       "      <td>2</td>\n",
       "      <td>mua</td>\n",
       "      <td>in</td>\n",
       "      <td>in</td>\n",
       "      <td>-0.671233</td>\n",
       "      <td>5.082983e-07</td>\n",
       "      <td>True</td>\n",
       "      <td>True</td>\n",
       "      <td>5.572692e-05</td>\n",
       "      <td>False</td>\n",
       "      <td>0.166808</td>\n",
       "    </tr>\n",
       "    <tr>\n",
       "      <th>10</th>\n",
       "      <td>5</td>\n",
       "      <td>3</td>\n",
       "      <td>mua</td>\n",
       "      <td>in</td>\n",
       "      <td>in</td>\n",
       "      <td>-0.162791</td>\n",
       "      <td>1.170720e-10</td>\n",
       "      <td>True</td>\n",
       "      <td>True</td>\n",
       "      <td>3.279934e-04</td>\n",
       "      <td>True</td>\n",
       "      <td>0.180744</td>\n",
       "    </tr>\n",
       "    <tr>\n",
       "      <th>12</th>\n",
       "      <td>6</td>\n",
       "      <td>4</td>\n",
       "      <td>mua</td>\n",
       "      <td>in</td>\n",
       "      <td>in</td>\n",
       "      <td>-0.577614</td>\n",
       "      <td>3.775133e-11</td>\n",
       "      <td>True</td>\n",
       "      <td>True</td>\n",
       "      <td>1.642669e-08</td>\n",
       "      <td>True</td>\n",
       "      <td>0.149282</td>\n",
       "    </tr>\n",
       "  </tbody>\n",
       "</table>\n",
       "</div>"
      ],
      "text/plain": [
       "    array_position  cluster group in_out true_in_out  vm_index             p  \\\n",
       "0                0        1   mua     in          in -0.141826  1.080526e-02   \n",
       "4                2        2   mua     in          in -0.671233  5.082983e-07   \n",
       "10               5        3   mua     in          in -0.162791  1.170720e-10   \n",
       "12               6        4   mua     in          in -0.577614  3.775133e-11   \n",
       "\n",
       "    larger  v_larger           p_v  p_larger       p_m  \n",
       "0     True      True  9.425512e-03     False  0.960949  \n",
       "4     True      True  5.572692e-05     False  0.166808  \n",
       "10    True      True  3.279934e-04      True  0.180744  \n",
       "12    True      True  1.642669e-08      True  0.149282  "
      ]
     },
     "execution_count": 10,
     "metadata": {},
     "output_type": "execute_result"
    }
   ],
   "source": [
    "neurons_info"
   ]
  },
  {
   "cell_type": "code",
   "execution_count": null,
   "metadata": {},
   "outputs": [],
   "source": []
  },
  {
   "cell_type": "code",
   "execution_count": null,
   "metadata": {},
   "outputs": [],
   "source": []
  },
  {
   "cell_type": "code",
   "execution_count": null,
   "metadata": {},
   "outputs": [],
   "source": []
  }
 ],
 "metadata": {
  "kernelspec": {
   "display_name": "EphysVibe-48n-7Gof",
   "language": "python",
   "name": "python3"
  },
  "language_info": {
   "codemirror_mode": {
    "name": "ipython",
    "version": 3
   },
   "file_extension": ".py",
   "mimetype": "text/x-python",
   "name": "python",
   "nbconvert_exporter": "python",
   "pygments_lexer": "ipython3",
   "version": "3.8.10"
  },
  "orig_nbformat": 4
 },
 "nbformat": 4,
 "nbformat_minor": 2
}
