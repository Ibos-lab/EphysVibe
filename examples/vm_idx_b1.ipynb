{
 "cells": [
  {
   "cell_type": "markdown",
   "metadata": {},
   "source": [
    "#### Script to check rf and compute the visuomemory index block 1\n",
    "- First, check if neuron responding to the task by comparing activity during trial vs baseline\n",
    "- Second, check whether the rf is in in or out\n",
    "- Third, compute the visuomemory index"
   ]
  },
  {
   "cell_type": "code",
   "execution_count": 1,
   "metadata": {},
   "outputs": [],
   "source": [
    "import numpy as np\n",
    "from matplotlib import pyplot as plt\n",
    "import seaborn as sns\n",
    "from scipy import signal,stats\n",
    "import pandas as pd\n",
    "from typing import Dict\n",
    "from collections import defaultdict\n",
    "from ephysvibe.trials.spikes import firing_rate,sp_constants,plot_raster\n",
    "from ephysvibe.trials import select_trials\n",
    "from ephysvibe.spike_sorting import config\n",
    "from ephysvibe.structures.bhv_data import BhvData\n",
    "from ephysvibe.structures.spike_data import SpikeData\n",
    "from ephysvibe.analysis import raw_ch,circular_stats\n",
    "from ephysvibe.task import task_constants,def_task\n",
    "import os \n",
    "seed=2023"
   ]
  },
  {
   "cell_type": "markdown",
   "metadata": {},
   "source": [
    "### Def functions"
   ]
  },
  {
   "cell_type": "code",
   "execution_count": 144,
   "metadata": {},
   "outputs": [],
   "source": [
    "def get_neurons_info(sp_samples:np.ndarray,fix_t:int,neuron_type:np.ndarray,task:pd.DataFrame,dur_v:int,st_m:int,end_m:int,st_t:int,end_t:int,min_trials:int=5,n_spikes_sec:int=5)->pd.DataFrame:\n",
    "    trial_dur = sp_samples.shape[2]\n",
    "    neurons_info:Dict[str,list] = defaultdict(list)\n",
    "    i_good,i_mua, n_type = 0,0,0\n",
    "    for i_neuron,type_neuron in enumerate(neuron_type):\n",
    "        \n",
    "        # check and count type of unit\n",
    "        if type_neuron == 'good':\n",
    "            i_good+=1\n",
    "            n_type = i_good\n",
    "        elif type_neuron == 'mua':\n",
    "            i_mua+=1\n",
    "            n_type = i_mua\n",
    "        max_in_out = np.array([0,0])\n",
    "        larger,v_larger,p_larger = np.array([False,False]),np.array([False,False]),np.array([False,False])\n",
    "        p_in_out,p_v,p_p = np.array([None,None]),np.array([None,None]),np.array([None,None])\n",
    "        for i,in_out in enumerate([\"in\",\"out\"]): # iterate by code'\n",
    "            trial_idx = task[(task['i_neuron']==i_neuron)&(task['in_out']==in_out)][\"trial_idx\"]\n",
    "            trial_idx = trial_idx[(sp_samples[trial_idx,i_neuron,fix_t:].sum(axis=1)>0)]\n",
    "            n_tr = len(trial_idx)\n",
    "            true_in_out = 'in'\n",
    "            if n_tr > 3:\n",
    "                mean_visual = sp_samples[trial_idx,i_neuron,fix_t+50:fix_t+dur_v].mean(axis=1)\n",
    "                mean_prep = sp_samples[trial_idx,i_neuron,fix_t+st_m:fix_t+end_m].mean(axis=1)\n",
    "                mean_test = sp_samples[trial_idx,i_neuron,fix_t+st_t:fix_t+end_t].mean(axis=1)\n",
    "                mean_bl = sp_samples[trial_idx,i_neuron,:fix_t].mean(axis=1)\n",
    "                v_larger[i] = mean_bl.mean()<mean_visual.mean()\n",
    "                p_larger[i] = mean_bl.mean()<mean_prep.mean()\n",
    "                t_larger = mean_bl.mean()<mean_test.mean()\n",
    "                larger[i]= v_larger[i] or p_larger[i] or t_larger\n",
    "                p_v[i] = stats.ttest_rel(mean_bl, mean_visual)[1]\n",
    "                p_p[i] = stats.ttest_rel(mean_bl, mean_prep)[1]\n",
    "                p_t = stats.ttest_rel(mean_bl, mean_test)[1]\n",
    "\n",
    "                p_in_out[i] = np.min([p_v[i],p_p[i],p_t])\n",
    "                max_in_out[i] = np.max([v_larger[i],p_larger[i],t_larger])\n",
    "        for i,in_out in enumerate([\"in\",\"out\"]): # iterate by code'\n",
    "            if np.argmax(max_in_out) == 1 or p_in_out[0]>0.05:\n",
    "                true_in_out='out'\n",
    "            neurons_info['array_position']+=[i_neuron]\n",
    "            neurons_info['cluster']+=[n_type]\n",
    "            neurons_info['group']+=[type_neuron]            \n",
    "            neurons_info['in_out']+=[in_out]\n",
    "            neurons_info['true_in_out']+=[true_in_out]\n",
    "            neurons_info['p']+=[p_in_out[1]]\n",
    "            neurons_info['larger']+=[larger[i]]  \n",
    "            neurons_info['v_larger']+=[v_larger[i]]  \n",
    "            neurons_info['p_v']+=[p_v[i]]  \n",
    "            neurons_info['p_larger']+=[p_larger[i]]  \n",
    "            neurons_info['p_p']+=[p_p[i]]  \n",
    "            \n",
    "   \n",
    "    neurons_info = pd.DataFrame(neurons_info)\n",
    "    return neurons_info"
   ]
  },
  {
   "cell_type": "markdown",
   "metadata": {},
   "source": [
    "### Start analysis"
   ]
  },
  {
   "cell_type": "code",
   "execution_count": 145,
   "metadata": {},
   "outputs": [],
   "source": [
    "# load data\n",
    "filepath = \"/envau/work/invibe/USERS/IBOS/data/Riesling/TSCM/OpenEphys/session_struct/lip/spikes/2023-03-17_10-11-51_Riesling_lip_e1_r1_sp.h5\"  #2023-02-27_10-50-03 2023-02-09_10-42-54 2023-03-21_10-40-02\n",
    "bhv_path = '/envau/work/invibe/USERS/IBOS/data/Riesling/TSCM/OpenEphys/session_struct/bhv/2023-03-17_10-11-51_Riesling_e1_r1_bhv.h5'\n",
    "s_path = os.path.normpath(filepath).split(os.sep)\n",
    "data = SpikeData.from_python_hdf5(filepath)\n",
    "bhv = BhvData.from_python_hdf5(bhv_path)"
   ]
  },
  {
   "cell_type": "code",
   "execution_count": 149,
   "metadata": {},
   "outputs": [
    {
     "name": "stdout",
     "output_type": "stream",
     "text": [
      "Number of clusters: 10\n"
     ]
    }
   ],
   "source": [
    "# Select trials and create task frame\n",
    "block = 1\n",
    "trials_block = np.where(np.logical_and(data.trial_error == 0, data.block == block))[0]\n",
    "print(\"Number of clusters: %d\" % len(data.clustersgroup))"
   ]
  },
  {
   "cell_type": "code",
   "execution_count": 150,
   "metadata": {},
   "outputs": [],
   "source": [
    "if np.any(np.isnan(data.neuron_cond)):\n",
    "    neuron_cond = np.ones(len(data.clustersgroup))\n",
    "else:\n",
    "    neuron_cond = data.neuron_cond\n",
    "task = def_task.create_task_frame(\n",
    "    condition=bhv.condition[trials_block],\n",
    "    test_stimuli=bhv.test_stimuli[trials_block],\n",
    "    samples_cond=task_constants.SAMPLES_COND,\n",
    "    neuron_cond=neuron_cond,\n",
    ")"
   ]
  },
  {
   "cell_type": "code",
   "execution_count": 151,
   "metadata": {},
   "outputs": [],
   "source": [
    "sp_samples = data.sp_samples\n",
    "neuron_type = data.clustersgroup\n",
    "code_samples = data.code_samples\n",
    "code_numbers = data.code_numbers\n",
    "sp_samples = data.sp_samples\n",
    "\n",
    "fix_t = 200\n",
    "dur_v = 250\n",
    "st_m = 450 #800\n",
    "end_m = 900\n",
    "st_t = 900\n",
    "end_t = 900+450\n",
    "min_trials = 3\n",
    "n_spikes_sec = 5\n",
    "p_threshold = 0.05\n",
    "vm_threshold = 0.4"
   ]
  },
  {
   "cell_type": "code",
   "execution_count": 152,
   "metadata": {},
   "outputs": [],
   "source": [
    "shifts_on = code_samples[:,3]  \n",
    "shifts_on = shifts_on[:,np.newaxis]\n",
    "shifts_test = code_samples[:,6]\n",
    "shifts_test = shifts_test[:,np.newaxis]\n",
    "shifts_test = np.where(np.isnan(shifts_test),0,shifts_test)\n",
    "sp_shift_on = SpikeData.indep_roll(sp_samples, -(shifts_on-fix_t).astype(int), axis=2)[:,:,:end_m+fix_t]\n",
    "sp_shift_test = SpikeData.indep_roll(sp_samples, -(shifts_test).astype(int), axis=2)[:,:,:450]\n",
    "sp_shift = np.concatenate([sp_shift_on,sp_shift_test],axis=2)"
   ]
  },
  {
   "cell_type": "markdown",
   "metadata": {},
   "source": [
    "#### Select responding neurons and check rf"
   ]
  },
  {
   "cell_type": "code",
   "execution_count": 153,
   "metadata": {},
   "outputs": [],
   "source": [
    "neurons_info = get_neurons_info(sp_shift,fix_t,neuron_type,task,dur_v=dur_v,st_m=st_m,end_m=end_m,st_t=st_t,end_t=end_t,min_trials=min_trials,n_spikes_sec=n_spikes_sec)\n",
    "neurons_info = neurons_info[(neurons_info['p']<0.05)& (neurons_info['larger']==True)] # responding neurons\n"
   ]
  },
  {
   "cell_type": "markdown",
   "metadata": {},
   "source": [
    "#### Compute vm index"
   ]
  },
  {
   "cell_type": "code",
   "execution_count": 154,
   "metadata": {},
   "outputs": [],
   "source": [
    "neurons_info = neurons_info[neurons_info[\"in_out\"]==neurons_info[\"true_in_out\"]]\n",
    "neurons_info = neurons_info[(np.logical_and(neurons_info[\"p_v\"]<0.05,neurons_info[\"v_larger\"]==True)) | (np.logical_and(neurons_info[\"p_p\"]<0.05,neurons_info[\"p_larger\"]==True))]"
   ]
  },
  {
   "cell_type": "code",
   "execution_count": 142,
   "metadata": {},
   "outputs": [
    {
     "data": {
      "text/html": [
       "<div>\n",
       "<style scoped>\n",
       "    .dataframe tbody tr th:only-of-type {\n",
       "        vertical-align: middle;\n",
       "    }\n",
       "\n",
       "    .dataframe tbody tr th {\n",
       "        vertical-align: top;\n",
       "    }\n",
       "\n",
       "    .dataframe thead th {\n",
       "        text-align: right;\n",
       "    }\n",
       "</style>\n",
       "<table border=\"1\" class=\"dataframe\">\n",
       "  <thead>\n",
       "    <tr style=\"text-align: right;\">\n",
       "      <th></th>\n",
       "      <th>array_position</th>\n",
       "      <th>cluster</th>\n",
       "      <th>group</th>\n",
       "      <th>in_out</th>\n",
       "      <th>true_in_out</th>\n",
       "      <th>p</th>\n",
       "      <th>larger</th>\n",
       "      <th>v_larger</th>\n",
       "      <th>p_v</th>\n",
       "      <th>p_larger</th>\n",
       "      <th>p_p</th>\n",
       "    </tr>\n",
       "  </thead>\n",
       "  <tbody>\n",
       "    <tr>\n",
       "      <th>6</th>\n",
       "      <td>3</td>\n",
       "      <td>4</td>\n",
       "      <td>good</td>\n",
       "      <td>in</td>\n",
       "      <td>in</td>\n",
       "      <td>4.186223e-06</td>\n",
       "      <td>True</td>\n",
       "      <td>False</td>\n",
       "      <td>3.956539e-05</td>\n",
       "      <td>True</td>\n",
       "      <td>0.003817</td>\n",
       "    </tr>\n",
       "    <tr>\n",
       "      <th>8</th>\n",
       "      <td>4</td>\n",
       "      <td>1</td>\n",
       "      <td>mua</td>\n",
       "      <td>in</td>\n",
       "      <td>in</td>\n",
       "      <td>1.534534e-05</td>\n",
       "      <td>True</td>\n",
       "      <td>False</td>\n",
       "      <td>6.402042e-01</td>\n",
       "      <td>True</td>\n",
       "      <td>0.000669</td>\n",
       "    </tr>\n",
       "    <tr>\n",
       "      <th>12</th>\n",
       "      <td>6</td>\n",
       "      <td>2</td>\n",
       "      <td>mua</td>\n",
       "      <td>in</td>\n",
       "      <td>in</td>\n",
       "      <td>7.456515e-06</td>\n",
       "      <td>True</td>\n",
       "      <td>True</td>\n",
       "      <td>2.163197e-01</td>\n",
       "      <td>True</td>\n",
       "      <td>0.000122</td>\n",
       "    </tr>\n",
       "    <tr>\n",
       "      <th>14</th>\n",
       "      <td>7</td>\n",
       "      <td>3</td>\n",
       "      <td>mua</td>\n",
       "      <td>in</td>\n",
       "      <td>in</td>\n",
       "      <td>1.197297e-09</td>\n",
       "      <td>True</td>\n",
       "      <td>True</td>\n",
       "      <td>1.021010e-08</td>\n",
       "      <td>True</td>\n",
       "      <td>0.000010</td>\n",
       "    </tr>\n",
       "    <tr>\n",
       "      <th>16</th>\n",
       "      <td>8</td>\n",
       "      <td>6</td>\n",
       "      <td>good</td>\n",
       "      <td>in</td>\n",
       "      <td>in</td>\n",
       "      <td>5.780027e-03</td>\n",
       "      <td>True</td>\n",
       "      <td>True</td>\n",
       "      <td>2.209263e-02</td>\n",
       "      <td>True</td>\n",
       "      <td>0.125446</td>\n",
       "    </tr>\n",
       "  </tbody>\n",
       "</table>\n",
       "</div>"
      ],
      "text/plain": [
       "    array_position  cluster group in_out true_in_out             p  larger  \\\n",
       "6                3        4  good     in          in  4.186223e-06    True   \n",
       "8                4        1   mua     in          in  1.534534e-05    True   \n",
       "12               6        2   mua     in          in  7.456515e-06    True   \n",
       "14               7        3   mua     in          in  1.197297e-09    True   \n",
       "16               8        6  good     in          in  5.780027e-03    True   \n",
       "\n",
       "    v_larger           p_v  p_larger       p_p  \n",
       "6      False  3.956539e-05      True  0.003817  \n",
       "8      False  6.402042e-01      True  0.000669  \n",
       "12      True  2.163197e-01      True  0.000122  \n",
       "14      True  1.021010e-08      True  0.000010  \n",
       "16      True  2.209263e-02      True  0.125446  "
      ]
     },
     "execution_count": 142,
     "metadata": {},
     "output_type": "execute_result"
    }
   ],
   "source": [
    "neurons_info"
   ]
  },
  {
   "cell_type": "code",
   "execution_count": null,
   "metadata": {},
   "outputs": [],
   "source": [
    "def get_vm_index(th_rf,target_codes,sp_samples,sp_bl,align_event,fix_t,dur_v,st_m,end_m,n_spikes_sec,min_trials):\n",
    "    test_vm:Dict[str,list] = defaultdict(list)\n",
    "    for _, row in th_rf.iterrows():\n",
    "        i_neuron = row['array_position']\n",
    "        code = row['code']\n",
    "        vm_index=np.nan\n",
    "        sig_type=np.nan\n",
    "        # select trials\n",
    "\n",
    "        target_t_idx = np.array(target_codes[code][\"trial_idx\"]) # select trials with the same stimulus\n",
    "        target_t_idx = target_t_idx[(sp_samples[target_t_idx,i_neuron].sum(axis=1)>0)]\n",
    "        all_trials_sp = []\n",
    "        for i_code in target_codes.keys():\n",
    "            all_trials = np.array(target_codes[i_code][\"trial_idx\"]) # select trials with the same stimulus\n",
    "            all_trials = all_trials[(sp_samples[all_trials,i_neuron].sum(axis=1)>0)]\n",
    "            all_trials = sp_samples[all_trials,i_neuron]#.mean(axis=0)\n",
    "\n",
    "            all_trials_sp.append([all_trials[:,50:dur_v].mean(),all_trials[:,st_m:end_m].mean()])\n",
    "\n",
    "        all_trials_sp = np.concatenate(all_trials_sp)\n",
    "        min_sp = np.nanmin(all_trials_sp)\n",
    "        max_sp = np.nanmax(all_trials_sp)-min_sp\n",
    "\n",
    "        if target_t_idx.shape[0]<=min_trials:\n",
    "            next_idx,prev_idx = get_trials(code,target_codes)\n",
    "            n_tr_min = np.min([len(next_idx),len(prev_idx)])\n",
    "            rng = np.random.default_rng(seed=seed)\n",
    "            next_idx=rng.choice(next_idx, size=n_tr_min, replace=False)\n",
    "            prev_idx=rng.choice(prev_idx, size=n_tr_min, replace=False)\n",
    "            target_t_idx = np.concatenate([target_t_idx,next_idx,prev_idx])  \n",
    "            target_t_idx = target_t_idx[(sp_samples[target_t_idx,i_neuron].sum(axis=1)>0)]\n",
    "        if target_t_idx.shape[0]>=min_trials:\n",
    "            sp_code = sp_samples[target_t_idx,i_neuron]# Select trials with at least  5 spikes/sec\n",
    "            sp_bl_code = sp_bl[target_t_idx,i_neuron,:200]\n",
    "\n",
    "            sp_trial_avg = sp_code.mean(axis=0)\n",
    "            v_mean=((sp_trial_avg[ 50:dur_v].mean()-min_sp)/max_sp)\n",
    "            m_mean=((sp_trial_avg[ st_m:end_m].mean()-min_sp)/max_sp)\n",
    "            vm_index = (m_mean-v_mean)/(v_mean+m_mean)\n",
    "            if vm_index <=0: sig_type = \"visual\"\n",
    "            else: sig_type=\"anticipation\" \n",
    "        # save results\n",
    "        test_vm['code']+=[code]\n",
    "        test_vm['array_position']+=[i_neuron]\n",
    "        test_vm['vm_index']+=[vm_index]\n",
    "        test_vm['sig_type']+=[sig_type]  \n",
    "        test_vm['cluster']+=[row['cluster']]\n",
    "        test_vm['group']+=[row['group']]\n",
    "        test_vm['p_v']+=[row['p_v'] ]  \n",
    "        test_vm['v_larger']+=[row['v_larger']] \n",
    "        test_vm['p_p']+=[row['p_p'] ]  \n",
    "        test_vm['p_larger']+=[row['p_larger']] \n",
    "    test_vm = pd.DataFrame(test_vm)\n",
    "    return test_vm"
   ]
  }
 ],
 "metadata": {
  "kernelspec": {
   "display_name": "EphysVibe-48n-7Gof",
   "language": "python",
   "name": "python3"
  },
  "language_info": {
   "codemirror_mode": {
    "name": "ipython",
    "version": 3
   },
   "file_extension": ".py",
   "mimetype": "text/x-python",
   "name": "python",
   "nbconvert_exporter": "python",
   "pygments_lexer": "ipython3",
   "version": "3.8.10"
  },
  "orig_nbformat": 4
 },
 "nbformat": 4,
 "nbformat_minor": 2
}
