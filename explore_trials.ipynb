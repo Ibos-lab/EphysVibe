{
 "cells": [
  {
   "cell_type": "code",
   "execution_count": 22,
   "metadata": {},
   "outputs": [],
   "source": [
    "import numpy as np\n",
    "from ephysvibe.structures.trials_data import TrialsData\n",
    "from ephysvibe.task import task_constants\n",
    "from matplotlib import pyplot as plt\n",
    "from collections import defaultdict\n",
    "import pandas as pd\n",
    "from typing import Dict"
   ]
  },
  {
   "attachments": {},
   "cell_type": "markdown",
   "metadata": {},
   "source": [
    "#### Read trials data (sp + bhv)"
   ]
  },
  {
   "cell_type": "code",
   "execution_count": 2,
   "metadata": {},
   "outputs": [],
   "source": [
    "path = \"C:/Users/camil/Documents/int/data/session_struct/Riesling/v4/2023-01-20_11-00-24_Riesling_v4_e1_r1.h5\"\n",
    "data = TrialsData.from_python_hdf5(path)"
   ]
  },
  {
   "cell_type": "code",
   "execution_count": 3,
   "metadata": {},
   "outputs": [
    {
     "name": "stdout",
     "output_type": "stream",
     "text": [
      "Number of trials: 1087, neurons: 26, timestamps: 7983\n"
     ]
    }
   ],
   "source": [
    "s=data.sp_samples.shape\n",
    "print('Number of trials: %d, neurons: %d, timestamps: %d'%(s[0],s[1],s[2]))"
   ]
  },
  {
   "cell_type": "code",
   "execution_count": 4,
   "metadata": {},
   "outputs": [
    {
     "name": "stdout",
     "output_type": "stream",
     "text": [
      "Number of correct trials: 486\n",
      "Number of correct trials in block 2: 80\n",
      "Number of correct trials in block 1: 406\n"
     ]
    }
   ],
   "source": [
    "# select correct trials, block 2, block 1\n",
    "idx_trials = np.where(data.trial_error == 0)[0]\n",
    "correct = data.sp_samples[idx_trials]\n",
    "print('Number of correct trials: %d'%(correct.shape[0]))\n",
    "idx_trials_b2 = np.where(np.logical_and(data.trial_error == 0, data.block==2))[0]\n",
    "print('Number of correct trials in block 2: %d'%(data.sp_samples[idx_trials_b2].shape[0]))\n",
    "idx_trials_b1 = np.where(np.logical_and(data.trial_error == 0, data.block==1))[0]\n",
    "print('Number of correct trials in block 1: %d'%(data.sp_samples[idx_trials_b1].shape[0]))"
   ]
  },
  {
   "cell_type": "code",
   "execution_count": 58,
   "metadata": {},
   "outputs": [],
   "source": [
    "# Select trials when a specific sample is presented\n",
    "o1_c1_in=task_constants.SAMPLES_COND['o1_c5_in']\n",
    "trials_o1_c1_in=np.where(np.logical_and(np.logical_and(data.trial_error == 0, data.block==1),np.in1d(data.condition,o1_c1_in)))[0]\n"
   ]
  },
  {
   "cell_type": "code",
   "execution_count": 59,
   "metadata": {},
   "outputs": [],
   "source": [
    "def indep_roll(arr, shifts, axis=1):\n",
    "    \"\"\"Apply an independent roll for each dimensions of a single axis.\n",
    "\n",
    "    Parameters\n",
    "    ----------\n",
    "    arr : np.ndarray\n",
    "        Array of any shape.\n",
    "\n",
    "    shifts : np.ndarray\n",
    "        How many shifting to use for each dimension. Shape: `(arr.shape[axis],)`.\n",
    "\n",
    "    axis : int\n",
    "        Axis along which elements are shifted. \n",
    "    \"\"\"\n",
    "    arr = np.swapaxes(arr,axis,-1)\n",
    "    all_idcs = np.ogrid[[slice(0,n) for n in arr.shape]]\n",
    "\n",
    "    # Convert to a positive shift\n",
    "    shifts[shifts < 0] += arr.shape[-1] \n",
    "    all_idcs[-1] = all_idcs[-1] - shifts[:, np.newaxis]\n",
    "\n",
    "    result = arr[tuple(all_idcs)]\n",
    "    arr = np.swapaxes(result,-1,axis)\n",
    "    return arr"
   ]
  },
  {
   "cell_type": "code",
   "execution_count": 62,
   "metadata": {},
   "outputs": [],
   "source": [
    "neurons = np.where(data.clustersgroup == \"good\")[0]"
   ]
  },
  {
   "cell_type": "code",
   "execution_count": 63,
   "metadata": {},
   "outputs": [
    {
     "data": {
      "text/plain": [
       "<matplotlib.collections.PathCollection at 0x12be31e1250>"
      ]
     },
     "execution_count": 63,
     "metadata": {},
     "output_type": "execute_result"
    },
    {
     "data": {
      "image/png": "[encoded data removed]",
      "text/plain": [
       "<Figure size 1000x500 with 1 Axes>"
      ]
     },
     "metadata": {},
     "output_type": "display_data"
    }
   ],
   "source": [
    "# Plot spikes\n",
    "idx_sample_on=data.code_samples[trials_o1_c1_in,np.where(data.code_numbers[trials_o1_c1_in]== 23)[1]].astype(int)\n",
    "neuron = neurons[1]-1\n",
    "shift_sp = indep_roll(data.sp_samples[trials_o1_c1_in,neuron,:], -(idx_sample_on+1-200), axis=1)[:,:1200]\n",
    "fig,ax = plt.subplots(figsize=(10,5))\n",
    "rows,cols = np.where(shift_sp==1)\n",
    "ax.scatter(cols,rows, marker='|')"
   ]
  },
  {
   "cell_type": "code",
   "execution_count": 33,
   "metadata": {},
   "outputs": [],
   "source": [
    "task: Dict[str, list] = defaultdict(list)\n",
    "for key_cond, n_cond in task_constants.SAMPLES_COND.items():\n",
    "    idx = np.where(np.in1d(data.condition[idx_trials_b1],n_cond))[0]\n",
    "    n_test_stimuli = np.sum(~np.isnan(data.test_stimuli[idx_trials_b1[idx]]),axis=1)\n",
    "    code = 7 - (n_cond[-1] - data.condition[idx_trials_b1[idx]])\n",
    "    sample = np.where(np.logical_and(code==7,n_test_stimuli==5),\"o0_c0\",key_cond[:5])\n",
    "    \n",
    "    task[\"trial_idx\"] += idx.tolist()\n",
    "    task[\"sample\"] += sample.tolist()\n",
    "    task[\"in_out\"] += [key_cond[6:]]*len(idx)\n",
    "    task[\"n_test_stimuli\"] += n_test_stimuli.tolist()\n",
    "    task[\"code\"] += code.astype(int).tolist()\n",
    "pd.DataFrame(task)"
   ]
  },
  {
   "cell_type": "code",
   "execution_count": 38,
   "metadata": {},
   "outputs": [
    {
     "data": {
      "text/plain": [
       "(26,)"
      ]
     },
     "execution_count": 38,
     "metadata": {},
     "output_type": "execute_result"
    }
   ],
   "source": [
    "data.clustersgroup.shape"
   ]
  },
  {
   "cell_type": "code",
   "execution_count": 11,
   "metadata": {},
   "outputs": [
    {
     "data": {
      "text/plain": [
       "array([[81., 52., 88., 33., 16.],\n",
       "       [32., 36., nan, nan, nan],\n",
       "       [22., 58., 23., 52., 64.],\n",
       "       ...,\n",
       "       [27., 48., nan, nan, nan],\n",
       "       [66., nan, nan, nan, nan],\n",
       "       [24., 74., nan, nan, nan]])"
      ]
     },
     "execution_count": 11,
     "metadata": {},
     "output_type": "execute_result"
    }
   ],
   "source": [
    "data.test_distractor[idx_trials_b1]"
   ]
  },
  {
   "attachments": {},
   "cell_type": "markdown",
   "metadata": {},
   "source": [
    "#### eyes"
   ]
  },
  {
   "cell_type": "code",
   "execution_count": null,
   "metadata": {},
   "outputs": [],
   "source": [
    "zero = np.nanargmin(np.abs(data.eye_ml[1,:,0]))\n",
    "tmp = np.where(np.abs(data.eye_ml[1,:,0])<=1)[0]\n",
    "one = tmp[np.nanargmin(data.eye_ml[1,tmp,0])]\n",
    "if data.eye_ml[1,one,0]<0:\n",
    "    mf = -1\n",
    "else:\n",
    "    mf = 1\n",
    "oezero = data.eyes_values[1,0,1000+zero]\n",
    "oeone = data.eyes_values[1,0,1000+one]\n",
    "slope = oeone - oezero\n",
    "plt.plot(data.eye_ml[1,:,0])\n",
    "plt.plot((data.eyes_values[0,1,1000:]-oezero)/np.abs(slope))"
   ]
  }
 ],
 "metadata": {
  "kernelspec": {
   "display_name": "EphysVibe-BeirVkCw",
   "language": "python",
   "name": "python3"
  },
  "language_info": {
   "codemirror_mode": {
    "name": "ipython",
    "version": 3
   },
   "file_extension": ".py",
   "mimetype": "text/x-python",
   "name": "python",
   "nbconvert_exporter": "python",
   "pygments_lexer": "ipython3",
   "version": "3.9.6"
  },
  "orig_nbformat": 4,
  "vscode": {
   "interpreter": {
    "hash": "ff7d43efeac86b953a119f00a195d34f7f440c0ab532f5f89f95bcc539dbd557"
   }
  }
 },
 "nbformat": 4,
 "nbformat_minor": 2
}
