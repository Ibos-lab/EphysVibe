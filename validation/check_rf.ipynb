{
 "cells": [
  {
   "cell_type": "code",
   "execution_count": 2,
   "metadata": {},
   "outputs": [],
   "source": [
    "from ephysvibe.structures.trials_data import TrialsData\n",
    "import numpy as np\n",
    "from pathlib import Path\n",
    "#import cv2\n",
    "import sys\n",
    "from matplotlib import pyplot as plt \n",
    "from matplotlib import image as mpimg \n",
    "import tkinter as tk\n",
    "import os"
   ]
  },
  {
   "cell_type": "code",
   "execution_count": 3,
   "metadata": {},
   "outputs": [],
   "source": [
    "path = \"/envau/work/invibe/USERS/IBOS/data/Riesling/TSCM/OpenEphys/session_struct/Riesling/lip/2022-11-28_10-23-27_Riesling_lip_e1_r1.h5\""
   ]
  },
  {
   "cell_type": "code",
   "execution_count": 4,
   "metadata": {},
   "outputs": [],
   "source": [
    "path_img = \"/envau/work/invibe/USERS/IBOS/data/Riesling/TSCM/OpenEphys/plots2/lip/2022-11-28_10-23-27_Riesling_lip_e1_r1_mua_1.jpg\""
   ]
  },
  {
   "cell_type": "code",
   "execution_count": 12,
   "metadata": {},
   "outputs": [],
   "source": [
    "data = TrialsData.from_python_hdf5(path)"
   ]
  },
  {
   "cell_type": "code",
   "execution_count": 14,
   "metadata": {},
   "outputs": [
    {
     "data": {
      "text/plain": [
       "array(['mua', 'mua', 'mua', 'mua', 'mua', 'mua', 'mua', 'good', 'good',\n",
       "       'good', 'mua', 'mua', 'mua', 'mua'], dtype='<U4')"
      ]
     },
     "execution_count": 14,
     "metadata": {},
     "output_type": "execute_result"
    }
   ],
   "source": [
    "data.clustersgroup"
   ]
  },
  {
   "cell_type": "code",
   "execution_count": 12,
   "metadata": {},
   "outputs": [],
   "source": [
    "datetime = \"2022-11-28_10-23-27\"\n",
    "area = \"lip\"\n",
    "subject = \"Riesling\"\n",
    "experiment = \"e1\"\n",
    "recording = \"r1\"\n",
    "data_path = \"/envau/work/invibe/USERS/IBOS/data/Riesling/TSCM/OpenEphys/session_struct/\"\n",
    "path_img = \"/envau/work/invibe/USERS/IBOS/data/Riesling/TSCM/OpenEphys/plots2/\"\n",
    "\n",
    "# define paths and read data/img\n",
    "path_id = datetime + \"_\" + subject + \"_\" + area + \"_\" + experiment + \"_\" + recording\n",
    "c_data_path = \"/\".join(\n",
    "    [os.path.normpath(data_path)] + [subject] + [area] + [path_id + \".h5\"]\n",
    ")"
   ]
  },
  {
   "cell_type": "code",
   "execution_count": 11,
   "metadata": {},
   "outputs": [
    {
     "ename": "TypeError",
     "evalue": "can only concatenate list (not \"str\") to list",
     "output_type": "error",
     "traceback": [
      "\u001b[0;31m---------------------------------------------------------------------------\u001b[0m",
      "\u001b[0;31mTypeError\u001b[0m                                 Traceback (most recent call last)",
      "Cell \u001b[0;32mIn[11], line 1\u001b[0m\n\u001b[0;32m----> 1\u001b[0m [path_id \u001b[39m+\u001b[39;49m \u001b[39m\"\u001b[39;49m\u001b[39m.h5\u001b[39;49m\u001b[39m\"\u001b[39;49m]\n",
      "\u001b[0;31mTypeError\u001b[0m: can only concatenate list (not \"str\") to list"
     ]
    }
   ],
   "source": [
    "[path_id + \".h5\"]"
   ]
  },
  {
   "cell_type": "code",
   "execution_count": null,
   "metadata": {},
   "outputs": [],
   "source": [
    "img = cv2.imread(path_img)\n",
    "cv2.imshow(\"ff\",img)\n",
    "cv2.waitKey(0)\n",
    "cv2.destroyAllWindows()"
   ]
  },
  {
   "cell_type": "code",
   "execution_count": null,
   "metadata": {},
   "outputs": [],
   "source": [
    "img = mpimg.imread(path_img)\n",
    "plt.imshow(img)\n",
    "plt.show()"
   ]
  },
  {
   "cell_type": "code",
   "execution_count": 7,
   "metadata": {},
   "outputs": [
    {
     "data": {
      "text/plain": [
       "['/envau/work/invibe/USERS/IBOS/data/Riesling/TSCM/OpenEphys/session_struct']"
      ]
     },
     "execution_count": 7,
     "metadata": {},
     "output_type": "execute_result"
    }
   ],
   "source": [
    " [os.path.normpath(data_path)]"
   ]
  }
 ],
 "metadata": {
  "kernelspec": {
   "display_name": "EphysVibe-48n-7Gof",
   "language": "python",
   "name": "python3"
  },
  "language_info": {
   "codemirror_mode": {
    "name": "ipython",
    "version": 3
   },
   "file_extension": ".py",
   "mimetype": "text/x-python",
   "name": "python",
   "nbconvert_exporter": "python",
   "pygments_lexer": "ipython3",
   "version": "3.8.10"
  },
  "orig_nbformat": 4,
  "vscode": {
   "interpreter": {
    "hash": "c0bc8c099b017ba9d073358cd61a0f952fda5c0927b42de8a275d5317edfe6cc"
   }
  }
 },
 "nbformat": 4,
 "nbformat_minor": 2
}
