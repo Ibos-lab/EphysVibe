{
 "cells": [
  {
   "cell_type": "code",
   "execution_count": 1,
   "metadata": {},
   "outputs": [],
   "source": [
    "from scipy.io import loadmat\n",
    "import h5py\n",
    "import re\n",
    "import numpy as np\n",
    "import validation"
   ]
  },
  {
   "cell_type": "code",
   "execution_count": 2,
   "metadata": {},
   "outputs": [],
   "source": [
    "py_filepath = 'C:/Users/camil/Documents/int/inVibe/results/Riesling/LIP/2022-06-09_10-40-34/2/Riesling_LIP_2022-06-09_10-40-34_2.npy'\n",
    "mat_filepath = \"C:/Users/camil/Documents/int/data/openephys/2022-06-09_10-40-34/Record Node 102/experiment1/recording1/220609_TSCM_grid_Riesling.mat\""
   ]
  },
  {
   "cell_type": "code",
   "execution_count": 3,
   "metadata": {},
   "outputs": [
    {
     "name": "stdout",
     "output_type": "stream",
     "text": [
      "dict_keys(['/data/NEURO/CodeNumbers', '/data/NEURO/CodeTimes', '/data/NEURO/Eyes/samples', '/data/NEURO/LFP/samples', '/data/NEURO/LFP/timestamps', '/data/NEURO/MUA', '/data/NEURO/Neuron'])\n",
      "dict_keys(['times', 'block', 'clusters_id', 'clustersch', 'clustersgroup', 'clusterdepth', 'code_numbers', 'code_times', 'eyes_sample', 'lfp_sample', 'timestamps'])\n",
      "dict_keys(['trial', 'AbsoluteTrialStartTime', 'Btn1', 'Btn10', 'Btn2', 'Btn3', 'Btn4', 'Btn5', 'Btn6', 'Btn7', 'Btn8', 'Btn9', 'Eye', 'Eye2', 'EyeExtra', 'Gen1', 'Gen10', 'Gen11', 'Gen12', 'Gen13', 'Gen14', 'Gen15', 'Gen16', 'Gen2', 'Gen3', 'Gen4', 'Gen5', 'Gen6', 'Gen7', 'Gen8', 'Gen9', 'Joystick', 'Joystick2', 'KeyInput', 'Mouse', 'PhotoDiode', 'SampleInterval', 'Touch', 'CodeNumbers', 'CodeTimes', 'Block', 'BlockCount', 'Condition', 'CycleRate', 'Angle', 'BackgroundColor', 'Info', 'Position1', 'Position2', 'Position3', 'Position4', 'Scale', 'Status', 'Time', 'Zorder', 'ReactionTime', 'EndTimes', 'StartTimes', 'Attribute11', 'Attribute12', 'Attribute13', 'Attribute21', 'Attribute22', 'Attribute23', 'Attribute24', 'Attribute25', 'Attribute26', 'Code', 'FrameByFrameMovie', 'Size', 'Trial', 'TrialDateTime', 'TrialError', 'TrialWithinBlock', 'SkippedFrameTimeInfo', 'Dist', 'Eye2Offset', 'EyeOffset', 'Fix_FP_T_time', 'Fix_FP_post_T_time', 'Fix_FP_pre_T_time', 'Fixclose', 'Fixfar', 'ITI_value', 'Reward_plus', 'X', 'Y', 'closeexc', 'delay_time', 'farexc', 'fix_post_sacc_blank', 'fix_time', 'fix_window_radius', 'idletime3', 'max_reaction_time', 'rand_delay_time', 'reward_dur', 'reward_sacc_dur', 'sample_time', 'stay_time', 'test_time', 'wait_for_fix', 'Ver'])\n"
     ]
    }
   ],
   "source": [
    "mat_res = validation.read_matlab_file(mat_filepath)\n",
    "py_f = np.load(py_filepath,allow_pickle=True)\n",
    "bhv= py_f[1]\n",
    "py_f = py_f[0]\n",
    "print(mat_res.keys())\n",
    "print(py_f.keys())\n",
    "print(bhv[0].keys())"
   ]
  },
  {
   "cell_type": "markdown",
   "metadata": {},
   "source": [
    "#### Check neurons and mua times"
   ]
  },
  {
   "cell_type": "code",
   "execution_count": 4,
   "metadata": {},
   "outputs": [],
   "source": [
    "start_idx = np.where(mat_res['/data/NEURO/CodeNumbers'].reshape(1,-1)[0]==9)[0]\n",
    "end_idx = np.where(mat_res['/data/NEURO/CodeNumbers'].reshape(1,-1)[0]==18)[0]\n",
    "start_timestamps = mat_res['/data/NEURO/CodeTimes'][0][start_idx]\n",
    "end_timestamps = mat_res['/data/NEURO/CodeTimes'][0][start_idx[1:]]\n",
    "end_timestamps = np.append(end_timestamps,[mat_res['/data/NEURO/LFP/timestamps'][0][-1]])"
   ]
  },
  {
   "cell_type": "code",
   "execution_count": 5,
   "metadata": {},
   "outputs": [
    {
     "name": "stdout",
     "output_type": "stream",
     "text": [
      "Number of neurons do match\n",
      "Number of mua do match\n",
      "Number of spikes do match\n",
      "Spike times do match\n"
     ]
    }
   ],
   "source": [
    "validation.check_spikes(mat_res, py_f, start_timestamps, end_timestamps)"
   ]
  }
 ],
 "metadata": {
  "kernelspec": {
   "display_name": "Python 3.9.15 ('PretreatOE')",
   "language": "python",
   "name": "python3"
  },
  "language_info": {
   "codemirror_mode": {
    "name": "ipython",
    "version": 3
   },
   "file_extension": ".py",
   "mimetype": "text/x-python",
   "name": "python",
   "nbconvert_exporter": "python",
   "pygments_lexer": "ipython3",
   "version": "3.9.15"
  },
  "orig_nbformat": 4,
  "vscode": {
   "interpreter": {
    "hash": "055da47436c086fde6d58b32daab45299fb2f1475cb116df200c2ca15360764f"
   }
  }
 },
 "nbformat": 4,
 "nbformat_minor": 2
}
