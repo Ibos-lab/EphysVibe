{
 "cells": [
  {
   "cell_type": "code",
   "execution_count": 1,
   "metadata": {},
   "outputs": [],
   "source": [
    "from scipy.io import loadmat\n",
    "import h5py\n",
    "import re\n",
    "import numpy as np\n",
    "import validation"
   ]
  },
  {
   "cell_type": "code",
   "execution_count": 6,
   "metadata": {},
   "outputs": [],
   "source": [
    "py_filepath = 'C:/Users/camil/Documents/int/inVibe/results/Riesling/LIP/2022-06-09_10-40-34/2/Riesling_LIP_2022-06-09_10-40-34_2.npy'\n",
    "mat_filepath = \"C:/Users/camil/Documents/int/data/openephys/2022-06-09_10-40-34/Record Node 102/experiment1/recording1/220609_TSCM_grid_Riesling.mat\""
   ]
  },
  {
   "cell_type": "code",
   "execution_count": 7,
   "metadata": {},
   "outputs": [
    {
     "name": "stdout",
     "output_type": "stream",
     "text": [
      "dict_keys(['/data/NEURO/CodeNumbers', '/data/NEURO/CodeTimes', '/data/NEURO/Eyes/samples', '/data/NEURO/LFP/samples', '/data/NEURO/LFP/timestamps', '/data/NEURO/MUA', '/data/NEURO/Neuron'])\n",
      "dict_keys(['times', 'block', 'clusters_id', 'clustersch', 'clustersgroup', 'clusterdepth', 'code_numbers', 'code_times', 'eyes_sample', 'lfp_sample', 'timestamps'])\n"
     ]
    }
   ],
   "source": [
    "mat_res = validation.read_matlab_file(mat_filepath)\n",
    "py_f = np.load(py_filepath,allow_pickle=True).item(0)\n",
    "print(mat_res.keys())\n",
    "print(py_f.keys())"
   ]
  },
  {
   "cell_type": "markdown",
   "metadata": {},
   "source": [
    "#### Check neurons and mua times"
   ]
  },
  {
   "cell_type": "code",
   "execution_count": 8,
   "metadata": {},
   "outputs": [],
   "source": [
    "start_idx = np.where(mat_res['/data/NEURO/CodeNumbers'].reshape(1,-1)[0]==9)[0]\n",
    "end_idx = np.where(mat_res['/data/NEURO/CodeNumbers'].reshape(1,-1)[0]==18)[0]\n",
    "start_timestamps = mat_res['/data/NEURO/CodeTimes'][0][start_idx]\n",
    "end_timestamps = mat_res['/data/NEURO/CodeTimes'][0][start_idx[1:]]\n",
    "end_timestamps = np.append(end_timestamps,[mat_res['/data/NEURO/LFP/timestamps'][0][-1]])"
   ]
  },
  {
   "cell_type": "code",
   "execution_count": 9,
   "metadata": {},
   "outputs": [
    {
     "name": "stdout",
     "output_type": "stream",
     "text": [
      "Number of neurons do match\n",
      "Number of mua do match\n",
      "Number of spikes do match\n",
      "Spike times do match\n"
     ]
    }
   ],
   "source": [
    "validation.check_spikes(mat_res, py_f, start_timestamps, end_timestamps)"
   ]
  },
  {
   "cell_type": "code",
   "execution_count": null,
   "metadata": {},
   "outputs": [],
   "source": []
  }
 ],
 "metadata": {
  "kernelspec": {
   "display_name": "Python 3.9.6 ('inVibe-e18Cp0hj')",
   "language": "python",
   "name": "python3"
  },
  "language_info": {
   "codemirror_mode": {
    "name": "ipython",
    "version": 3
   },
   "file_extension": ".py",
   "mimetype": "text/x-python",
   "name": "python",
   "nbconvert_exporter": "python",
   "pygments_lexer": "ipython3",
   "version": "3.9.6"
  },
  "orig_nbformat": 4,
  "vscode": {
   "interpreter": {
    "hash": "17712fdc7a60c57fe8d7cef139a5c95b7eb45623a32c468889860844ca64f214"
   }
  }
 },
 "nbformat": 4,
 "nbformat_minor": 2
}
